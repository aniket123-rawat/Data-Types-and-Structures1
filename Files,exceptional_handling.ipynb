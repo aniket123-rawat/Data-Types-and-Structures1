{
  "nbformat": 4,
  "nbformat_minor": 0,
  "metadata": {
    "colab": {
      "provenance": [],
      "toc_visible": true
    },
    "kernelspec": {
      "name": "python3",
      "display_name": "Python 3"
    },
    "language_info": {
      "name": "python"
    }
  },
  "cells": [
    {
      "cell_type": "markdown",
      "source": [
        "#Files, exceptional handling, logging and memory management\n",
        "\n"
      ],
      "metadata": {
        "id": "FdjCREB6FkKE"
      }
    },
    {
      "cell_type": "markdown",
      "source": [
        "***Theory_Questions***"
      ],
      "metadata": {
        "id": "3UbHYp7jGB1O"
      }
    },
    {
      "cell_type": "markdown",
      "source": [
        "  1. What is the difference between interpreted and compiled languages?"
      ],
      "metadata": {
        "id": "HRgz_O5GGMfk"
      }
    },
    {
      "cell_type": "markdown",
      "source": [
        "  Ans.The fundamental difference is that compiled languages are fully translated into machine code before execution, creating a standalone executable file, while interpreted languages are translated and executed line-by-line during runtime by an interpreter program"
      ],
      "metadata": {
        "id": "CIqXwci1GizR"
      }
    },
    {
      "cell_type": "markdown",
      "source": [
        "  2. What is exception handling in Python?"
      ],
      "metadata": {
        "id": "j1aEFiodG0VM"
      }
    },
    {
      "cell_type": "markdown",
      "source": [
        "  Ans. Exception handling in Python is a mechanism that allows programs to gracefully manage and respond to runtime errors, known as exceptions, instead of crashing abruptly. It ensures the program's robustness and prevents unexpected termination when an error occurs.\n",
        "\n",
        "#Key Components of Exception Handling:\n",
        "\n",
        "1. try block:\n",
        "\n",
        "This block contains the code that might potentially raise an exception.\n",
        "\n",
        "2. except block:\n",
        "\n",
        "This block specifies the code to be executed if a particular type of exception (or any exception) occurs within the corresponding try block. You can have multiple except blocks to handle different types of exceptions.\n",
        "\n",
        "3. else block (optional):\n",
        "\n",
        "This block is executed if the code inside the try block runs without raising any exceptions.\n",
        "\n",
        "4. finally block (optional):\n",
        "\n",
        "This block is always executed, regardless of whether an exception occurred or not. It is typically used for cleanup operations, such as closing files or releasing resources."
      ],
      "metadata": {
        "id": "8oWCmtyfHYI7"
      }
    },
    {
      "cell_type": "markdown",
      "source": [
        "  3. What is the purpose of the finally block in exception handling?"
      ],
      "metadata": {
        "id": "J4dEY9BUIBRN"
      }
    },
    {
      "cell_type": "markdown",
      "source": [
        "  Ans. The primary purpose of a finally block is to guarantee the execution of critical cleanup code, such as closing files, network connections, or database connections, regardless of whether an exception was thrown or caught in the try block. This ensures that resources are properly released, preventing resource leaks and improving the stability and robustness of the program, even when the program exits prematurely from the try or catch blocks."
      ],
      "metadata": {
        "id": "m3Vjje6QINWN"
      }
    },
    {
      "cell_type": "markdown",
      "source": [
        "  4. What is logging in Python?"
      ],
      "metadata": {
        "id": "Tl8IHeBZIapV"
      }
    },
    {
      "cell_type": "markdown",
      "source": [
        "  Ans. Logging in Python is a mechanism for tracking events that occur while a program is running. It provides a structured and efficient way to record information about the application's execution, including errors, warnings, and other significant events. This information, known as logs, is crucial for debugging, monitoring performance, and understanding the application's behavior."
      ],
      "metadata": {
        "id": "ib8sCtzKIoTX"
      }
    },
    {
      "cell_type": "markdown",
      "source": [
        "  5. What is the significance of the __del__ method in Python?"
      ],
      "metadata": {
        "id": "jsffUvHJJcJr"
      }
    },
    {
      "cell_type": "markdown",
      "source": [
        "  Ans. The __del__ method in Python, often referred to as a destructor, holds significance primarily in resource management and cleanup when an object is about to be destroyed."
      ],
      "metadata": {
        "id": "3HpwXx7rJxSD"
      }
    },
    {
      "cell_type": "markdown",
      "source": [
        "  6.  What is the difference between import and from ... import in Python?"
      ],
      "metadata": {
        "id": "x7B9S5yUJ_SW"
      }
    },
    {
      "cell_type": "markdown",
      "source": [
        "  Ans. In Python, both import and from ... import statements are used to bring modules or specific components from modules into the current namespace, but they differ in how they achieve this:\n",
        "\n",
        "#import module_name:\n",
        "This statement imports the entire module_name and makes it available as an object in the current namespace.\n",
        "\n",
        "To access any function, class, or variable within that module, you must prefix it with the module name and a dot (e.g., module_name.function()).\n",
        "\n",
        "This approach avoids naming conflicts if multiple modules contain elements with the same name, as each element is clearly associated with its originating module."
      ],
      "metadata": {
        "id": "R8DTLa_rKJpr"
      }
    },
    {
      "cell_type": "code",
      "source": [
        "    import math\n",
        "    result = math.sqrt(25)\n",
        "    print(result)"
      ],
      "metadata": {
        "colab": {
          "base_uri": "https://localhost:8080/"
        },
        "id": "Cpg9rjT7KtDA",
        "outputId": "b46a1d88-e71b-4053-e3f1-356e2037f0f9"
      },
      "execution_count": 1,
      "outputs": [
        {
          "output_type": "stream",
          "name": "stdout",
          "text": [
            "5.0\n"
          ]
        }
      ]
    },
    {
      "cell_type": "markdown",
      "source": [
        "#from module_name import specific_item:\n",
        "\n",
        "This statement imports only the specific_item (e.g., a function, class, or variable) from module_name directly into the current namespace.\n",
        "\n",
        "You can then use the specific_item directly without needing to prefix it with the module name.\n",
        "\n",
        "This can lead to naming conflicts if you import items with the same name from different modules or if they conflict with existing names in your current script."
      ],
      "metadata": {
        "id": "DfXwp9GxK3DN"
      }
    },
    {
      "cell_type": "code",
      "source": [
        "    from math import sqrt\n",
        "    result = sqrt(25)\n",
        "    print(result)"
      ],
      "metadata": {
        "colab": {
          "base_uri": "https://localhost:8080/"
        },
        "id": "hsZ-gDgkLCG0",
        "outputId": "084b26ba-942d-4fd8-fd5a-e83e32e0d9c2"
      },
      "execution_count": 3,
      "outputs": [
        {
          "output_type": "stream",
          "name": "stdout",
          "text": [
            "5.0\n"
          ]
        }
      ]
    },
    {
      "cell_type": "markdown",
      "source": [
        "  7.  How can you handle multiple exceptions in Python?\n"
      ],
      "metadata": {
        "id": "gUuOJAEULlQL"
      }
    },
    {
      "cell_type": "markdown",
      "source": [
        "  Ans. In Python, multiple exceptions can be handled within try-except blocks using a few different approaches:\n",
        "\n",
        "1. Handling Multiple Exceptions with a Single except Block:\n",
        "\n",
        "You can catch multiple exception types in a single except block by providing them as a tuple. This is useful when you want to handle several different exceptions in the same way."
      ],
      "metadata": {
        "id": "3dY3BZz5Lt9P"
      }
    },
    {
      "cell_type": "code",
      "source": [
        "try:\n",
        "    # Code that might raise exceptions\n",
        "    value = int(input(\"Enter a number: \"))\n",
        "    result = 10 / value\n",
        "    print(result)\n",
        "except (ValueError, ZeroDivisionError) as e:\n",
        "    print(f\"An error occurred: {e}\")\n",
        "    print(\"Please ensure you enter a valid non-zero number.\")"
      ],
      "metadata": {
        "colab": {
          "base_uri": "https://localhost:8080/"
        },
        "id": "ZDRVexpvMEji",
        "outputId": "4a082580-3318-4347-f1ea-c677bc91d0c4"
      },
      "execution_count": 4,
      "outputs": [
        {
          "output_type": "stream",
          "name": "stdout",
          "text": [
            "Enter a number: 5\n",
            "2.0\n"
          ]
        }
      ]
    },
    {
      "cell_type": "markdown",
      "source": [
        "2. Handling Multiple Exceptions with Separate except Blocks:\n",
        "\n",
        "If you need to handle different exception types with distinct logic, you can use separate except blocks for each exception. The first except block that matches the raised exception will be executed."
      ],
      "metadata": {
        "id": "9tTwImvZMPOQ"
      }
    },
    {
      "cell_type": "code",
      "source": [
        "try:\n",
        "    # Code that might raise exceptions\n",
        "    value = int(input(\"Enter a number: \"))\n",
        "    result = 10 / value\n",
        "    print(result)\n",
        "except ValueError:\n",
        "    print(\"Invalid input. Please enter an integer.\")\n",
        "except ZeroDivisionError:\n",
        "    print(\"Cannot divide by zero. Please enter a non-zero number.\")\n",
        "except Exception as e: # Catch any other unexpected exceptions\n",
        "    print(f\"An unexpected error occurred: {e}\")"
      ],
      "metadata": {
        "colab": {
          "base_uri": "https://localhost:8080/"
        },
        "id": "d9GYUDbUMflZ",
        "outputId": "ff1fd986-e991-4b3c-ad6b-389a383bc142"
      },
      "execution_count": 5,
      "outputs": [
        {
          "output_type": "stream",
          "name": "stdout",
          "text": [
            "Enter a number: 5\n",
            "2.0\n"
          ]
        }
      ]
    },
    {
      "cell_type": "markdown",
      "source": [
        "  8. What is the purpose of the with statement when handling files in Python?"
      ],
      "metadata": {
        "id": "L9hu5TryM3an"
      }
    },
    {
      "cell_type": "markdown",
      "source": [
        "  Ans. The with statement in Python, when handling files, serves the primary purpose of ensuring proper resource management and simplifying file operations, particularly by guaranteeing that files are automatically closed even if errors occur."
      ],
      "metadata": {
        "id": "ELxEhERfNF_t"
      }
    },
    {
      "cell_type": "markdown",
      "source": [
        "  9.  What is the difference between multithreading and multiprocessing?"
      ],
      "metadata": {
        "id": "_YX-eVNZNgKN"
      }
    },
    {
      "cell_type": "markdown",
      "source": [
        "  Ans. Multiprocessing runs independent processes on multiple CPUs for true parallelism, ideal for CPU-bound tasks, while multithreading runs multiple threads within a single process, sharing memory for better concurrency and throughput, suitable for I/O-bound tasks.\n",
        "  \n",
        "  The fundamental difference is that processes have separate memory spaces, making them isolated and robust, whereas threads share a process's memory, making them lightweight and efficient but potentially vulnerable to race conditions if not managed carefully."
      ],
      "metadata": {
        "id": "xzy7ymX0Nl7J"
      }
    },
    {
      "cell_type": "markdown",
      "source": [
        "  10. What are the advantages of using logging in a program?"
      ],
      "metadata": {
        "id": "X7NfEP72Owe-"
      }
    },
    {
      "cell_type": "markdown",
      "source": [
        "  Ans. Using logging in a program offers several significant advantages:\n",
        "\n",
        "#Debugging and Troubleshooting:\n",
        "\n",
        "Logs provide a detailed record of application execution, including variable values, function calls, and error messages. This information is crucial for identifying the root cause of bugs and system failures, especially in production environments where direct debugging might not be possible.\n",
        "\n",
        "#Performance Monitoring:\n",
        "\n",
        "Logging can track key performance indicators, such as request processing times, resource utilization, and database query durations. This data helps in identifying performance bottlenecks and optimizing application efficiency.\n",
        "\n",
        "#Security Auditing and Compliance:\n",
        "\n",
        "Logs can record security-sensitive events like user logins, access attempts, and data modifications. This provides an audit trail for security investigations, helps detect unauthorized activity, and assists in meeting regulatory compliance requirements.\n",
        "etc.."
      ],
      "metadata": {
        "id": "LjRsMVv7O2VE"
      }
    },
    {
      "cell_type": "markdown",
      "source": [
        "  11. What is memory management in Python?"
      ],
      "metadata": {
        "id": "18BLjr8VP23p"
      }
    },
    {
      "cell_type": "markdown",
      "source": [
        "  Ans. Python memory management is the process of allocating and dealing with memory so that your programs can run efficiently. One advantage of Python, compared to other programming languages, is that it can perform memory management tasks automatically"
      ],
      "metadata": {
        "id": "dNOXdI6oQARC"
      }
    },
    {
      "cell_type": "markdown",
      "source": [
        "  12. What are the basic steps involved in exception handling in Python?"
      ],
      "metadata": {
        "id": "wV8HXi4hQSV0"
      }
    },
    {
      "cell_type": "markdown",
      "source": [
        "  Ans. The basic steps involved in exception handling in Python utilize the try, except, else, and finally blocks.\n",
        "\n",
        "#try block:\n",
        " This block contains the code that might potentially raise an exception. Python attempts to execute the code within this block. If an exception occurs during execution, the remaining code in the try block is skipped, and the program flow moves to the except block.\n",
        "\n",
        "#except block:\n",
        " This block is executed if an exception is raised in the corresponding try block. It allows you to define how to handle specific types of exceptions or a general exception. You can have multiple except blocks to handle different types of exceptions separately.\n",
        "\n",
        "#else block (Optional):\n",
        " This block is executed only if no exception was raised in the try block. It provides a way to execute code that should only run when the try block completes successfully.\n",
        "\n",
        "#finally block (Optional):\n",
        " This block contains code that will always be executed, regardless of whether an exception occurred in the try block or not. It is typically used for cleanup operations, such as closing files or releasing resources.\n",
        "\n",
        "\n"
      ],
      "metadata": {
        "id": "SXwZnP_aQX4F"
      }
    },
    {
      "cell_type": "markdown",
      "source": [
        "  13. Why is memory management important in Python?"
      ],
      "metadata": {
        "id": "91YHP-LvRA03"
      }
    },
    {
      "cell_type": "markdown",
      "source": [
        "  Ans. Memory management is important in Python for several key reasons, even though Python handles much of it automatically:\n",
        "\n",
        "#Performance and Efficiency:\n",
        "\n",
        "Effective memory management ensures that programs use resources optimally. Improper management can lead to excessive memory consumption, slowing down applications and potentially causing performance bottlenecks, especially when dealing with large datasets or complex operations.\n",
        "\n",
        "#Preventing Memory Leaks:\n",
        "\n",
        "Understanding how Python allocates and deallocates memory helps in identifying and preventing memory leaks. A memory leak occurs when a program continuously consumes memory without releasing it, even when the memory is no longer needed. This can lead to system instability and crashes over time.\n",
        "\n",
        "#Writing Optimized Code:\n",
        "\n",
        "Knowledge of Python's memory model, including concepts like reference counting and garbage collection, allows developers to write more memory-efficient and optimized code. This involves understanding how objects are stored, when they are deallocated, and how to structure code to minimize unnecessary memory usage.\n",
        "\n",
        "#Debugging Memory-Related Issues:\n",
        "\n",
        "When memory-related problems arise, such as high memory usage or unexpected program termination, understanding Python's memory management mechanisms is crucial for effective debugging and resolution."
      ],
      "metadata": {
        "id": "r6eBQnTTRKT3"
      }
    },
    {
      "cell_type": "markdown",
      "source": [
        "  14.  What is the role of try and except in exception handling?"
      ],
      "metadata": {
        "id": "zmDTk21NRiXH"
      }
    },
    {
      "cell_type": "markdown",
      "source": [
        "  Ans. The try and except blocks in Python are fundamental components of exception handling, designed to manage errors that occur during program execution. Their primary role is to prevent program crashes due to unexpected issues and to provide a mechanism for gracefully handling these errors.\n",
        "\n",
        "#Role of try:\n",
        "\n",
        "The try block encloses the code segment where an exception is anticipated. This is the \"risky\" code that might potentially lead to an error.\n",
        "Python attempts to execute the code within the try block. If no exception occurs, the except block is skipped, and execution continues after the try-except structure.\n",
        "\n",
        "#Role of except:\n",
        "\n",
        "The except block is executed only if an exception is raised within the corresponding try block.\n",
        "It serves as the error-handling mechanism, providing a designated place to define what actions should be taken when a specific exception (or any exception, if not specified) occurs.\n",
        "\n",
        "This can involve printing an informative error message, logging the error, attempting to recover from the error, or taking alternative actions to ensure the program continues to run without terminating abruptly."
      ],
      "metadata": {
        "id": "wtwSSo2JRqC4"
      }
    },
    {
      "cell_type": "markdown",
      "source": [
        "  15. How does Python's garbage collection system work?\n"
      ],
      "metadata": {
        "id": "N7urHFRaR6Qj"
      }
    },
    {
      "cell_type": "markdown",
      "source": [
        "  Ans. Python's garbage collection system employs a hybrid approach combining reference counting and a generational garbage collector with cycle detection (using a mark-and-sweep algorithm).\n",
        "\n",
        "#Reference Counting:\n",
        "This is the primary and most immediate mechanism.\n",
        "Every object in Python maintains a \"reference count\" – an integer tracking how many references (variables, data structures, etc.) point to it.\n",
        "When an object is created, its reference count is typically 1.\n",
        "When a new reference to an object is created, its count increments. When a reference is removed or goes out of scope, the count decrements.\n",
        "If an object's reference count drops to zero, it means no part of the program can access it, and the object is immediately deallocated.\n",
        "\n",
        "#Generational Garbage Collector (with Cycle Detection):\n",
        "\n",
        "Reference counting alone cannot handle circular references (e.g., Object A references Object B, and Object B references Object A). In such cases, even if no external references point to the cycle, the objects within the cycle will have non-zero reference counts and won't be deallocated by reference counting.\n",
        "To address this, Python uses a generational garbage collector that divides objects into \"generations\" (typically three: 0, 1, and 2) based on their age.\n",
        "\n",
        "Generation 0:\n",
        "\n",
        " contains newly created objects. Objects that survive a garbage collection in one generation are promoted to the next older generation.\n",
        "The garbage collector runs more frequently on younger generations (Generation 0) because new objects are more likely to become garbage quickly. Older generations are collected less frequently.\n",
        "\n",
        "#Cycle Detection (Mark-and-Sweep):\n",
        " When a generational collection occurs, particularly in older generations, Python uses a mark-and-sweep algorithm:\n",
        "\n",
        "Mark Phase:\n",
        "\n",
        " The collector identifies all objects that are reachable from the program's root (active variables, global objects, etc.) and marks them as \"alive.\"\n",
        "\n",
        "Sweep Phase:\n",
        "\n",
        " It then scans through all objects and deallocates any unmarked objects, including those involved in circular references that are no longer reachable from the program."
      ],
      "metadata": {
        "id": "57BZtajISF5k"
      }
    },
    {
      "cell_type": "markdown",
      "source": [
        "  16. What is the purpose of the else block in exception handling?\n"
      ],
      "metadata": {
        "id": "3rvgjPDYSxxp"
      }
    },
    {
      "cell_type": "markdown",
      "source": [
        "  Ans. The else block in exception handling executes code only when the try block runs without raising any exceptions. Its purpose is to separate the main business logic (which might raise an exception) from the code that should run only if no exception occurs, thereby keeping the program flow clean and understandable.  \n"
      ],
      "metadata": {
        "id": "J1wDuylaS5oz"
      }
    },
    {
      "cell_type": "markdown",
      "source": [
        "  17. What are the common logging levels in Python?"
      ],
      "metadata": {
        "id": "saLFmj8KTEGE"
      }
    },
    {
      "cell_type": "markdown",
      "source": [
        "  Ans. Python's logging module provides several standard logging levels to categorize the severity of events. These levels, ordered from lowest to highest severity, are:\n",
        "\n",
        "DEBUG (10):\n",
        "\n",
        "Detailed information, typically of interest only when diagnosing problems. This level is usually used during development and for in-depth troubleshooting.\n",
        "\n",
        "INFO (20):\n",
        "\n",
        "Confirmation that things are working as expected. This level provides general information about the application's normal operation.\n",
        "\n",
        "WARNING (30):\n",
        "\n",
        "An indication that something unexpected happened, or indicative of a potential problem in the near future (e.g., 'disk space low'). The software is still working as expected.\n",
        "\n",
        "ERROR (40):\n",
        "\n",
        "A more serious problem, indicating that some function could not be performed. The application might still be running, but certain functionalities are impaired.\n",
        "\n",
        "CRITICAL (50):\n",
        "\n",
        "A severe error, indicating that the program itself may be unable to continue running or that a catastrophic failure has occurred."
      ],
      "metadata": {
        "id": "brYecTBxTKdn"
      }
    },
    {
      "cell_type": "markdown",
      "source": [
        "  18. What is the difference between os.fork() and multiprocessing in Python?"
      ],
      "metadata": {
        "id": "cLhoABenTaRV"
      }
    },
    {
      "cell_type": "markdown",
      "source": [
        "  Ans. os.fork() offers a direct, low-level way to create a copy of a process on Unix-like systems, potentially offering performance benefits due to shared memory pages (copy-on-write). However, it lacks portability and can be problematic with multi-threaded applications. The multiprocessing module provides a more robust, portable, and feature-rich framework for process-based parallelism in Python, offering different start methods and built-in IPC mechanisms. While it might have a slightly higher overhead for process creation compared to a raw fork, its advantages in terms of safety, portability, and ease of use typically make it the preferred choice for most Python applications requiring multiprocessing."
      ],
      "metadata": {
        "id": "a2EVQzCbThMj"
      }
    },
    {
      "cell_type": "markdown",
      "source": [
        "  19. What is the importance of closing a file in Python?"
      ],
      "metadata": {
        "id": "EQJ9OdJWTspl"
      }
    },
    {
      "cell_type": "markdown",
      "source": [
        "  Ans. closing files ensures proper resource management, guarantees data integrity, facilitates concurrent file access, and contributes to writing robust and reliable Python applications."
      ],
      "metadata": {
        "id": "XLN-MO-bTzTE"
      }
    },
    {
      "cell_type": "markdown",
      "source": [
        "  20.  What is the difference between file.read() and file.readline() in Python?"
      ],
      "metadata": {
        "id": "tEY-M4igT7TG"
      }
    },
    {
      "cell_type": "markdown",
      "source": [
        "  Ans. In Python, file.read() and file.readline() are both methods used to read data from a file object, but they differ in the amount of data they retrieve:\n",
        "\n",
        "file.read(size=-1):\n",
        "\n",
        " This method reads the entire content of the file and returns it as a single string. If an optional size argument is provided, it reads up to size characters (or bytes in binary mode) from the file. If size is omitted or is -1, the entire file content is read.\n",
        "\n",
        "file.readline(size=-1):\n",
        "\n",
        "This method reads a single line from the file and returns it as a string. It reads until it encounters a newline character (\\n) or reaches the end of the file. The newline character is included in the returned string. If an optional size argument is provided, it reads up to size characters from the line.\n"
      ],
      "metadata": {
        "id": "mCvsOri6UED6"
      }
    },
    {
      "cell_type": "markdown",
      "source": [
        " 21. What is the logging module in Python used for?"
      ],
      "metadata": {
        "id": "RJj3OI_9UVGO"
      }
    },
    {
      "cell_type": "markdown",
      "source": [
        "  Ans. The logging module in Python provides a flexible and powerful framework for emitting log messages from Python programs. It is used to track events that occur during the execution of a program, offering a structured and efficient way to record information for various purposes.\n",
        "\n",
        "#Key uses of the logging module:\n",
        "\n",
        "Debugging and Troubleshooting:\n",
        "\n",
        "Developers insert logging calls throughout their code to record the state of variables, the flow of execution, and potential error conditions. This helps in identifying and resolving issues more effectively than relying solely on print() statements.\n",
        "\n",
        "Application Monitoring and Analysis:\n",
        "\n",
        "Logging can be used to capture information about normal program operation, such as user interactions, resource usage, or performance metrics. This data can then be analyzed to understand application behavior, identify trends, and detect anomalies.\n",
        "\n",
        "Error Reporting and Incident Investigation:\n",
        "\n",
        "When errors or critical events occur, the logging module can record detailed information, including stack traces and relevant context. This is crucial for understanding the cause of issues and for post-mortem analysis in case of failures.\n",
        "\n",
        "Security Auditing and Forensics:\n",
        "\n",
        "In security-sensitive applications, logging can record events related to user authentication, access control, and other security-relevant actions. This helps in auditing security measures and investigating potential breaches.\n",
        "\n",
        "Information and Warning Messages:\n",
        "\n",
        "Beyond errors, the module allows for logging informational messages about program status or warnings about potential issues that might not be critical but warrant attention.\n"
      ],
      "metadata": {
        "id": "S0dXxOERUi9R"
      }
    },
    {
      "cell_type": "markdown",
      "source": [
        "  22. What is the os module in Python used for in file handling?"
      ],
      "metadata": {
        "id": "rXz55rwgVDbj"
      }
    },
    {
      "cell_type": "markdown",
      "source": [
        "  Ans. The os module in Python provides a way to interact with the operating system, offering a wide range of functionalities for file and directory handling that are platform-independent. This means the same code can work across different operating systems like Windows, macOS, and Linux."
      ],
      "metadata": {
        "id": "6Ryhr9xCVW9R"
      }
    },
    {
      "cell_type": "markdown",
      "source": [
        "  23. What are the challenges associated with memory management in Python?"
      ],
      "metadata": {
        "id": "-SGKlnpJVYyc"
      }
    },
    {
      "cell_type": "markdown",
      "source": [
        "  Ans. Python's automatic memory management, primarily through reference counting and a generational garbage collector, simplifies development by handling memory allocation and deallocation. However, challenges can still arise:\n",
        "  \n",
        "1. Memory Leaks:\n",
        "\n",
        "Circular References:\n",
        "\n",
        "Objects referencing each other can prevent their reference counts from dropping to zero, making them inaccessible to the standard reference counting mechanism. While Python's garbage collector addresses this for some cases, complex circular references can still lead to leaks.\n",
        "\n",
        "Global Variables:\n",
        "\n",
        "Global variables persist for the entire program execution. If they hold large data structures and are not explicitly reassigned or cleared, the memory they occupy will not be released.\n",
        "\n",
        "External Resources:\n",
        "\n",
        "Objects holding non-memory resources (like file handles, network connections) might not be automatically released by the garbage collector even if the Python object itself is deallocated. Explicit closing or releasing of these resources is often required.\n",
        "\n",
        "2. Performance Overhead:\n",
        "\n",
        "Reference Counting:\n",
        "\n",
        "Every assignment and deletion of an object requires updating its reference count, introducing a performance overhead.\n",
        "Garbage Collection Cycles:\n",
        "\n",
        "While generally efficient, the generational garbage collector can introduce occasional pauses during its collection cycles, potentially impacting real-time or performance-critical applications.\n",
        "\n",
        "3. Memory Fragmentation:\n",
        "\n",
        "Repeated allocation and deallocation of objects of varying sizes can lead to memory fragmentation, where available memory is scattered in small, non-contiguous blocks. This can make it difficult to allocate larger blocks of memory even if enough total free memory exists.\n",
        "\n",
        "4. Lack of Fine-Grained Control:\n",
        "\n",
        "Python's automatic memory management offers less direct control compared to languages like C or C++. This can be a challenge in highly optimized or embedded systems where precise memory layout and allocation strategies are crucial.\n",
        "\n",
        "5. Debugging Memory Issues:\n",
        "\n",
        "Identifying the source of memory leaks or excessive memory usage can be challenging in Python, as the automatic management abstracts away many low-level details. Profiling tools and careful code analysis are often required."
      ],
      "metadata": {
        "id": "ZB0h7jtsVjSu"
      }
    },
    {
      "cell_type": "markdown",
      "source": [
        "  24. How do you raise an exception manually in Python?"
      ],
      "metadata": {
        "id": "TVQebSVTWFVG"
      }
    },
    {
      "cell_type": "markdown",
      "source": [
        "  Ans. To raise an exception manually in Python, you use the raise statement. This allows you to explicitly trigger an exception at a specific point in your code, providing control over error handling.\n",
        "\n",
        "  #raise keyword:\n",
        "  This keyword initiates the exception-raising process.\n",
        "\n",
        "#ExceptionType:\n",
        "\n",
        " This specifies the type of exception you want to raise. You can use built-in exception types like ValueError, TypeError, ZeroDivisionError, Exception (a general base class for all exceptions), or custom exception classes you define.\n",
        "\n",
        "#\"Optional error message\":\n",
        "\n",
        " You can provide a string message as an argument to the exception constructor. This message will be displayed along with the exception traceback, offering helpful context about the error.\n"
      ],
      "metadata": {
        "id": "ZH8412gjWKWa"
      }
    },
    {
      "cell_type": "markdown",
      "source": [
        "  25. Why is it important to use multithreading in certain applications?"
      ],
      "metadata": {
        "id": "YVP387fAWl6s"
      }
    },
    {
      "cell_type": "markdown",
      "source": [
        "  Ans. Multithreading is important in applications for improved performance through concurrent task execution, better responsiveness by keeping the user interface active during long operations, and enhanced scalability by utilizing multiple CPU cores and hardware resources. It's crucial for server applications, network services, graphical user interfaces (GUIs), and data-intensive tasks like video processing or online transactions, enabling simultaneous operations without blocking."
      ],
      "metadata": {
        "id": "YRkkEIoLWs50"
      }
    },
    {
      "cell_type": "markdown",
      "source": [],
      "metadata": {
        "id": "jOnifTKjXJvf"
      }
    },
    {
      "cell_type": "markdown",
      "source": [
        "***Practical_questions***"
      ],
      "metadata": {
        "id": "3aR5QcFoXKEm"
      }
    },
    {
      "cell_type": "markdown",
      "source": [
        "  1. How can you open a file for writing in Python and write a string to it?"
      ],
      "metadata": {
        "id": "R6y9JVJSXaDG"
      }
    },
    {
      "cell_type": "code",
      "source": [
        "try:\n",
        "    with open(\"my_file.txt\", \"w\") as file:\n",
        "        # Write a string to the file\n",
        "        file.write(\"Hello, this is a string to write to the file.\")\n",
        "    print(\"Successfully wrote to the file.\")\n",
        "\n",
        "except IOError as e:\n",
        "    print(f\"An error occurred while writing to the file: {e}\")"
      ],
      "metadata": {
        "colab": {
          "base_uri": "https://localhost:8080/"
        },
        "id": "s3eyqFljXoxf",
        "outputId": "730925b8-6859-44be-88c6-2d188853346c"
      },
      "execution_count": 7,
      "outputs": [
        {
          "output_type": "stream",
          "name": "stdout",
          "text": [
            "Successfully wrote to the file.\n"
          ]
        }
      ]
    },
    {
      "cell_type": "markdown",
      "source": [
        "  2. Write a Python program to read the contents of a file and print each line."
      ],
      "metadata": {
        "id": "5r3qyObdXxK0"
      }
    },
    {
      "cell_type": "code",
      "source": [
        "try:\n",
        "    with open(\"my_file.txt\", \"r\") as file:\n",
        "        for line in file:\n",
        "            print(line, end='')\n",
        "except FileNotFoundError:\n",
        "    print(\"The file 'my_file.txt' was not found.\")\n",
        "except IOError as e:\n",
        "    print(f\"An error occurred while reading the file: {e}\")"
      ],
      "metadata": {
        "colab": {
          "base_uri": "https://localhost:8080/"
        },
        "id": "EMdfbSj5X-ey",
        "outputId": "791ee595-0bb2-439e-e8f6-4120c2c7f11c"
      },
      "execution_count": 8,
      "outputs": [
        {
          "output_type": "stream",
          "name": "stdout",
          "text": [
            "Hello, this is a string to write to the file."
          ]
        }
      ]
    },
    {
      "cell_type": "markdown",
      "source": [
        "  3.  How would you handle a case where the file doesn't exist while trying to open it for reading?"
      ],
      "metadata": {
        "id": "1edhjIVAYDBe"
      }
    },
    {
      "cell_type": "code",
      "source": [
        "try:\n",
        "    with open(\"non_existent_file.txt\", \"r\") as file:\n",
        "        for line in file:\n",
        "            print(line, end='')\n",
        "except FileNotFoundError:\n",
        "    print(\"Error: The file was not found.\")\n",
        "except IOError as e:\n",
        "    print(f\"An error occurred while reading the file: {e}\")"
      ],
      "metadata": {
        "colab": {
          "base_uri": "https://localhost:8080/"
        },
        "id": "l8cyNbzYYH7U",
        "outputId": "1f003d28-d33a-4798-f5c8-918922d311ca"
      },
      "execution_count": 9,
      "outputs": [
        {
          "output_type": "stream",
          "name": "stdout",
          "text": [
            "Error: The file was not found.\n"
          ]
        }
      ]
    },
    {
      "cell_type": "markdown",
      "source": [
        "  4. Write a Python script that reads from one file and writes its content to another file."
      ],
      "metadata": {
        "id": "K-sB0AxGYUtD"
      }
    },
    {
      "cell_type": "code",
      "source": [
        "try:\n",
        "    with open(\"source_file.txt\", \"w\") as source:\n",
        "        source.write(\"This is the content of the source file.\\n\")\n",
        "        source.write(\"This is the second line.\")\n",
        "    print(\"Created source_file.txt\")\n",
        "except IOError as e:\n",
        "    print(f\"Error creating source_file.txt: {e}\")\n",
        "\n",
        "\n",
        "try:\n",
        "    with open(\"source_file.txt\", \"r\") as source, open(\"destination_file.txt\", \"w\") as destination:\n",
        "        for line in source:\n",
        "            destination.write(line)\n",
        "    print(\"Successfully copied content from source_file.txt to destination_file.txt\")\n",
        "\n",
        "except FileNotFoundError:\n",
        "    print(\"Error: The source file was not found.\")\n",
        "except IOError as e:\n",
        "    print(f\"An error occurred during file processing: {e}\")"
      ],
      "metadata": {
        "colab": {
          "base_uri": "https://localhost:8080/"
        },
        "id": "wPkXln9-Yb2T",
        "outputId": "cbe520e0-1f59-49b5-cd69-507a23a0cb76"
      },
      "execution_count": 11,
      "outputs": [
        {
          "output_type": "stream",
          "name": "stdout",
          "text": [
            "Created source_file.txt\n",
            "Successfully copied content from source_file.txt to destination_file.txt\n"
          ]
        }
      ]
    },
    {
      "cell_type": "markdown",
      "source": [
        "  5. How would you catch and handle division by zero error in Python?"
      ],
      "metadata": {
        "id": "Q501nd_bYu91"
      }
    },
    {
      "cell_type": "code",
      "source": [
        "try:\n",
        "    numerator = 10\n",
        "    denominator = 0\n",
        "    result = numerator / denominator\n",
        "    print(result)\n",
        "except ZeroDivisionError:\n",
        "    print(\"Error: Division by zero is not allowed.\")\n",
        "except Exception as e:\n",
        "    print(f\"An unexpected error occurred: {e}\")"
      ],
      "metadata": {
        "colab": {
          "base_uri": "https://localhost:8080/"
        },
        "id": "reSF7T2CY218",
        "outputId": "3eacb674-622c-4878-c32f-87ec9592447b"
      },
      "execution_count": 12,
      "outputs": [
        {
          "output_type": "stream",
          "name": "stdout",
          "text": [
            "Error: Division by zero is not allowed.\n"
          ]
        }
      ]
    },
    {
      "cell_type": "markdown",
      "source": [
        "  6. Write a Python program that logs an error message to a log file when a division by zero exception occurs."
      ],
      "metadata": {
        "id": "PC-c6VhFY_Wr"
      }
    },
    {
      "cell_type": "code",
      "source": [
        "import logging\n",
        "\n",
        "\n",
        "logging.basicConfig(filename='error.log', level=logging.ERROR, format='%(asctime)s - %(levelname)s - %(message)s')\n",
        "\n",
        "try:\n",
        "    numerator = 10\n",
        "    denominator = 0\n",
        "    result = numerator / denominator\n",
        "    print(result)\n",
        "except ZeroDivisionError:\n",
        "\n",
        "    logging.error(\"Division by zero occurred.\")\n",
        "    print(\"An error occurred and has been logged.\")\n",
        "except Exception as e:\n",
        "\n",
        "    logging.error(f\"An unexpected error occurred: {e}\")\n",
        "    print(\"An unexpected error occurred and has been logged.\")"
      ],
      "metadata": {
        "colab": {
          "base_uri": "https://localhost:8080/"
        },
        "id": "2prB-k1BZOiZ",
        "outputId": "0c3b5b3a-cabb-44f3-c205-61402713cc48"
      },
      "execution_count": 13,
      "outputs": [
        {
          "output_type": "stream",
          "name": "stderr",
          "text": [
            "ERROR:root:Division by zero occurred.\n"
          ]
        },
        {
          "output_type": "stream",
          "name": "stdout",
          "text": [
            "An error occurred and has been logged.\n"
          ]
        }
      ]
    },
    {
      "cell_type": "markdown",
      "source": [
        "  7.  How do you log information at different levels (INFO, ERROR, WARNING) in Python using the logging module?"
      ],
      "metadata": {
        "id": "h7jtJIEwZWrq"
      }
    },
    {
      "cell_type": "code",
      "source": [
        "import logging\n",
        "\n",
        "\n",
        "logging.basicConfig(level=logging.INFO, format='%(asctime)s - %(levelname)s - %(message)s')\n",
        "\n",
        "\n",
        "logging.debug(\"This is a debug message (won't be shown with level=INFO)\")\n",
        "logging.info(\"This is an info message\")\n",
        "logging.warning(\"This is a warning message\")\n",
        "logging.error(\"This is an error message\")\n",
        "logging.critical(\"This is a critical message\")\n",
        "\n"
      ],
      "metadata": {
        "colab": {
          "base_uri": "https://localhost:8080/"
        },
        "id": "JJ20_614Z6bz",
        "outputId": "e99762fa-ba91-4a72-81b9-9e56e690d11f"
      },
      "execution_count": 14,
      "outputs": [
        {
          "output_type": "stream",
          "name": "stderr",
          "text": [
            "WARNING:root:This is a warning message\n",
            "ERROR:root:This is an error message\n",
            "CRITICAL:root:This is a critical message\n"
          ]
        }
      ]
    },
    {
      "cell_type": "markdown",
      "source": [
        "  8. Write a program to handle a file opening error using exception handling."
      ],
      "metadata": {
        "id": "1aabCxmdaCzd"
      }
    },
    {
      "cell_type": "code",
      "source": [
        "try:\n",
        "\n",
        "    with open(\"another_non_existent_file.txt\", \"r\") as file:\n",
        "        content = file.read()\n",
        "        print(content)\n",
        "except FileNotFoundError:\n",
        "    print(\"Error: The file was not found.\")\n",
        "except IOError as e:\n",
        "    print(f\"An input/output error occurred: {e}\")\n",
        "except Exception as e:\n",
        "    print(f\"An unexpected error occurred: {e}\")"
      ],
      "metadata": {
        "colab": {
          "base_uri": "https://localhost:8080/"
        },
        "id": "9XRQMRYDaQHK",
        "outputId": "21520980-c31e-4462-eea6-bb174e39bf66"
      },
      "execution_count": 15,
      "outputs": [
        {
          "output_type": "stream",
          "name": "stdout",
          "text": [
            "Error: The file was not found.\n"
          ]
        }
      ]
    },
    {
      "cell_type": "markdown",
      "source": [
        "  9.  How can you read a file line by line and store its content in a list in Python?"
      ],
      "metadata": {
        "id": "lL2dvvYAaWbr"
      }
    },
    {
      "cell_type": "code",
      "source": [
        "file_content = []\n",
        "try:\n",
        "    with open(\"my_file.txt\", \"r\") as file:\n",
        "        for line in file:\n",
        "            file_content.append(line.strip())\n",
        "    print(\"File content stored in a list:\")\n",
        "    print(file_content)\n",
        "except FileNotFoundError:\n",
        "    print(\"Error: The file was not found.\")\n",
        "except IOError as e:\n",
        "    print(f\"An error occurred while reading the file: {e}\")"
      ],
      "metadata": {
        "colab": {
          "base_uri": "https://localhost:8080/"
        },
        "id": "bNIWYRlcamky",
        "outputId": "edee0431-360c-43cd-f6ff-d74d6f4034cb"
      },
      "execution_count": 16,
      "outputs": [
        {
          "output_type": "stream",
          "name": "stdout",
          "text": [
            "File content stored in a list:\n",
            "['Hello, this is a string to write to the file.']\n"
          ]
        }
      ]
    },
    {
      "cell_type": "markdown",
      "source": [
        "  10. How can you append data to an existing file in Python?"
      ],
      "metadata": {
        "id": "I7vI_lTUasIS"
      }
    },
    {
      "cell_type": "code",
      "source": [
        "try:\n",
        "    with open(\"my_file.txt\", \"a\") as file:\n",
        "        file.write(\"\\nThis line is appended to the file.\")\n",
        "    print(\"Data successfully appended to the file.\")\n",
        "\n",
        "except IOError as e:\n",
        "    print(f\"An error occurred while appending to the file: {e}\")\n",
        "\n",
        "\n",
        "try:\n",
        "    with open(\"my_file.txt\", \"r\") as file:\n",
        "        print(\"\\nUpdated file content:\")\n",
        "        for line in file:\n",
        "            print(line, end='')\n",
        "except FileNotFoundError:\n",
        "    print(\"\\nError: The file was not found after appending.\")\n",
        "except IOError as e:\n",
        "    print(f\"\\nAn error occurred while reading the file after appending: {e}\")"
      ],
      "metadata": {
        "colab": {
          "base_uri": "https://localhost:8080/"
        },
        "id": "P86irVAkaySm",
        "outputId": "cfaec634-fc43-47ee-84d5-d29f82c12cdb"
      },
      "execution_count": 17,
      "outputs": [
        {
          "output_type": "stream",
          "name": "stdout",
          "text": [
            "Data successfully appended to the file.\n",
            "\n",
            "Updated file content:\n",
            "Hello, this is a string to write to the file.\n",
            "This line is appended to the file."
          ]
        }
      ]
    },
    {
      "cell_type": "markdown",
      "source": [
        "  11.  Write a Python program that uses a try-except block to handle an error when attempting to access a\n",
        "dictionary key that doesn't exist."
      ],
      "metadata": {
        "id": "AW2yJ5v5bBGe"
      }
    },
    {
      "cell_type": "code",
      "source": [
        "my_dict = {\"name\": \"Alice\", \"age\": 30}\n",
        "\n",
        "try:\n",
        "\n",
        "    city = my_dict[\"city\"]\n",
        "    print(city)\n",
        "except KeyError:\n",
        "    print(\"Error: The specified dictionary key does not exist.\")\n",
        "except Exception as e:\n",
        "    print(f\"An unexpected error occurred: {e}\")"
      ],
      "metadata": {
        "colab": {
          "base_uri": "https://localhost:8080/"
        },
        "id": "vGGXebNRbLdw",
        "outputId": "6e6a6644-5570-4ff4-f3d5-7c4f7b643c44"
      },
      "execution_count": 18,
      "outputs": [
        {
          "output_type": "stream",
          "name": "stdout",
          "text": [
            "Error: The specified dictionary key does not exist.\n"
          ]
        }
      ]
    },
    {
      "cell_type": "markdown",
      "source": [
        "  12. Write a program that demonstrates using multiple except blocks to handle different types of exceptions.\n",
        "  "
      ],
      "metadata": {
        "id": "1ocoOe2-bXvY"
      }
    },
    {
      "cell_type": "code",
      "source": [
        "try:\n",
        "\n",
        "    value = int(input(\"Enter a number: \"))\n",
        "    result = 10 / value\n",
        "    print(result)\n",
        "except ValueError:\n",
        "    print(\"Invalid input. Please enter an integer.\")\n",
        "except ZeroDivisionError:\n",
        "    print(\"Cannot divide by zero. Please enter a non-zero number.\")\n",
        "except Exception as e:\n",
        "    print(f\"An unexpected error occurred: {e}\")"
      ],
      "metadata": {
        "colab": {
          "base_uri": "https://localhost:8080/"
        },
        "id": "7sERePdpbn45",
        "outputId": "3ad0ac9c-e684-4ddf-e0e4-8bc5ae79c4df"
      },
      "execution_count": 19,
      "outputs": [
        {
          "output_type": "stream",
          "name": "stdout",
          "text": [
            "Enter a number: 12\n",
            "0.8333333333333334\n"
          ]
        }
      ]
    },
    {
      "cell_type": "markdown",
      "source": [
        "  13. How would you check if a file exists before attempting to read it in Python?"
      ],
      "metadata": {
        "id": "eZr7tEi1b6vG"
      }
    },
    {
      "cell_type": "code",
      "source": [
        "import os\n",
        "\n",
        "file_name = \"my_file.txt\"\n",
        "\n",
        "if os.path.exists(file_name):\n",
        "    print(f\"The file '{file_name}' exists. Proceeding to read.\")\n",
        "    try:\n",
        "        with open(file_name, \"r\") as file:\n",
        "            content = file.read()\n",
        "            print(\"File content:\")\n",
        "            print(content)\n",
        "    except IOError as e:\n",
        "        print(f\"An error occurred while reading the file: {e}\")\n",
        "else:\n",
        "    print(f\"The file '{file_name}' does not exist.\")"
      ],
      "metadata": {
        "colab": {
          "base_uri": "https://localhost:8080/"
        },
        "id": "IGp0dLs-cHbH",
        "outputId": "168b3c1a-81ca-40d5-cd94-73c32bd63209"
      },
      "execution_count": 20,
      "outputs": [
        {
          "output_type": "stream",
          "name": "stdout",
          "text": [
            "The file 'my_file.txt' exists. Proceeding to read.\n",
            "File content:\n",
            "Hello, this is a string to write to the file.\n",
            "This line is appended to the file.\n"
          ]
        }
      ]
    },
    {
      "cell_type": "markdown",
      "source": [
        "  14. Write a program that uses the logging module to log both informational and error messages."
      ],
      "metadata": {
        "id": "zLnnkQGLchhD"
      }
    },
    {
      "cell_type": "code",
      "source": [
        "import logging\n",
        "\n",
        "\n",
        "logging.basicConfig(level=logging.INFO, format='%(asctime)s - %(levelname)s - %(message)s')\n",
        "\n",
        "\n",
        "logging.info(\"This is an informational message.\")\n",
        "\n",
        "\n",
        "try:\n",
        "    result = 10 / 0\n",
        "except ZeroDivisionError:\n",
        "    logging.error(\"An error occurred: Division by zero is not allowed.\")\n",
        "\n",
        "\n",
        "logging.warning(\"This is a warning message.\")"
      ],
      "metadata": {
        "colab": {
          "base_uri": "https://localhost:8080/"
        },
        "id": "jdP9IuOGcj1d",
        "outputId": "f958d8b1-a6b3-45c8-ee45-0ef54f580ace"
      },
      "execution_count": 21,
      "outputs": [
        {
          "output_type": "stream",
          "name": "stderr",
          "text": [
            "ERROR:root:An error occurred: Division by zero is not allowed.\n",
            "WARNING:root:This is a warning message.\n"
          ]
        }
      ]
    },
    {
      "cell_type": "markdown",
      "source": [
        "  15. Write a Python program that prints the content of a file and handles the case when the file is empty"
      ],
      "metadata": {
        "id": "21xUs3Cfc505"
      }
    },
    {
      "cell_type": "code",
      "source": [
        "file_name = \"my_file.txt\"\n",
        "\n",
        "try:\n",
        "    with open(file_name, \"r\") as file:\n",
        "        content = file.read()\n",
        "        if content:\n",
        "            print(f\"Content of '{file_name}':\")\n",
        "            print(content)\n",
        "        else:\n",
        "            print(f\"The file '{file_name}' is empty.\")\n",
        "except FileNotFoundError:\n",
        "    print(f\"Error: The file '{file_name}' was not found.\")\n",
        "except IOError as e:\n",
        "    print(f\"An error occurred while reading the file: {e}\")"
      ],
      "metadata": {
        "colab": {
          "base_uri": "https://localhost:8080/"
        },
        "id": "8nu_6z5gc_N5",
        "outputId": "98da04ee-3a75-4218-ebf9-114812516477"
      },
      "execution_count": 22,
      "outputs": [
        {
          "output_type": "stream",
          "name": "stdout",
          "text": [
            "Content of 'my_file.txt':\n",
            "Hello, this is a string to write to the file.\n",
            "This line is appended to the file.\n"
          ]
        }
      ]
    },
    {
      "cell_type": "markdown",
      "source": [
        "  16. Demonstrate how to use memory profiling to check the memory usage of a small program."
      ],
      "metadata": {
        "id": "nhnu5ps3dLpO"
      }
    },
    {
      "cell_type": "code",
      "source": [
        "%pip install memory_profiler"
      ],
      "metadata": {
        "colab": {
          "base_uri": "https://localhost:8080/"
        },
        "id": "9TF5ZU7PdUk5",
        "outputId": "f7c139a3-91cc-472f-be3d-e8d9e71b8db5"
      },
      "execution_count": 23,
      "outputs": [
        {
          "output_type": "stream",
          "name": "stdout",
          "text": [
            "Collecting memory_profiler\n",
            "  Downloading memory_profiler-0.61.0-py3-none-any.whl.metadata (20 kB)\n",
            "Requirement already satisfied: psutil in /usr/local/lib/python3.12/dist-packages (from memory_profiler) (5.9.5)\n",
            "Downloading memory_profiler-0.61.0-py3-none-any.whl (31 kB)\n",
            "Installing collected packages: memory_profiler\n",
            "Successfully installed memory_profiler-0.61.0\n"
          ]
        }
      ]
    },
    {
      "cell_type": "markdown",
      "source": [
        "  17. Write a Python program to create and write a list of numbers to a file, one number per line."
      ],
      "metadata": {
        "id": "1IsBwsCydoes"
      }
    },
    {
      "cell_type": "code",
      "source": [
        "numbers = [10, 20, 30, 40, 50]\n",
        "file_name = \"numbers.txt\"\n",
        "\n",
        "try:\n",
        "    with open(file_name, \"w\") as file:\n",
        "        for number in numbers:\n",
        "            file.write(str(number) + \"\\n\")\n",
        "    print(f\"Successfully wrote numbers to '{file_name}'.\")\n",
        "\n",
        "except IOError as e:\n",
        "    print(f\"An error occurred while writing to the file: {e}\")\n",
        "\n",
        "\n",
        "try:\n",
        "    with open(file_name, \"r\") as file:\n",
        "        print(f\"\\nContent of '{file_name}':\")\n",
        "        print(file.read())\n",
        "except FileNotFoundError:\n",
        "    print(f\"\\nError: The file '{file_name}' was not found after writing.\")\n",
        "except IOError as e:\n",
        "    print(f\"\\nAn error occurred while reading the file after writing: {e}\")"
      ],
      "metadata": {
        "colab": {
          "base_uri": "https://localhost:8080/"
        },
        "id": "jnt_UWYldyVo",
        "outputId": "f1d2fc69-0eec-4094-93d2-4b6e568302df"
      },
      "execution_count": 24,
      "outputs": [
        {
          "output_type": "stream",
          "name": "stdout",
          "text": [
            "Successfully wrote numbers to 'numbers.txt'.\n",
            "\n",
            "Content of 'numbers.txt':\n",
            "10\n",
            "20\n",
            "30\n",
            "40\n",
            "50\n",
            "\n"
          ]
        }
      ]
    },
    {
      "cell_type": "markdown",
      "source": [
        "  18. How would you implement a basic logging setup that logs to a file with rotation after 1MB?"
      ],
      "metadata": {
        "id": "VG6hDLz5eCUJ"
      }
    },
    {
      "cell_type": "code",
      "source": [
        "import logging\n",
        "from logging.handlers import RotatingFileHandler\n",
        "import os\n",
        "\n",
        "log_file = 'rotating_log.log'\n",
        "max_bytes = 1024 * 1024\n",
        "backup_count = 5\n",
        "\n",
        "\n",
        "logger = logging.getLogger('')\n",
        "logger.setLevel(logging.INFO)\n",
        "\n",
        "\n",
        "handler = RotatingFileHandler(log_file, maxBytes=max_bytes, backupCount=backup_count)\n",
        "\n",
        "\n",
        "formatter = logging.Formatter('%(asctime)s - %(name)s - %(levelname)s - %(message)s')\n",
        "handler.setFormatter(formatter)\n",
        "\n",
        "\n",
        "logger.addHandler(handler)\n",
        "\n",
        "\n",
        "for i in range(2000):\n",
        "    logger.info(f\"This is log message number {i}\")\n",
        "\n",
        "print(f\"Logged messages to {log_file}. Check the directory for rotated files.\")\n",
        "\n",
        "\n",
        "if os.path.exists(log_file):\n",
        "    file_size = os.path.getsize(log_file)\n",
        "    print(f\"Current size of {log_file}: {file_size} bytes\")"
      ],
      "metadata": {
        "colab": {
          "base_uri": "https://localhost:8080/"
        },
        "id": "VETpRNezeJ8h",
        "outputId": "c64bf6b2-4a5b-43e7-ea84-05e305f1808e"
      },
      "execution_count": 25,
      "outputs": [
        {
          "output_type": "stream",
          "name": "stderr",
          "text": [
            "INFO:root:This is log message number 0\n",
            "INFO:root:This is log message number 1\n",
            "INFO:root:This is log message number 2\n",
            "INFO:root:This is log message number 3\n",
            "INFO:root:This is log message number 4\n",
            "INFO:root:This is log message number 5\n",
            "INFO:root:This is log message number 6\n",
            "INFO:root:This is log message number 7\n",
            "INFO:root:This is log message number 8\n",
            "INFO:root:This is log message number 9\n",
            "INFO:root:This is log message number 10\n",
            "INFO:root:This is log message number 11\n",
            "INFO:root:This is log message number 12\n",
            "INFO:root:This is log message number 13\n",
            "INFO:root:This is log message number 14\n",
            "INFO:root:This is log message number 15\n",
            "INFO:root:This is log message number 16\n",
            "INFO:root:This is log message number 17\n",
            "INFO:root:This is log message number 18\n",
            "INFO:root:This is log message number 19\n",
            "INFO:root:This is log message number 20\n",
            "INFO:root:This is log message number 21\n",
            "INFO:root:This is log message number 22\n",
            "INFO:root:This is log message number 23\n",
            "INFO:root:This is log message number 24\n",
            "INFO:root:This is log message number 25\n",
            "INFO:root:This is log message number 26\n",
            "INFO:root:This is log message number 27\n",
            "INFO:root:This is log message number 28\n",
            "INFO:root:This is log message number 29\n",
            "INFO:root:This is log message number 30\n",
            "INFO:root:This is log message number 31\n",
            "INFO:root:This is log message number 32\n",
            "INFO:root:This is log message number 33\n",
            "INFO:root:This is log message number 34\n",
            "INFO:root:This is log message number 35\n",
            "INFO:root:This is log message number 36\n",
            "INFO:root:This is log message number 37\n",
            "INFO:root:This is log message number 38\n",
            "INFO:root:This is log message number 39\n",
            "INFO:root:This is log message number 40\n",
            "INFO:root:This is log message number 41\n",
            "INFO:root:This is log message number 42\n",
            "INFO:root:This is log message number 43\n",
            "INFO:root:This is log message number 44\n",
            "INFO:root:This is log message number 45\n",
            "INFO:root:This is log message number 46\n",
            "INFO:root:This is log message number 47\n",
            "INFO:root:This is log message number 48\n",
            "INFO:root:This is log message number 49\n",
            "INFO:root:This is log message number 50\n",
            "INFO:root:This is log message number 51\n",
            "INFO:root:This is log message number 52\n",
            "INFO:root:This is log message number 53\n",
            "INFO:root:This is log message number 54\n",
            "INFO:root:This is log message number 55\n",
            "INFO:root:This is log message number 56\n",
            "INFO:root:This is log message number 57\n",
            "INFO:root:This is log message number 58\n",
            "INFO:root:This is log message number 59\n",
            "INFO:root:This is log message number 60\n",
            "INFO:root:This is log message number 61\n",
            "INFO:root:This is log message number 62\n",
            "INFO:root:This is log message number 63\n",
            "INFO:root:This is log message number 64\n",
            "INFO:root:This is log message number 65\n",
            "INFO:root:This is log message number 66\n",
            "INFO:root:This is log message number 67\n",
            "INFO:root:This is log message number 68\n",
            "INFO:root:This is log message number 69\n",
            "INFO:root:This is log message number 70\n",
            "INFO:root:This is log message number 71\n",
            "INFO:root:This is log message number 72\n",
            "INFO:root:This is log message number 73\n",
            "INFO:root:This is log message number 74\n",
            "INFO:root:This is log message number 75\n",
            "INFO:root:This is log message number 76\n",
            "INFO:root:This is log message number 77\n",
            "INFO:root:This is log message number 78\n",
            "INFO:root:This is log message number 79\n",
            "INFO:root:This is log message number 80\n",
            "INFO:root:This is log message number 81\n",
            "INFO:root:This is log message number 82\n",
            "INFO:root:This is log message number 83\n",
            "INFO:root:This is log message number 84\n",
            "INFO:root:This is log message number 85\n",
            "INFO:root:This is log message number 86\n",
            "INFO:root:This is log message number 87\n",
            "INFO:root:This is log message number 88\n",
            "INFO:root:This is log message number 89\n",
            "INFO:root:This is log message number 90\n",
            "INFO:root:This is log message number 91\n",
            "INFO:root:This is log message number 92\n",
            "INFO:root:This is log message number 93\n",
            "INFO:root:This is log message number 94\n",
            "INFO:root:This is log message number 95\n",
            "INFO:root:This is log message number 96\n",
            "INFO:root:This is log message number 97\n",
            "INFO:root:This is log message number 98\n",
            "INFO:root:This is log message number 99\n",
            "INFO:root:This is log message number 100\n",
            "INFO:root:This is log message number 101\n",
            "INFO:root:This is log message number 102\n",
            "INFO:root:This is log message number 103\n",
            "INFO:root:This is log message number 104\n",
            "INFO:root:This is log message number 105\n",
            "INFO:root:This is log message number 106\n",
            "INFO:root:This is log message number 107\n",
            "INFO:root:This is log message number 108\n",
            "INFO:root:This is log message number 109\n",
            "INFO:root:This is log message number 110\n",
            "INFO:root:This is log message number 111\n",
            "INFO:root:This is log message number 112\n",
            "INFO:root:This is log message number 113\n",
            "INFO:root:This is log message number 114\n",
            "INFO:root:This is log message number 115\n",
            "INFO:root:This is log message number 116\n",
            "INFO:root:This is log message number 117\n",
            "INFO:root:This is log message number 118\n",
            "INFO:root:This is log message number 119\n",
            "INFO:root:This is log message number 120\n",
            "INFO:root:This is log message number 121\n",
            "INFO:root:This is log message number 122\n",
            "INFO:root:This is log message number 123\n",
            "INFO:root:This is log message number 124\n",
            "INFO:root:This is log message number 125\n",
            "INFO:root:This is log message number 126\n",
            "INFO:root:This is log message number 127\n",
            "INFO:root:This is log message number 128\n",
            "INFO:root:This is log message number 129\n",
            "INFO:root:This is log message number 130\n",
            "INFO:root:This is log message number 131\n",
            "INFO:root:This is log message number 132\n",
            "INFO:root:This is log message number 133\n",
            "INFO:root:This is log message number 134\n",
            "INFO:root:This is log message number 135\n",
            "INFO:root:This is log message number 136\n",
            "INFO:root:This is log message number 137\n",
            "INFO:root:This is log message number 138\n",
            "INFO:root:This is log message number 139\n",
            "INFO:root:This is log message number 140\n",
            "INFO:root:This is log message number 141\n",
            "INFO:root:This is log message number 142\n",
            "INFO:root:This is log message number 143\n",
            "INFO:root:This is log message number 144\n",
            "INFO:root:This is log message number 145\n",
            "INFO:root:This is log message number 146\n",
            "INFO:root:This is log message number 147\n",
            "INFO:root:This is log message number 148\n",
            "INFO:root:This is log message number 149\n",
            "INFO:root:This is log message number 150\n",
            "INFO:root:This is log message number 151\n",
            "INFO:root:This is log message number 152\n",
            "INFO:root:This is log message number 153\n",
            "INFO:root:This is log message number 154\n",
            "INFO:root:This is log message number 155\n",
            "INFO:root:This is log message number 156\n",
            "INFO:root:This is log message number 157\n",
            "INFO:root:This is log message number 158\n",
            "INFO:root:This is log message number 159\n",
            "INFO:root:This is log message number 160\n",
            "INFO:root:This is log message number 161\n",
            "INFO:root:This is log message number 162\n",
            "INFO:root:This is log message number 163\n",
            "INFO:root:This is log message number 164\n",
            "INFO:root:This is log message number 165\n",
            "INFO:root:This is log message number 166\n",
            "INFO:root:This is log message number 167\n",
            "INFO:root:This is log message number 168\n",
            "INFO:root:This is log message number 169\n",
            "INFO:root:This is log message number 170\n",
            "INFO:root:This is log message number 171\n",
            "INFO:root:This is log message number 172\n",
            "INFO:root:This is log message number 173\n",
            "INFO:root:This is log message number 174\n",
            "INFO:root:This is log message number 175\n",
            "INFO:root:This is log message number 176\n",
            "INFO:root:This is log message number 177\n",
            "INFO:root:This is log message number 178\n",
            "INFO:root:This is log message number 179\n",
            "INFO:root:This is log message number 180\n",
            "INFO:root:This is log message number 181\n",
            "INFO:root:This is log message number 182\n",
            "INFO:root:This is log message number 183\n",
            "INFO:root:This is log message number 184\n",
            "INFO:root:This is log message number 185\n",
            "INFO:root:This is log message number 186\n",
            "INFO:root:This is log message number 187\n",
            "INFO:root:This is log message number 188\n",
            "INFO:root:This is log message number 189\n",
            "INFO:root:This is log message number 190\n",
            "INFO:root:This is log message number 191\n",
            "INFO:root:This is log message number 192\n",
            "INFO:root:This is log message number 193\n",
            "INFO:root:This is log message number 194\n",
            "INFO:root:This is log message number 195\n",
            "INFO:root:This is log message number 196\n",
            "INFO:root:This is log message number 197\n",
            "INFO:root:This is log message number 198\n",
            "INFO:root:This is log message number 199\n",
            "INFO:root:This is log message number 200\n",
            "INFO:root:This is log message number 201\n",
            "INFO:root:This is log message number 202\n",
            "INFO:root:This is log message number 203\n",
            "INFO:root:This is log message number 204\n",
            "INFO:root:This is log message number 205\n",
            "INFO:root:This is log message number 206\n",
            "INFO:root:This is log message number 207\n",
            "INFO:root:This is log message number 208\n",
            "INFO:root:This is log message number 209\n",
            "INFO:root:This is log message number 210\n",
            "INFO:root:This is log message number 211\n",
            "INFO:root:This is log message number 212\n",
            "INFO:root:This is log message number 213\n",
            "INFO:root:This is log message number 214\n",
            "INFO:root:This is log message number 215\n",
            "INFO:root:This is log message number 216\n",
            "INFO:root:This is log message number 217\n",
            "INFO:root:This is log message number 218\n",
            "INFO:root:This is log message number 219\n",
            "INFO:root:This is log message number 220\n",
            "INFO:root:This is log message number 221\n",
            "INFO:root:This is log message number 222\n",
            "INFO:root:This is log message number 223\n",
            "INFO:root:This is log message number 224\n",
            "INFO:root:This is log message number 225\n",
            "INFO:root:This is log message number 226\n",
            "INFO:root:This is log message number 227\n",
            "INFO:root:This is log message number 228\n",
            "INFO:root:This is log message number 229\n",
            "INFO:root:This is log message number 230\n",
            "INFO:root:This is log message number 231\n",
            "INFO:root:This is log message number 232\n",
            "INFO:root:This is log message number 233\n",
            "INFO:root:This is log message number 234\n",
            "INFO:root:This is log message number 235\n",
            "INFO:root:This is log message number 236\n",
            "INFO:root:This is log message number 237\n",
            "INFO:root:This is log message number 238\n",
            "INFO:root:This is log message number 239\n",
            "INFO:root:This is log message number 240\n",
            "INFO:root:This is log message number 241\n",
            "INFO:root:This is log message number 242\n",
            "INFO:root:This is log message number 243\n",
            "INFO:root:This is log message number 244\n",
            "INFO:root:This is log message number 245\n",
            "INFO:root:This is log message number 246\n",
            "INFO:root:This is log message number 247\n",
            "INFO:root:This is log message number 248\n",
            "INFO:root:This is log message number 249\n",
            "INFO:root:This is log message number 250\n",
            "INFO:root:This is log message number 251\n",
            "INFO:root:This is log message number 252\n",
            "INFO:root:This is log message number 253\n",
            "INFO:root:This is log message number 254\n",
            "INFO:root:This is log message number 255\n",
            "INFO:root:This is log message number 256\n",
            "INFO:root:This is log message number 257\n",
            "INFO:root:This is log message number 258\n",
            "INFO:root:This is log message number 259\n",
            "INFO:root:This is log message number 260\n",
            "INFO:root:This is log message number 261\n",
            "INFO:root:This is log message number 262\n",
            "INFO:root:This is log message number 263\n",
            "INFO:root:This is log message number 264\n",
            "INFO:root:This is log message number 265\n",
            "INFO:root:This is log message number 266\n",
            "INFO:root:This is log message number 267\n",
            "INFO:root:This is log message number 268\n",
            "INFO:root:This is log message number 269\n",
            "INFO:root:This is log message number 270\n",
            "INFO:root:This is log message number 271\n",
            "INFO:root:This is log message number 272\n",
            "INFO:root:This is log message number 273\n",
            "INFO:root:This is log message number 274\n",
            "INFO:root:This is log message number 275\n",
            "INFO:root:This is log message number 276\n",
            "INFO:root:This is log message number 277\n",
            "INFO:root:This is log message number 278\n",
            "INFO:root:This is log message number 279\n",
            "INFO:root:This is log message number 280\n",
            "INFO:root:This is log message number 281\n",
            "INFO:root:This is log message number 282\n",
            "INFO:root:This is log message number 283\n",
            "INFO:root:This is log message number 284\n",
            "INFO:root:This is log message number 285\n",
            "INFO:root:This is log message number 286\n",
            "INFO:root:This is log message number 287\n",
            "INFO:root:This is log message number 288\n",
            "INFO:root:This is log message number 289\n",
            "INFO:root:This is log message number 290\n",
            "INFO:root:This is log message number 291\n",
            "INFO:root:This is log message number 292\n",
            "INFO:root:This is log message number 293\n",
            "INFO:root:This is log message number 294\n",
            "INFO:root:This is log message number 295\n",
            "INFO:root:This is log message number 296\n",
            "INFO:root:This is log message number 297\n",
            "INFO:root:This is log message number 298\n",
            "INFO:root:This is log message number 299\n",
            "INFO:root:This is log message number 300\n",
            "INFO:root:This is log message number 301\n",
            "INFO:root:This is log message number 302\n",
            "INFO:root:This is log message number 303\n",
            "INFO:root:This is log message number 304\n",
            "INFO:root:This is log message number 305\n",
            "INFO:root:This is log message number 306\n",
            "INFO:root:This is log message number 307\n",
            "INFO:root:This is log message number 308\n",
            "INFO:root:This is log message number 309\n",
            "INFO:root:This is log message number 310\n",
            "INFO:root:This is log message number 311\n",
            "INFO:root:This is log message number 312\n",
            "INFO:root:This is log message number 313\n",
            "INFO:root:This is log message number 314\n",
            "INFO:root:This is log message number 315\n",
            "INFO:root:This is log message number 316\n",
            "INFO:root:This is log message number 317\n",
            "INFO:root:This is log message number 318\n",
            "INFO:root:This is log message number 319\n",
            "INFO:root:This is log message number 320\n",
            "INFO:root:This is log message number 321\n",
            "INFO:root:This is log message number 322\n",
            "INFO:root:This is log message number 323\n",
            "INFO:root:This is log message number 324\n",
            "INFO:root:This is log message number 325\n",
            "INFO:root:This is log message number 326\n",
            "INFO:root:This is log message number 327\n",
            "INFO:root:This is log message number 328\n",
            "INFO:root:This is log message number 329\n",
            "INFO:root:This is log message number 330\n",
            "INFO:root:This is log message number 331\n",
            "INFO:root:This is log message number 332\n",
            "INFO:root:This is log message number 333\n",
            "INFO:root:This is log message number 334\n",
            "INFO:root:This is log message number 335\n",
            "INFO:root:This is log message number 336\n",
            "INFO:root:This is log message number 337\n",
            "INFO:root:This is log message number 338\n",
            "INFO:root:This is log message number 339\n",
            "INFO:root:This is log message number 340\n",
            "INFO:root:This is log message number 341\n",
            "INFO:root:This is log message number 342\n",
            "INFO:root:This is log message number 343\n",
            "INFO:root:This is log message number 344\n",
            "INFO:root:This is log message number 345\n",
            "INFO:root:This is log message number 346\n",
            "INFO:root:This is log message number 347\n",
            "INFO:root:This is log message number 348\n",
            "INFO:root:This is log message number 349\n",
            "INFO:root:This is log message number 350\n",
            "INFO:root:This is log message number 351\n",
            "INFO:root:This is log message number 352\n",
            "INFO:root:This is log message number 353\n",
            "INFO:root:This is log message number 354\n",
            "INFO:root:This is log message number 355\n",
            "INFO:root:This is log message number 356\n",
            "INFO:root:This is log message number 357\n",
            "INFO:root:This is log message number 358\n",
            "INFO:root:This is log message number 359\n",
            "INFO:root:This is log message number 360\n",
            "INFO:root:This is log message number 361\n",
            "INFO:root:This is log message number 362\n",
            "INFO:root:This is log message number 363\n",
            "INFO:root:This is log message number 364\n",
            "INFO:root:This is log message number 365\n",
            "INFO:root:This is log message number 366\n",
            "INFO:root:This is log message number 367\n",
            "INFO:root:This is log message number 368\n",
            "INFO:root:This is log message number 369\n",
            "INFO:root:This is log message number 370\n",
            "INFO:root:This is log message number 371\n",
            "INFO:root:This is log message number 372\n",
            "INFO:root:This is log message number 373\n",
            "INFO:root:This is log message number 374\n",
            "INFO:root:This is log message number 375\n",
            "INFO:root:This is log message number 376\n",
            "INFO:root:This is log message number 377\n",
            "INFO:root:This is log message number 378\n",
            "INFO:root:This is log message number 379\n",
            "INFO:root:This is log message number 380\n",
            "INFO:root:This is log message number 381\n",
            "INFO:root:This is log message number 382\n",
            "INFO:root:This is log message number 383\n",
            "INFO:root:This is log message number 384\n",
            "INFO:root:This is log message number 385\n",
            "INFO:root:This is log message number 386\n",
            "INFO:root:This is log message number 387\n",
            "INFO:root:This is log message number 388\n",
            "INFO:root:This is log message number 389\n",
            "INFO:root:This is log message number 390\n",
            "INFO:root:This is log message number 391\n",
            "INFO:root:This is log message number 392\n",
            "INFO:root:This is log message number 393\n",
            "INFO:root:This is log message number 394\n",
            "INFO:root:This is log message number 395\n",
            "INFO:root:This is log message number 396\n",
            "INFO:root:This is log message number 397\n",
            "INFO:root:This is log message number 398\n",
            "INFO:root:This is log message number 399\n",
            "INFO:root:This is log message number 400\n",
            "INFO:root:This is log message number 401\n",
            "INFO:root:This is log message number 402\n",
            "INFO:root:This is log message number 403\n",
            "INFO:root:This is log message number 404\n",
            "INFO:root:This is log message number 405\n",
            "INFO:root:This is log message number 406\n",
            "INFO:root:This is log message number 407\n",
            "INFO:root:This is log message number 408\n",
            "INFO:root:This is log message number 409\n",
            "INFO:root:This is log message number 410\n",
            "INFO:root:This is log message number 411\n",
            "INFO:root:This is log message number 412\n",
            "INFO:root:This is log message number 413\n",
            "INFO:root:This is log message number 414\n",
            "INFO:root:This is log message number 415\n",
            "INFO:root:This is log message number 416\n",
            "INFO:root:This is log message number 417\n",
            "INFO:root:This is log message number 418\n",
            "INFO:root:This is log message number 419\n",
            "INFO:root:This is log message number 420\n",
            "INFO:root:This is log message number 421\n",
            "INFO:root:This is log message number 422\n",
            "INFO:root:This is log message number 423\n",
            "INFO:root:This is log message number 424\n",
            "INFO:root:This is log message number 425\n",
            "INFO:root:This is log message number 426\n",
            "INFO:root:This is log message number 427\n",
            "INFO:root:This is log message number 428\n",
            "INFO:root:This is log message number 429\n",
            "INFO:root:This is log message number 430\n",
            "INFO:root:This is log message number 431\n",
            "INFO:root:This is log message number 432\n",
            "INFO:root:This is log message number 433\n",
            "INFO:root:This is log message number 434\n",
            "INFO:root:This is log message number 435\n",
            "INFO:root:This is log message number 436\n",
            "INFO:root:This is log message number 437\n",
            "INFO:root:This is log message number 438\n",
            "INFO:root:This is log message number 439\n",
            "INFO:root:This is log message number 440\n",
            "INFO:root:This is log message number 441\n",
            "INFO:root:This is log message number 442\n",
            "INFO:root:This is log message number 443\n",
            "INFO:root:This is log message number 444\n",
            "INFO:root:This is log message number 445\n",
            "INFO:root:This is log message number 446\n",
            "INFO:root:This is log message number 447\n",
            "INFO:root:This is log message number 448\n",
            "INFO:root:This is log message number 449\n",
            "INFO:root:This is log message number 450\n",
            "INFO:root:This is log message number 451\n",
            "INFO:root:This is log message number 452\n",
            "INFO:root:This is log message number 453\n",
            "INFO:root:This is log message number 454\n",
            "INFO:root:This is log message number 455\n",
            "INFO:root:This is log message number 456\n",
            "INFO:root:This is log message number 457\n",
            "INFO:root:This is log message number 458\n",
            "INFO:root:This is log message number 459\n",
            "INFO:root:This is log message number 460\n",
            "INFO:root:This is log message number 461\n",
            "INFO:root:This is log message number 462\n",
            "INFO:root:This is log message number 463\n",
            "INFO:root:This is log message number 464\n",
            "INFO:root:This is log message number 465\n",
            "INFO:root:This is log message number 466\n",
            "INFO:root:This is log message number 467\n",
            "INFO:root:This is log message number 468\n",
            "INFO:root:This is log message number 469\n",
            "INFO:root:This is log message number 470\n",
            "INFO:root:This is log message number 471\n",
            "INFO:root:This is log message number 472\n",
            "INFO:root:This is log message number 473\n",
            "INFO:root:This is log message number 474\n",
            "INFO:root:This is log message number 475\n",
            "INFO:root:This is log message number 476\n",
            "INFO:root:This is log message number 477\n",
            "INFO:root:This is log message number 478\n",
            "INFO:root:This is log message number 479\n",
            "INFO:root:This is log message number 480\n",
            "INFO:root:This is log message number 481\n",
            "INFO:root:This is log message number 482\n",
            "INFO:root:This is log message number 483\n",
            "INFO:root:This is log message number 484\n",
            "INFO:root:This is log message number 485\n",
            "INFO:root:This is log message number 486\n",
            "INFO:root:This is log message number 487\n",
            "INFO:root:This is log message number 488\n",
            "INFO:root:This is log message number 489\n",
            "INFO:root:This is log message number 490\n",
            "INFO:root:This is log message number 491\n",
            "INFO:root:This is log message number 492\n",
            "INFO:root:This is log message number 493\n",
            "INFO:root:This is log message number 494\n",
            "INFO:root:This is log message number 495\n",
            "INFO:root:This is log message number 496\n",
            "INFO:root:This is log message number 497\n",
            "INFO:root:This is log message number 498\n",
            "INFO:root:This is log message number 499\n",
            "INFO:root:This is log message number 500\n",
            "INFO:root:This is log message number 501\n",
            "INFO:root:This is log message number 502\n",
            "INFO:root:This is log message number 503\n",
            "INFO:root:This is log message number 504\n",
            "INFO:root:This is log message number 505\n",
            "INFO:root:This is log message number 506\n",
            "INFO:root:This is log message number 507\n",
            "INFO:root:This is log message number 508\n",
            "INFO:root:This is log message number 509\n",
            "INFO:root:This is log message number 510\n",
            "INFO:root:This is log message number 511\n",
            "INFO:root:This is log message number 512\n",
            "INFO:root:This is log message number 513\n",
            "INFO:root:This is log message number 514\n",
            "INFO:root:This is log message number 515\n",
            "INFO:root:This is log message number 516\n",
            "INFO:root:This is log message number 517\n",
            "INFO:root:This is log message number 518\n",
            "INFO:root:This is log message number 519\n",
            "INFO:root:This is log message number 520\n",
            "INFO:root:This is log message number 521\n",
            "INFO:root:This is log message number 522\n",
            "INFO:root:This is log message number 523\n",
            "INFO:root:This is log message number 524\n",
            "INFO:root:This is log message number 525\n",
            "INFO:root:This is log message number 526\n",
            "INFO:root:This is log message number 527\n",
            "INFO:root:This is log message number 528\n",
            "INFO:root:This is log message number 529\n",
            "INFO:root:This is log message number 530\n",
            "INFO:root:This is log message number 531\n",
            "INFO:root:This is log message number 532\n",
            "INFO:root:This is log message number 533\n",
            "INFO:root:This is log message number 534\n",
            "INFO:root:This is log message number 535\n",
            "INFO:root:This is log message number 536\n",
            "INFO:root:This is log message number 537\n",
            "INFO:root:This is log message number 538\n",
            "INFO:root:This is log message number 539\n",
            "INFO:root:This is log message number 540\n",
            "INFO:root:This is log message number 541\n",
            "INFO:root:This is log message number 542\n",
            "INFO:root:This is log message number 543\n",
            "INFO:root:This is log message number 544\n",
            "INFO:root:This is log message number 545\n",
            "INFO:root:This is log message number 546\n",
            "INFO:root:This is log message number 547\n",
            "INFO:root:This is log message number 548\n",
            "INFO:root:This is log message number 549\n",
            "INFO:root:This is log message number 550\n",
            "INFO:root:This is log message number 551\n",
            "INFO:root:This is log message number 552\n",
            "INFO:root:This is log message number 553\n",
            "INFO:root:This is log message number 554\n",
            "INFO:root:This is log message number 555\n",
            "INFO:root:This is log message number 556\n",
            "INFO:root:This is log message number 557\n",
            "INFO:root:This is log message number 558\n",
            "INFO:root:This is log message number 559\n",
            "INFO:root:This is log message number 560\n",
            "INFO:root:This is log message number 561\n",
            "INFO:root:This is log message number 562\n",
            "INFO:root:This is log message number 563\n",
            "INFO:root:This is log message number 564\n",
            "INFO:root:This is log message number 565\n",
            "INFO:root:This is log message number 566\n",
            "INFO:root:This is log message number 567\n",
            "INFO:root:This is log message number 568\n",
            "INFO:root:This is log message number 569\n",
            "INFO:root:This is log message number 570\n",
            "INFO:root:This is log message number 571\n",
            "INFO:root:This is log message number 572\n",
            "INFO:root:This is log message number 573\n",
            "INFO:root:This is log message number 574\n",
            "INFO:root:This is log message number 575\n",
            "INFO:root:This is log message number 576\n",
            "INFO:root:This is log message number 577\n",
            "INFO:root:This is log message number 578\n",
            "INFO:root:This is log message number 579\n",
            "INFO:root:This is log message number 580\n",
            "INFO:root:This is log message number 581\n",
            "INFO:root:This is log message number 582\n",
            "INFO:root:This is log message number 583\n",
            "INFO:root:This is log message number 584\n",
            "INFO:root:This is log message number 585\n",
            "INFO:root:This is log message number 586\n",
            "INFO:root:This is log message number 587\n",
            "INFO:root:This is log message number 588\n",
            "INFO:root:This is log message number 589\n",
            "INFO:root:This is log message number 590\n",
            "INFO:root:This is log message number 591\n",
            "INFO:root:This is log message number 592\n",
            "INFO:root:This is log message number 593\n",
            "INFO:root:This is log message number 594\n",
            "INFO:root:This is log message number 595\n",
            "INFO:root:This is log message number 596\n",
            "INFO:root:This is log message number 597\n",
            "INFO:root:This is log message number 598\n",
            "INFO:root:This is log message number 599\n",
            "INFO:root:This is log message number 600\n",
            "INFO:root:This is log message number 601\n",
            "INFO:root:This is log message number 602\n",
            "INFO:root:This is log message number 603\n",
            "INFO:root:This is log message number 604\n",
            "INFO:root:This is log message number 605\n",
            "INFO:root:This is log message number 606\n",
            "INFO:root:This is log message number 607\n",
            "INFO:root:This is log message number 608\n",
            "INFO:root:This is log message number 609\n",
            "INFO:root:This is log message number 610\n",
            "INFO:root:This is log message number 611\n",
            "INFO:root:This is log message number 612\n",
            "INFO:root:This is log message number 613\n",
            "INFO:root:This is log message number 614\n",
            "INFO:root:This is log message number 615\n",
            "INFO:root:This is log message number 616\n",
            "INFO:root:This is log message number 617\n",
            "INFO:root:This is log message number 618\n",
            "INFO:root:This is log message number 619\n",
            "INFO:root:This is log message number 620\n",
            "INFO:root:This is log message number 621\n",
            "INFO:root:This is log message number 622\n",
            "INFO:root:This is log message number 623\n",
            "INFO:root:This is log message number 624\n",
            "INFO:root:This is log message number 625\n",
            "INFO:root:This is log message number 626\n",
            "INFO:root:This is log message number 627\n",
            "INFO:root:This is log message number 628\n",
            "INFO:root:This is log message number 629\n",
            "INFO:root:This is log message number 630\n",
            "INFO:root:This is log message number 631\n",
            "INFO:root:This is log message number 632\n",
            "INFO:root:This is log message number 633\n",
            "INFO:root:This is log message number 634\n",
            "INFO:root:This is log message number 635\n",
            "INFO:root:This is log message number 636\n",
            "INFO:root:This is log message number 637\n",
            "INFO:root:This is log message number 638\n",
            "INFO:root:This is log message number 639\n",
            "INFO:root:This is log message number 640\n",
            "INFO:root:This is log message number 641\n",
            "INFO:root:This is log message number 642\n",
            "INFO:root:This is log message number 643\n",
            "INFO:root:This is log message number 644\n",
            "INFO:root:This is log message number 645\n",
            "INFO:root:This is log message number 646\n",
            "INFO:root:This is log message number 647\n",
            "INFO:root:This is log message number 648\n",
            "INFO:root:This is log message number 649\n",
            "INFO:root:This is log message number 650\n",
            "INFO:root:This is log message number 651\n",
            "INFO:root:This is log message number 652\n",
            "INFO:root:This is log message number 653\n",
            "INFO:root:This is log message number 654\n",
            "INFO:root:This is log message number 655\n",
            "INFO:root:This is log message number 656\n",
            "INFO:root:This is log message number 657\n",
            "INFO:root:This is log message number 658\n",
            "INFO:root:This is log message number 659\n",
            "INFO:root:This is log message number 660\n",
            "INFO:root:This is log message number 661\n",
            "INFO:root:This is log message number 662\n",
            "INFO:root:This is log message number 663\n",
            "INFO:root:This is log message number 664\n",
            "INFO:root:This is log message number 665\n",
            "INFO:root:This is log message number 666\n",
            "INFO:root:This is log message number 667\n",
            "INFO:root:This is log message number 668\n",
            "INFO:root:This is log message number 669\n",
            "INFO:root:This is log message number 670\n",
            "INFO:root:This is log message number 671\n",
            "INFO:root:This is log message number 672\n",
            "INFO:root:This is log message number 673\n",
            "INFO:root:This is log message number 674\n",
            "INFO:root:This is log message number 675\n",
            "INFO:root:This is log message number 676\n",
            "INFO:root:This is log message number 677\n",
            "INFO:root:This is log message number 678\n",
            "INFO:root:This is log message number 679\n",
            "INFO:root:This is log message number 680\n",
            "INFO:root:This is log message number 681\n",
            "INFO:root:This is log message number 682\n",
            "INFO:root:This is log message number 683\n",
            "INFO:root:This is log message number 684\n",
            "INFO:root:This is log message number 685\n",
            "INFO:root:This is log message number 686\n",
            "INFO:root:This is log message number 687\n",
            "INFO:root:This is log message number 688\n",
            "INFO:root:This is log message number 689\n",
            "INFO:root:This is log message number 690\n",
            "INFO:root:This is log message number 691\n",
            "INFO:root:This is log message number 692\n",
            "INFO:root:This is log message number 693\n",
            "INFO:root:This is log message number 694\n",
            "INFO:root:This is log message number 695\n",
            "INFO:root:This is log message number 696\n",
            "INFO:root:This is log message number 697\n",
            "INFO:root:This is log message number 698\n",
            "INFO:root:This is log message number 699\n",
            "INFO:root:This is log message number 700\n",
            "INFO:root:This is log message number 701\n",
            "INFO:root:This is log message number 702\n",
            "INFO:root:This is log message number 703\n",
            "INFO:root:This is log message number 704\n",
            "INFO:root:This is log message number 705\n",
            "INFO:root:This is log message number 706\n",
            "INFO:root:This is log message number 707\n",
            "INFO:root:This is log message number 708\n",
            "INFO:root:This is log message number 709\n",
            "INFO:root:This is log message number 710\n",
            "INFO:root:This is log message number 711\n",
            "INFO:root:This is log message number 712\n",
            "INFO:root:This is log message number 713\n",
            "INFO:root:This is log message number 714\n",
            "INFO:root:This is log message number 715\n",
            "INFO:root:This is log message number 716\n",
            "INFO:root:This is log message number 717\n",
            "INFO:root:This is log message number 718\n",
            "INFO:root:This is log message number 719\n",
            "INFO:root:This is log message number 720\n",
            "INFO:root:This is log message number 721\n",
            "INFO:root:This is log message number 722\n",
            "INFO:root:This is log message number 723\n",
            "INFO:root:This is log message number 724\n",
            "INFO:root:This is log message number 725\n",
            "INFO:root:This is log message number 726\n",
            "INFO:root:This is log message number 727\n",
            "INFO:root:This is log message number 728\n",
            "INFO:root:This is log message number 729\n",
            "INFO:root:This is log message number 730\n",
            "INFO:root:This is log message number 731\n",
            "INFO:root:This is log message number 732\n",
            "INFO:root:This is log message number 733\n",
            "INFO:root:This is log message number 734\n",
            "INFO:root:This is log message number 735\n",
            "INFO:root:This is log message number 736\n",
            "INFO:root:This is log message number 737\n",
            "INFO:root:This is log message number 738\n",
            "INFO:root:This is log message number 739\n",
            "INFO:root:This is log message number 740\n",
            "INFO:root:This is log message number 741\n",
            "INFO:root:This is log message number 742\n",
            "INFO:root:This is log message number 743\n",
            "INFO:root:This is log message number 744\n",
            "INFO:root:This is log message number 745\n",
            "INFO:root:This is log message number 746\n",
            "INFO:root:This is log message number 747\n",
            "INFO:root:This is log message number 748\n",
            "INFO:root:This is log message number 749\n",
            "INFO:root:This is log message number 750\n",
            "INFO:root:This is log message number 751\n",
            "INFO:root:This is log message number 752\n",
            "INFO:root:This is log message number 753\n",
            "INFO:root:This is log message number 754\n",
            "INFO:root:This is log message number 755\n",
            "INFO:root:This is log message number 756\n",
            "INFO:root:This is log message number 757\n",
            "INFO:root:This is log message number 758\n",
            "INFO:root:This is log message number 759\n",
            "INFO:root:This is log message number 760\n",
            "INFO:root:This is log message number 761\n",
            "INFO:root:This is log message number 762\n",
            "INFO:root:This is log message number 763\n",
            "INFO:root:This is log message number 764\n",
            "INFO:root:This is log message number 765\n",
            "INFO:root:This is log message number 766\n",
            "INFO:root:This is log message number 767\n",
            "INFO:root:This is log message number 768\n",
            "INFO:root:This is log message number 769\n",
            "INFO:root:This is log message number 770\n",
            "INFO:root:This is log message number 771\n",
            "INFO:root:This is log message number 772\n",
            "INFO:root:This is log message number 773\n",
            "INFO:root:This is log message number 774\n",
            "INFO:root:This is log message number 775\n",
            "INFO:root:This is log message number 776\n",
            "INFO:root:This is log message number 777\n",
            "INFO:root:This is log message number 778\n",
            "INFO:root:This is log message number 779\n",
            "INFO:root:This is log message number 780\n",
            "INFO:root:This is log message number 781\n",
            "INFO:root:This is log message number 782\n",
            "INFO:root:This is log message number 783\n",
            "INFO:root:This is log message number 784\n",
            "INFO:root:This is log message number 785\n",
            "INFO:root:This is log message number 786\n",
            "INFO:root:This is log message number 787\n",
            "INFO:root:This is log message number 788\n",
            "INFO:root:This is log message number 789\n",
            "INFO:root:This is log message number 790\n",
            "INFO:root:This is log message number 791\n",
            "INFO:root:This is log message number 792\n",
            "INFO:root:This is log message number 793\n",
            "INFO:root:This is log message number 794\n",
            "INFO:root:This is log message number 795\n",
            "INFO:root:This is log message number 796\n",
            "INFO:root:This is log message number 797\n",
            "INFO:root:This is log message number 798\n",
            "INFO:root:This is log message number 799\n",
            "INFO:root:This is log message number 800\n",
            "INFO:root:This is log message number 801\n",
            "INFO:root:This is log message number 802\n",
            "INFO:root:This is log message number 803\n",
            "INFO:root:This is log message number 804\n",
            "INFO:root:This is log message number 805\n",
            "INFO:root:This is log message number 806\n",
            "INFO:root:This is log message number 807\n",
            "INFO:root:This is log message number 808\n",
            "INFO:root:This is log message number 809\n",
            "INFO:root:This is log message number 810\n",
            "INFO:root:This is log message number 811\n",
            "INFO:root:This is log message number 812\n",
            "INFO:root:This is log message number 813\n",
            "INFO:root:This is log message number 814\n",
            "INFO:root:This is log message number 815\n",
            "INFO:root:This is log message number 816\n",
            "INFO:root:This is log message number 817\n",
            "INFO:root:This is log message number 818\n",
            "INFO:root:This is log message number 819\n",
            "INFO:root:This is log message number 820\n",
            "INFO:root:This is log message number 821\n",
            "INFO:root:This is log message number 822\n",
            "INFO:root:This is log message number 823\n",
            "INFO:root:This is log message number 824\n",
            "INFO:root:This is log message number 825\n",
            "INFO:root:This is log message number 826\n",
            "INFO:root:This is log message number 827\n",
            "INFO:root:This is log message number 828\n",
            "INFO:root:This is log message number 829\n",
            "INFO:root:This is log message number 830\n",
            "INFO:root:This is log message number 831\n",
            "INFO:root:This is log message number 832\n",
            "INFO:root:This is log message number 833\n",
            "INFO:root:This is log message number 834\n",
            "INFO:root:This is log message number 835\n",
            "INFO:root:This is log message number 836\n",
            "INFO:root:This is log message number 837\n",
            "INFO:root:This is log message number 838\n",
            "INFO:root:This is log message number 839\n",
            "INFO:root:This is log message number 840\n",
            "INFO:root:This is log message number 841\n",
            "INFO:root:This is log message number 842\n",
            "INFO:root:This is log message number 843\n",
            "INFO:root:This is log message number 844\n",
            "INFO:root:This is log message number 845\n",
            "INFO:root:This is log message number 846\n",
            "INFO:root:This is log message number 847\n",
            "INFO:root:This is log message number 848\n",
            "INFO:root:This is log message number 849\n",
            "INFO:root:This is log message number 850\n",
            "INFO:root:This is log message number 851\n",
            "INFO:root:This is log message number 852\n",
            "INFO:root:This is log message number 853\n",
            "INFO:root:This is log message number 854\n",
            "INFO:root:This is log message number 855\n",
            "INFO:root:This is log message number 856\n",
            "INFO:root:This is log message number 857\n",
            "INFO:root:This is log message number 858\n",
            "INFO:root:This is log message number 859\n",
            "INFO:root:This is log message number 860\n",
            "INFO:root:This is log message number 861\n",
            "INFO:root:This is log message number 862\n",
            "INFO:root:This is log message number 863\n",
            "INFO:root:This is log message number 864\n",
            "INFO:root:This is log message number 865\n",
            "INFO:root:This is log message number 866\n",
            "INFO:root:This is log message number 867\n",
            "INFO:root:This is log message number 868\n",
            "INFO:root:This is log message number 869\n",
            "INFO:root:This is log message number 870\n",
            "INFO:root:This is log message number 871\n",
            "INFO:root:This is log message number 872\n",
            "INFO:root:This is log message number 873\n",
            "INFO:root:This is log message number 874\n",
            "INFO:root:This is log message number 875\n",
            "INFO:root:This is log message number 876\n",
            "INFO:root:This is log message number 877\n",
            "INFO:root:This is log message number 878\n",
            "INFO:root:This is log message number 879\n",
            "INFO:root:This is log message number 880\n",
            "INFO:root:This is log message number 881\n",
            "INFO:root:This is log message number 882\n",
            "INFO:root:This is log message number 883\n",
            "INFO:root:This is log message number 884\n",
            "INFO:root:This is log message number 885\n",
            "INFO:root:This is log message number 886\n",
            "INFO:root:This is log message number 887\n",
            "INFO:root:This is log message number 888\n",
            "INFO:root:This is log message number 889\n",
            "INFO:root:This is log message number 890\n",
            "INFO:root:This is log message number 891\n",
            "INFO:root:This is log message number 892\n",
            "INFO:root:This is log message number 893\n",
            "INFO:root:This is log message number 894\n",
            "INFO:root:This is log message number 895\n",
            "INFO:root:This is log message number 896\n",
            "INFO:root:This is log message number 897\n",
            "INFO:root:This is log message number 898\n",
            "INFO:root:This is log message number 899\n",
            "INFO:root:This is log message number 900\n",
            "INFO:root:This is log message number 901\n",
            "INFO:root:This is log message number 902\n",
            "INFO:root:This is log message number 903\n",
            "INFO:root:This is log message number 904\n",
            "INFO:root:This is log message number 905\n",
            "INFO:root:This is log message number 906\n",
            "INFO:root:This is log message number 907\n",
            "INFO:root:This is log message number 908\n",
            "INFO:root:This is log message number 909\n",
            "INFO:root:This is log message number 910\n",
            "INFO:root:This is log message number 911\n",
            "INFO:root:This is log message number 912\n",
            "INFO:root:This is log message number 913\n",
            "INFO:root:This is log message number 914\n",
            "INFO:root:This is log message number 915\n",
            "INFO:root:This is log message number 916\n",
            "INFO:root:This is log message number 917\n",
            "INFO:root:This is log message number 918\n",
            "INFO:root:This is log message number 919\n",
            "INFO:root:This is log message number 920\n",
            "INFO:root:This is log message number 921\n",
            "INFO:root:This is log message number 922\n",
            "INFO:root:This is log message number 923\n",
            "INFO:root:This is log message number 924\n",
            "INFO:root:This is log message number 925\n",
            "INFO:root:This is log message number 926\n",
            "INFO:root:This is log message number 927\n",
            "INFO:root:This is log message number 928\n",
            "INFO:root:This is log message number 929\n",
            "INFO:root:This is log message number 930\n",
            "INFO:root:This is log message number 931\n",
            "INFO:root:This is log message number 932\n",
            "INFO:root:This is log message number 933\n",
            "INFO:root:This is log message number 934\n",
            "INFO:root:This is log message number 935\n",
            "INFO:root:This is log message number 936\n",
            "INFO:root:This is log message number 937\n",
            "INFO:root:This is log message number 938\n",
            "INFO:root:This is log message number 939\n",
            "INFO:root:This is log message number 940\n",
            "INFO:root:This is log message number 941\n",
            "INFO:root:This is log message number 942\n",
            "INFO:root:This is log message number 943\n",
            "INFO:root:This is log message number 944\n",
            "INFO:root:This is log message number 945\n",
            "INFO:root:This is log message number 946\n",
            "INFO:root:This is log message number 947\n",
            "INFO:root:This is log message number 948\n",
            "INFO:root:This is log message number 949\n",
            "INFO:root:This is log message number 950\n",
            "INFO:root:This is log message number 951\n",
            "INFO:root:This is log message number 952\n",
            "INFO:root:This is log message number 953\n",
            "INFO:root:This is log message number 954\n",
            "INFO:root:This is log message number 955\n",
            "INFO:root:This is log message number 956\n",
            "INFO:root:This is log message number 957\n",
            "INFO:root:This is log message number 958\n",
            "INFO:root:This is log message number 959\n",
            "INFO:root:This is log message number 960\n",
            "INFO:root:This is log message number 961\n",
            "INFO:root:This is log message number 962\n",
            "INFO:root:This is log message number 963\n",
            "INFO:root:This is log message number 964\n",
            "INFO:root:This is log message number 965\n",
            "INFO:root:This is log message number 966\n",
            "INFO:root:This is log message number 967\n",
            "INFO:root:This is log message number 968\n",
            "INFO:root:This is log message number 969\n",
            "INFO:root:This is log message number 970\n",
            "INFO:root:This is log message number 971\n",
            "INFO:root:This is log message number 972\n",
            "INFO:root:This is log message number 973\n",
            "INFO:root:This is log message number 974\n",
            "INFO:root:This is log message number 975\n",
            "INFO:root:This is log message number 976\n",
            "INFO:root:This is log message number 977\n",
            "INFO:root:This is log message number 978\n",
            "INFO:root:This is log message number 979\n",
            "INFO:root:This is log message number 980\n",
            "INFO:root:This is log message number 981\n",
            "INFO:root:This is log message number 982\n",
            "INFO:root:This is log message number 983\n",
            "INFO:root:This is log message number 984\n",
            "INFO:root:This is log message number 985\n",
            "INFO:root:This is log message number 986\n",
            "INFO:root:This is log message number 987\n",
            "INFO:root:This is log message number 988\n",
            "INFO:root:This is log message number 989\n",
            "INFO:root:This is log message number 990\n",
            "INFO:root:This is log message number 991\n",
            "INFO:root:This is log message number 992\n",
            "INFO:root:This is log message number 993\n",
            "INFO:root:This is log message number 994\n",
            "INFO:root:This is log message number 995\n",
            "INFO:root:This is log message number 996\n",
            "INFO:root:This is log message number 997\n",
            "INFO:root:This is log message number 998\n",
            "INFO:root:This is log message number 999\n",
            "INFO:root:This is log message number 1000\n",
            "INFO:root:This is log message number 1001\n",
            "INFO:root:This is log message number 1002\n",
            "INFO:root:This is log message number 1003\n",
            "INFO:root:This is log message number 1004\n",
            "INFO:root:This is log message number 1005\n",
            "INFO:root:This is log message number 1006\n",
            "INFO:root:This is log message number 1007\n",
            "INFO:root:This is log message number 1008\n",
            "INFO:root:This is log message number 1009\n",
            "INFO:root:This is log message number 1010\n",
            "INFO:root:This is log message number 1011\n",
            "INFO:root:This is log message number 1012\n",
            "INFO:root:This is log message number 1013\n",
            "INFO:root:This is log message number 1014\n",
            "INFO:root:This is log message number 1015\n",
            "INFO:root:This is log message number 1016\n",
            "INFO:root:This is log message number 1017\n",
            "INFO:root:This is log message number 1018\n",
            "INFO:root:This is log message number 1019\n",
            "INFO:root:This is log message number 1020\n",
            "INFO:root:This is log message number 1021\n",
            "INFO:root:This is log message number 1022\n",
            "INFO:root:This is log message number 1023\n",
            "INFO:root:This is log message number 1024\n",
            "INFO:root:This is log message number 1025\n",
            "INFO:root:This is log message number 1026\n",
            "INFO:root:This is log message number 1027\n",
            "INFO:root:This is log message number 1028\n",
            "INFO:root:This is log message number 1029\n",
            "INFO:root:This is log message number 1030\n",
            "INFO:root:This is log message number 1031\n",
            "INFO:root:This is log message number 1032\n",
            "INFO:root:This is log message number 1033\n",
            "INFO:root:This is log message number 1034\n",
            "INFO:root:This is log message number 1035\n",
            "INFO:root:This is log message number 1036\n",
            "INFO:root:This is log message number 1037\n",
            "INFO:root:This is log message number 1038\n",
            "INFO:root:This is log message number 1039\n",
            "INFO:root:This is log message number 1040\n",
            "INFO:root:This is log message number 1041\n",
            "INFO:root:This is log message number 1042\n",
            "INFO:root:This is log message number 1043\n",
            "INFO:root:This is log message number 1044\n",
            "INFO:root:This is log message number 1045\n",
            "INFO:root:This is log message number 1046\n",
            "INFO:root:This is log message number 1047\n",
            "INFO:root:This is log message number 1048\n",
            "INFO:root:This is log message number 1049\n",
            "INFO:root:This is log message number 1050\n",
            "INFO:root:This is log message number 1051\n",
            "INFO:root:This is log message number 1052\n",
            "INFO:root:This is log message number 1053\n",
            "INFO:root:This is log message number 1054\n",
            "INFO:root:This is log message number 1055\n",
            "INFO:root:This is log message number 1056\n",
            "INFO:root:This is log message number 1057\n",
            "INFO:root:This is log message number 1058\n",
            "INFO:root:This is log message number 1059\n",
            "INFO:root:This is log message number 1060\n",
            "INFO:root:This is log message number 1061\n",
            "INFO:root:This is log message number 1062\n",
            "INFO:root:This is log message number 1063\n",
            "INFO:root:This is log message number 1064\n",
            "INFO:root:This is log message number 1065\n",
            "INFO:root:This is log message number 1066\n",
            "INFO:root:This is log message number 1067\n",
            "INFO:root:This is log message number 1068\n",
            "INFO:root:This is log message number 1069\n",
            "INFO:root:This is log message number 1070\n",
            "INFO:root:This is log message number 1071\n",
            "INFO:root:This is log message number 1072\n",
            "INFO:root:This is log message number 1073\n",
            "INFO:root:This is log message number 1074\n",
            "INFO:root:This is log message number 1075\n",
            "INFO:root:This is log message number 1076\n",
            "INFO:root:This is log message number 1077\n",
            "INFO:root:This is log message number 1078\n",
            "INFO:root:This is log message number 1079\n",
            "INFO:root:This is log message number 1080\n",
            "INFO:root:This is log message number 1081\n",
            "INFO:root:This is log message number 1082\n",
            "INFO:root:This is log message number 1083\n",
            "INFO:root:This is log message number 1084\n",
            "INFO:root:This is log message number 1085\n",
            "INFO:root:This is log message number 1086\n",
            "INFO:root:This is log message number 1087\n",
            "INFO:root:This is log message number 1088\n",
            "INFO:root:This is log message number 1089\n",
            "INFO:root:This is log message number 1090\n",
            "INFO:root:This is log message number 1091\n",
            "INFO:root:This is log message number 1092\n",
            "INFO:root:This is log message number 1093\n",
            "INFO:root:This is log message number 1094\n",
            "INFO:root:This is log message number 1095\n",
            "INFO:root:This is log message number 1096\n",
            "INFO:root:This is log message number 1097\n",
            "INFO:root:This is log message number 1098\n",
            "INFO:root:This is log message number 1099\n",
            "INFO:root:This is log message number 1100\n",
            "INFO:root:This is log message number 1101\n",
            "INFO:root:This is log message number 1102\n",
            "INFO:root:This is log message number 1103\n",
            "INFO:root:This is log message number 1104\n",
            "INFO:root:This is log message number 1105\n",
            "INFO:root:This is log message number 1106\n",
            "INFO:root:This is log message number 1107\n",
            "INFO:root:This is log message number 1108\n",
            "INFO:root:This is log message number 1109\n",
            "INFO:root:This is log message number 1110\n",
            "INFO:root:This is log message number 1111\n",
            "INFO:root:This is log message number 1112\n",
            "INFO:root:This is log message number 1113\n",
            "INFO:root:This is log message number 1114\n",
            "INFO:root:This is log message number 1115\n",
            "INFO:root:This is log message number 1116\n",
            "INFO:root:This is log message number 1117\n",
            "INFO:root:This is log message number 1118\n",
            "INFO:root:This is log message number 1119\n",
            "INFO:root:This is log message number 1120\n",
            "INFO:root:This is log message number 1121\n",
            "INFO:root:This is log message number 1122\n",
            "INFO:root:This is log message number 1123\n",
            "INFO:root:This is log message number 1124\n",
            "INFO:root:This is log message number 1125\n",
            "INFO:root:This is log message number 1126\n",
            "INFO:root:This is log message number 1127\n",
            "INFO:root:This is log message number 1128\n",
            "INFO:root:This is log message number 1129\n",
            "INFO:root:This is log message number 1130\n",
            "INFO:root:This is log message number 1131\n",
            "INFO:root:This is log message number 1132\n",
            "INFO:root:This is log message number 1133\n",
            "INFO:root:This is log message number 1134\n",
            "INFO:root:This is log message number 1135\n",
            "INFO:root:This is log message number 1136\n",
            "INFO:root:This is log message number 1137\n",
            "INFO:root:This is log message number 1138\n",
            "INFO:root:This is log message number 1139\n",
            "INFO:root:This is log message number 1140\n",
            "INFO:root:This is log message number 1141\n",
            "INFO:root:This is log message number 1142\n",
            "INFO:root:This is log message number 1143\n",
            "INFO:root:This is log message number 1144\n",
            "INFO:root:This is log message number 1145\n",
            "INFO:root:This is log message number 1146\n",
            "INFO:root:This is log message number 1147\n",
            "INFO:root:This is log message number 1148\n",
            "INFO:root:This is log message number 1149\n",
            "INFO:root:This is log message number 1150\n",
            "INFO:root:This is log message number 1151\n",
            "INFO:root:This is log message number 1152\n",
            "INFO:root:This is log message number 1153\n",
            "INFO:root:This is log message number 1154\n",
            "INFO:root:This is log message number 1155\n",
            "INFO:root:This is log message number 1156\n",
            "INFO:root:This is log message number 1157\n",
            "INFO:root:This is log message number 1158\n",
            "INFO:root:This is log message number 1159\n",
            "INFO:root:This is log message number 1160\n",
            "INFO:root:This is log message number 1161\n",
            "INFO:root:This is log message number 1162\n",
            "INFO:root:This is log message number 1163\n",
            "INFO:root:This is log message number 1164\n",
            "INFO:root:This is log message number 1165\n",
            "INFO:root:This is log message number 1166\n",
            "INFO:root:This is log message number 1167\n",
            "INFO:root:This is log message number 1168\n",
            "INFO:root:This is log message number 1169\n",
            "INFO:root:This is log message number 1170\n",
            "INFO:root:This is log message number 1171\n",
            "INFO:root:This is log message number 1172\n",
            "INFO:root:This is log message number 1173\n",
            "INFO:root:This is log message number 1174\n",
            "INFO:root:This is log message number 1175\n",
            "INFO:root:This is log message number 1176\n",
            "INFO:root:This is log message number 1177\n",
            "INFO:root:This is log message number 1178\n",
            "INFO:root:This is log message number 1179\n",
            "INFO:root:This is log message number 1180\n",
            "INFO:root:This is log message number 1181\n",
            "INFO:root:This is log message number 1182\n",
            "INFO:root:This is log message number 1183\n",
            "INFO:root:This is log message number 1184\n",
            "INFO:root:This is log message number 1185\n",
            "INFO:root:This is log message number 1186\n",
            "INFO:root:This is log message number 1187\n",
            "INFO:root:This is log message number 1188\n",
            "INFO:root:This is log message number 1189\n",
            "INFO:root:This is log message number 1190\n",
            "INFO:root:This is log message number 1191\n",
            "INFO:root:This is log message number 1192\n",
            "INFO:root:This is log message number 1193\n",
            "INFO:root:This is log message number 1194\n",
            "INFO:root:This is log message number 1195\n",
            "INFO:root:This is log message number 1196\n",
            "INFO:root:This is log message number 1197\n",
            "INFO:root:This is log message number 1198\n",
            "INFO:root:This is log message number 1199\n",
            "INFO:root:This is log message number 1200\n",
            "INFO:root:This is log message number 1201\n",
            "INFO:root:This is log message number 1202\n",
            "INFO:root:This is log message number 1203\n",
            "INFO:root:This is log message number 1204\n",
            "INFO:root:This is log message number 1205\n",
            "INFO:root:This is log message number 1206\n",
            "INFO:root:This is log message number 1207\n",
            "INFO:root:This is log message number 1208\n",
            "INFO:root:This is log message number 1209\n",
            "INFO:root:This is log message number 1210\n",
            "INFO:root:This is log message number 1211\n",
            "INFO:root:This is log message number 1212\n",
            "INFO:root:This is log message number 1213\n",
            "INFO:root:This is log message number 1214\n",
            "INFO:root:This is log message number 1215\n",
            "INFO:root:This is log message number 1216\n",
            "INFO:root:This is log message number 1217\n",
            "INFO:root:This is log message number 1218\n",
            "INFO:root:This is log message number 1219\n",
            "INFO:root:This is log message number 1220\n",
            "INFO:root:This is log message number 1221\n",
            "INFO:root:This is log message number 1222\n",
            "INFO:root:This is log message number 1223\n",
            "INFO:root:This is log message number 1224\n",
            "INFO:root:This is log message number 1225\n",
            "INFO:root:This is log message number 1226\n",
            "INFO:root:This is log message number 1227\n",
            "INFO:root:This is log message number 1228\n",
            "INFO:root:This is log message number 1229\n",
            "INFO:root:This is log message number 1230\n",
            "INFO:root:This is log message number 1231\n",
            "INFO:root:This is log message number 1232\n",
            "INFO:root:This is log message number 1233\n",
            "INFO:root:This is log message number 1234\n",
            "INFO:root:This is log message number 1235\n",
            "INFO:root:This is log message number 1236\n",
            "INFO:root:This is log message number 1237\n",
            "INFO:root:This is log message number 1238\n",
            "INFO:root:This is log message number 1239\n",
            "INFO:root:This is log message number 1240\n",
            "INFO:root:This is log message number 1241\n",
            "INFO:root:This is log message number 1242\n",
            "INFO:root:This is log message number 1243\n",
            "INFO:root:This is log message number 1244\n",
            "INFO:root:This is log message number 1245\n",
            "INFO:root:This is log message number 1246\n",
            "INFO:root:This is log message number 1247\n",
            "INFO:root:This is log message number 1248\n",
            "INFO:root:This is log message number 1249\n",
            "INFO:root:This is log message number 1250\n",
            "INFO:root:This is log message number 1251\n",
            "INFO:root:This is log message number 1252\n",
            "INFO:root:This is log message number 1253\n",
            "INFO:root:This is log message number 1254\n",
            "INFO:root:This is log message number 1255\n",
            "INFO:root:This is log message number 1256\n",
            "INFO:root:This is log message number 1257\n",
            "INFO:root:This is log message number 1258\n",
            "INFO:root:This is log message number 1259\n",
            "INFO:root:This is log message number 1260\n",
            "INFO:root:This is log message number 1261\n",
            "INFO:root:This is log message number 1262\n",
            "INFO:root:This is log message number 1263\n",
            "INFO:root:This is log message number 1264\n",
            "INFO:root:This is log message number 1265\n",
            "INFO:root:This is log message number 1266\n",
            "INFO:root:This is log message number 1267\n",
            "INFO:root:This is log message number 1268\n",
            "INFO:root:This is log message number 1269\n",
            "INFO:root:This is log message number 1270\n",
            "INFO:root:This is log message number 1271\n",
            "INFO:root:This is log message number 1272\n",
            "INFO:root:This is log message number 1273\n",
            "INFO:root:This is log message number 1274\n",
            "INFO:root:This is log message number 1275\n",
            "INFO:root:This is log message number 1276\n",
            "INFO:root:This is log message number 1277\n",
            "INFO:root:This is log message number 1278\n",
            "INFO:root:This is log message number 1279\n",
            "INFO:root:This is log message number 1280\n",
            "INFO:root:This is log message number 1281\n",
            "INFO:root:This is log message number 1282\n",
            "INFO:root:This is log message number 1283\n",
            "INFO:root:This is log message number 1284\n",
            "INFO:root:This is log message number 1285\n",
            "INFO:root:This is log message number 1286\n",
            "INFO:root:This is log message number 1287\n",
            "INFO:root:This is log message number 1288\n",
            "INFO:root:This is log message number 1289\n",
            "INFO:root:This is log message number 1290\n",
            "INFO:root:This is log message number 1291\n",
            "INFO:root:This is log message number 1292\n",
            "INFO:root:This is log message number 1293\n",
            "INFO:root:This is log message number 1294\n",
            "INFO:root:This is log message number 1295\n",
            "INFO:root:This is log message number 1296\n",
            "INFO:root:This is log message number 1297\n",
            "INFO:root:This is log message number 1298\n",
            "INFO:root:This is log message number 1299\n",
            "INFO:root:This is log message number 1300\n",
            "INFO:root:This is log message number 1301\n",
            "INFO:root:This is log message number 1302\n",
            "INFO:root:This is log message number 1303\n",
            "INFO:root:This is log message number 1304\n",
            "INFO:root:This is log message number 1305\n",
            "INFO:root:This is log message number 1306\n",
            "INFO:root:This is log message number 1307\n",
            "INFO:root:This is log message number 1308\n",
            "INFO:root:This is log message number 1309\n",
            "INFO:root:This is log message number 1310\n",
            "INFO:root:This is log message number 1311\n",
            "INFO:root:This is log message number 1312\n",
            "INFO:root:This is log message number 1313\n",
            "INFO:root:This is log message number 1314\n",
            "INFO:root:This is log message number 1315\n",
            "INFO:root:This is log message number 1316\n",
            "INFO:root:This is log message number 1317\n",
            "INFO:root:This is log message number 1318\n",
            "INFO:root:This is log message number 1319\n",
            "INFO:root:This is log message number 1320\n",
            "INFO:root:This is log message number 1321\n",
            "INFO:root:This is log message number 1322\n",
            "INFO:root:This is log message number 1323\n",
            "INFO:root:This is log message number 1324\n",
            "INFO:root:This is log message number 1325\n",
            "INFO:root:This is log message number 1326\n",
            "INFO:root:This is log message number 1327\n",
            "INFO:root:This is log message number 1328\n",
            "INFO:root:This is log message number 1329\n",
            "INFO:root:This is log message number 1330\n",
            "INFO:root:This is log message number 1331\n",
            "INFO:root:This is log message number 1332\n",
            "INFO:root:This is log message number 1333\n",
            "INFO:root:This is log message number 1334\n",
            "INFO:root:This is log message number 1335\n",
            "INFO:root:This is log message number 1336\n",
            "INFO:root:This is log message number 1337\n",
            "INFO:root:This is log message number 1338\n",
            "INFO:root:This is log message number 1339\n",
            "INFO:root:This is log message number 1340\n",
            "INFO:root:This is log message number 1341\n",
            "INFO:root:This is log message number 1342\n",
            "INFO:root:This is log message number 1343\n",
            "INFO:root:This is log message number 1344\n",
            "INFO:root:This is log message number 1345\n",
            "INFO:root:This is log message number 1346\n",
            "INFO:root:This is log message number 1347\n",
            "INFO:root:This is log message number 1348\n",
            "INFO:root:This is log message number 1349\n",
            "INFO:root:This is log message number 1350\n",
            "INFO:root:This is log message number 1351\n",
            "INFO:root:This is log message number 1352\n",
            "INFO:root:This is log message number 1353\n",
            "INFO:root:This is log message number 1354\n",
            "INFO:root:This is log message number 1355\n",
            "INFO:root:This is log message number 1356\n",
            "INFO:root:This is log message number 1357\n",
            "INFO:root:This is log message number 1358\n",
            "INFO:root:This is log message number 1359\n",
            "INFO:root:This is log message number 1360\n",
            "INFO:root:This is log message number 1361\n",
            "INFO:root:This is log message number 1362\n",
            "INFO:root:This is log message number 1363\n",
            "INFO:root:This is log message number 1364\n",
            "INFO:root:This is log message number 1365\n",
            "INFO:root:This is log message number 1366\n",
            "INFO:root:This is log message number 1367\n",
            "INFO:root:This is log message number 1368\n",
            "INFO:root:This is log message number 1369\n",
            "INFO:root:This is log message number 1370\n",
            "INFO:root:This is log message number 1371\n",
            "INFO:root:This is log message number 1372\n",
            "INFO:root:This is log message number 1373\n",
            "INFO:root:This is log message number 1374\n",
            "INFO:root:This is log message number 1375\n",
            "INFO:root:This is log message number 1376\n",
            "INFO:root:This is log message number 1377\n",
            "INFO:root:This is log message number 1378\n",
            "INFO:root:This is log message number 1379\n",
            "INFO:root:This is log message number 1380\n",
            "INFO:root:This is log message number 1381\n",
            "INFO:root:This is log message number 1382\n",
            "INFO:root:This is log message number 1383\n",
            "INFO:root:This is log message number 1384\n",
            "INFO:root:This is log message number 1385\n",
            "INFO:root:This is log message number 1386\n",
            "INFO:root:This is log message number 1387\n",
            "INFO:root:This is log message number 1388\n",
            "INFO:root:This is log message number 1389\n",
            "INFO:root:This is log message number 1390\n",
            "INFO:root:This is log message number 1391\n",
            "INFO:root:This is log message number 1392\n",
            "INFO:root:This is log message number 1393\n",
            "INFO:root:This is log message number 1394\n",
            "INFO:root:This is log message number 1395\n",
            "INFO:root:This is log message number 1396\n",
            "INFO:root:This is log message number 1397\n",
            "INFO:root:This is log message number 1398\n",
            "INFO:root:This is log message number 1399\n",
            "INFO:root:This is log message number 1400\n",
            "INFO:root:This is log message number 1401\n",
            "INFO:root:This is log message number 1402\n",
            "INFO:root:This is log message number 1403\n",
            "INFO:root:This is log message number 1404\n",
            "INFO:root:This is log message number 1405\n",
            "INFO:root:This is log message number 1406\n",
            "INFO:root:This is log message number 1407\n",
            "INFO:root:This is log message number 1408\n",
            "INFO:root:This is log message number 1409\n",
            "INFO:root:This is log message number 1410\n",
            "INFO:root:This is log message number 1411\n",
            "INFO:root:This is log message number 1412\n",
            "INFO:root:This is log message number 1413\n",
            "INFO:root:This is log message number 1414\n",
            "INFO:root:This is log message number 1415\n",
            "INFO:root:This is log message number 1416\n",
            "INFO:root:This is log message number 1417\n",
            "INFO:root:This is log message number 1418\n",
            "INFO:root:This is log message number 1419\n",
            "INFO:root:This is log message number 1420\n",
            "INFO:root:This is log message number 1421\n",
            "INFO:root:This is log message number 1422\n",
            "INFO:root:This is log message number 1423\n",
            "INFO:root:This is log message number 1424\n",
            "INFO:root:This is log message number 1425\n",
            "INFO:root:This is log message number 1426\n",
            "INFO:root:This is log message number 1427\n",
            "INFO:root:This is log message number 1428\n",
            "INFO:root:This is log message number 1429\n",
            "INFO:root:This is log message number 1430\n",
            "INFO:root:This is log message number 1431\n",
            "INFO:root:This is log message number 1432\n",
            "INFO:root:This is log message number 1433\n",
            "INFO:root:This is log message number 1434\n",
            "INFO:root:This is log message number 1435\n",
            "INFO:root:This is log message number 1436\n",
            "INFO:root:This is log message number 1437\n",
            "INFO:root:This is log message number 1438\n",
            "INFO:root:This is log message number 1439\n",
            "INFO:root:This is log message number 1440\n",
            "INFO:root:This is log message number 1441\n",
            "INFO:root:This is log message number 1442\n",
            "INFO:root:This is log message number 1443\n",
            "INFO:root:This is log message number 1444\n",
            "INFO:root:This is log message number 1445\n",
            "INFO:root:This is log message number 1446\n",
            "INFO:root:This is log message number 1447\n",
            "INFO:root:This is log message number 1448\n",
            "INFO:root:This is log message number 1449\n",
            "INFO:root:This is log message number 1450\n",
            "INFO:root:This is log message number 1451\n",
            "INFO:root:This is log message number 1452\n",
            "INFO:root:This is log message number 1453\n",
            "INFO:root:This is log message number 1454\n",
            "INFO:root:This is log message number 1455\n",
            "INFO:root:This is log message number 1456\n",
            "INFO:root:This is log message number 1457\n",
            "INFO:root:This is log message number 1458\n",
            "INFO:root:This is log message number 1459\n",
            "INFO:root:This is log message number 1460\n",
            "INFO:root:This is log message number 1461\n",
            "INFO:root:This is log message number 1462\n",
            "INFO:root:This is log message number 1463\n",
            "INFO:root:This is log message number 1464\n",
            "INFO:root:This is log message number 1465\n",
            "INFO:root:This is log message number 1466\n",
            "INFO:root:This is log message number 1467\n",
            "INFO:root:This is log message number 1468\n",
            "INFO:root:This is log message number 1469\n",
            "INFO:root:This is log message number 1470\n",
            "INFO:root:This is log message number 1471\n",
            "INFO:root:This is log message number 1472\n",
            "INFO:root:This is log message number 1473\n",
            "INFO:root:This is log message number 1474\n",
            "INFO:root:This is log message number 1475\n",
            "INFO:root:This is log message number 1476\n",
            "INFO:root:This is log message number 1477\n",
            "INFO:root:This is log message number 1478\n",
            "INFO:root:This is log message number 1479\n",
            "INFO:root:This is log message number 1480\n",
            "INFO:root:This is log message number 1481\n",
            "INFO:root:This is log message number 1482\n",
            "INFO:root:This is log message number 1483\n",
            "INFO:root:This is log message number 1484\n",
            "INFO:root:This is log message number 1485\n",
            "INFO:root:This is log message number 1486\n",
            "INFO:root:This is log message number 1487\n",
            "INFO:root:This is log message number 1488\n",
            "INFO:root:This is log message number 1489\n",
            "INFO:root:This is log message number 1490\n",
            "INFO:root:This is log message number 1491\n",
            "INFO:root:This is log message number 1492\n",
            "INFO:root:This is log message number 1493\n",
            "INFO:root:This is log message number 1494\n",
            "INFO:root:This is log message number 1495\n",
            "INFO:root:This is log message number 1496\n",
            "INFO:root:This is log message number 1497\n",
            "INFO:root:This is log message number 1498\n",
            "INFO:root:This is log message number 1499\n",
            "INFO:root:This is log message number 1500\n",
            "INFO:root:This is log message number 1501\n",
            "INFO:root:This is log message number 1502\n",
            "INFO:root:This is log message number 1503\n",
            "INFO:root:This is log message number 1504\n",
            "INFO:root:This is log message number 1505\n",
            "INFO:root:This is log message number 1506\n",
            "INFO:root:This is log message number 1507\n",
            "INFO:root:This is log message number 1508\n",
            "INFO:root:This is log message number 1509\n",
            "INFO:root:This is log message number 1510\n",
            "INFO:root:This is log message number 1511\n",
            "INFO:root:This is log message number 1512\n",
            "INFO:root:This is log message number 1513\n",
            "INFO:root:This is log message number 1514\n",
            "INFO:root:This is log message number 1515\n",
            "INFO:root:This is log message number 1516\n",
            "INFO:root:This is log message number 1517\n",
            "INFO:root:This is log message number 1518\n",
            "INFO:root:This is log message number 1519\n",
            "INFO:root:This is log message number 1520\n",
            "INFO:root:This is log message number 1521\n",
            "INFO:root:This is log message number 1522\n",
            "INFO:root:This is log message number 1523\n",
            "INFO:root:This is log message number 1524\n",
            "INFO:root:This is log message number 1525\n",
            "INFO:root:This is log message number 1526\n",
            "INFO:root:This is log message number 1527\n",
            "INFO:root:This is log message number 1528\n",
            "INFO:root:This is log message number 1529\n",
            "INFO:root:This is log message number 1530\n",
            "INFO:root:This is log message number 1531\n",
            "INFO:root:This is log message number 1532\n",
            "INFO:root:This is log message number 1533\n",
            "INFO:root:This is log message number 1534\n",
            "INFO:root:This is log message number 1535\n",
            "INFO:root:This is log message number 1536\n",
            "INFO:root:This is log message number 1537\n",
            "INFO:root:This is log message number 1538\n",
            "INFO:root:This is log message number 1539\n",
            "INFO:root:This is log message number 1540\n",
            "INFO:root:This is log message number 1541\n",
            "INFO:root:This is log message number 1542\n",
            "INFO:root:This is log message number 1543\n",
            "INFO:root:This is log message number 1544\n",
            "INFO:root:This is log message number 1545\n",
            "INFO:root:This is log message number 1546\n",
            "INFO:root:This is log message number 1547\n",
            "INFO:root:This is log message number 1548\n",
            "INFO:root:This is log message number 1549\n",
            "INFO:root:This is log message number 1550\n",
            "INFO:root:This is log message number 1551\n",
            "INFO:root:This is log message number 1552\n",
            "INFO:root:This is log message number 1553\n",
            "INFO:root:This is log message number 1554\n",
            "INFO:root:This is log message number 1555\n",
            "INFO:root:This is log message number 1556\n",
            "INFO:root:This is log message number 1557\n",
            "INFO:root:This is log message number 1558\n",
            "INFO:root:This is log message number 1559\n",
            "INFO:root:This is log message number 1560\n",
            "INFO:root:This is log message number 1561\n",
            "INFO:root:This is log message number 1562\n",
            "INFO:root:This is log message number 1563\n",
            "INFO:root:This is log message number 1564\n",
            "INFO:root:This is log message number 1565\n",
            "INFO:root:This is log message number 1566\n",
            "INFO:root:This is log message number 1567\n",
            "INFO:root:This is log message number 1568\n",
            "INFO:root:This is log message number 1569\n",
            "INFO:root:This is log message number 1570\n",
            "INFO:root:This is log message number 1571\n",
            "INFO:root:This is log message number 1572\n",
            "INFO:root:This is log message number 1573\n",
            "INFO:root:This is log message number 1574\n",
            "INFO:root:This is log message number 1575\n",
            "INFO:root:This is log message number 1576\n",
            "INFO:root:This is log message number 1577\n",
            "INFO:root:This is log message number 1578\n",
            "INFO:root:This is log message number 1579\n",
            "INFO:root:This is log message number 1580\n",
            "INFO:root:This is log message number 1581\n",
            "INFO:root:This is log message number 1582\n",
            "INFO:root:This is log message number 1583\n",
            "INFO:root:This is log message number 1584\n",
            "INFO:root:This is log message number 1585\n",
            "INFO:root:This is log message number 1586\n",
            "INFO:root:This is log message number 1587\n",
            "INFO:root:This is log message number 1588\n",
            "INFO:root:This is log message number 1589\n",
            "INFO:root:This is log message number 1590\n",
            "INFO:root:This is log message number 1591\n",
            "INFO:root:This is log message number 1592\n",
            "INFO:root:This is log message number 1593\n",
            "INFO:root:This is log message number 1594\n",
            "INFO:root:This is log message number 1595\n",
            "INFO:root:This is log message number 1596\n",
            "INFO:root:This is log message number 1597\n",
            "INFO:root:This is log message number 1598\n",
            "INFO:root:This is log message number 1599\n",
            "INFO:root:This is log message number 1600\n",
            "INFO:root:This is log message number 1601\n",
            "INFO:root:This is log message number 1602\n",
            "INFO:root:This is log message number 1603\n",
            "INFO:root:This is log message number 1604\n",
            "INFO:root:This is log message number 1605\n",
            "INFO:root:This is log message number 1606\n",
            "INFO:root:This is log message number 1607\n",
            "INFO:root:This is log message number 1608\n",
            "INFO:root:This is log message number 1609\n",
            "INFO:root:This is log message number 1610\n",
            "INFO:root:This is log message number 1611\n",
            "INFO:root:This is log message number 1612\n",
            "INFO:root:This is log message number 1613\n",
            "INFO:root:This is log message number 1614\n",
            "INFO:root:This is log message number 1615\n",
            "INFO:root:This is log message number 1616\n",
            "INFO:root:This is log message number 1617\n",
            "INFO:root:This is log message number 1618\n",
            "INFO:root:This is log message number 1619\n",
            "INFO:root:This is log message number 1620\n",
            "INFO:root:This is log message number 1621\n",
            "INFO:root:This is log message number 1622\n",
            "INFO:root:This is log message number 1623\n",
            "INFO:root:This is log message number 1624\n",
            "INFO:root:This is log message number 1625\n",
            "INFO:root:This is log message number 1626\n",
            "INFO:root:This is log message number 1627\n",
            "INFO:root:This is log message number 1628\n",
            "INFO:root:This is log message number 1629\n",
            "INFO:root:This is log message number 1630\n",
            "INFO:root:This is log message number 1631\n",
            "INFO:root:This is log message number 1632\n",
            "INFO:root:This is log message number 1633\n",
            "INFO:root:This is log message number 1634\n",
            "INFO:root:This is log message number 1635\n",
            "INFO:root:This is log message number 1636\n",
            "INFO:root:This is log message number 1637\n",
            "INFO:root:This is log message number 1638\n",
            "INFO:root:This is log message number 1639\n",
            "INFO:root:This is log message number 1640\n",
            "INFO:root:This is log message number 1641\n",
            "INFO:root:This is log message number 1642\n",
            "INFO:root:This is log message number 1643\n",
            "INFO:root:This is log message number 1644\n",
            "INFO:root:This is log message number 1645\n",
            "INFO:root:This is log message number 1646\n",
            "INFO:root:This is log message number 1647\n",
            "INFO:root:This is log message number 1648\n",
            "INFO:root:This is log message number 1649\n",
            "INFO:root:This is log message number 1650\n",
            "INFO:root:This is log message number 1651\n",
            "INFO:root:This is log message number 1652\n",
            "INFO:root:This is log message number 1653\n",
            "INFO:root:This is log message number 1654\n",
            "INFO:root:This is log message number 1655\n",
            "INFO:root:This is log message number 1656\n",
            "INFO:root:This is log message number 1657\n",
            "INFO:root:This is log message number 1658\n",
            "INFO:root:This is log message number 1659\n",
            "INFO:root:This is log message number 1660\n",
            "INFO:root:This is log message number 1661\n",
            "INFO:root:This is log message number 1662\n",
            "INFO:root:This is log message number 1663\n",
            "INFO:root:This is log message number 1664\n",
            "INFO:root:This is log message number 1665\n",
            "INFO:root:This is log message number 1666\n",
            "INFO:root:This is log message number 1667\n",
            "INFO:root:This is log message number 1668\n",
            "INFO:root:This is log message number 1669\n",
            "INFO:root:This is log message number 1670\n",
            "INFO:root:This is log message number 1671\n",
            "INFO:root:This is log message number 1672\n",
            "INFO:root:This is log message number 1673\n",
            "INFO:root:This is log message number 1674\n",
            "INFO:root:This is log message number 1675\n",
            "INFO:root:This is log message number 1676\n",
            "INFO:root:This is log message number 1677\n",
            "INFO:root:This is log message number 1678\n",
            "INFO:root:This is log message number 1679\n",
            "INFO:root:This is log message number 1680\n",
            "INFO:root:This is log message number 1681\n",
            "INFO:root:This is log message number 1682\n",
            "INFO:root:This is log message number 1683\n",
            "INFO:root:This is log message number 1684\n",
            "INFO:root:This is log message number 1685\n",
            "INFO:root:This is log message number 1686\n",
            "INFO:root:This is log message number 1687\n",
            "INFO:root:This is log message number 1688\n",
            "INFO:root:This is log message number 1689\n",
            "INFO:root:This is log message number 1690\n",
            "INFO:root:This is log message number 1691\n",
            "INFO:root:This is log message number 1692\n",
            "INFO:root:This is log message number 1693\n",
            "INFO:root:This is log message number 1694\n",
            "INFO:root:This is log message number 1695\n",
            "INFO:root:This is log message number 1696\n",
            "INFO:root:This is log message number 1697\n",
            "INFO:root:This is log message number 1698\n",
            "INFO:root:This is log message number 1699\n",
            "INFO:root:This is log message number 1700\n",
            "INFO:root:This is log message number 1701\n",
            "INFO:root:This is log message number 1702\n",
            "INFO:root:This is log message number 1703\n",
            "INFO:root:This is log message number 1704\n",
            "INFO:root:This is log message number 1705\n",
            "INFO:root:This is log message number 1706\n",
            "INFO:root:This is log message number 1707\n",
            "INFO:root:This is log message number 1708\n",
            "INFO:root:This is log message number 1709\n",
            "INFO:root:This is log message number 1710\n",
            "INFO:root:This is log message number 1711\n",
            "INFO:root:This is log message number 1712\n",
            "INFO:root:This is log message number 1713\n",
            "INFO:root:This is log message number 1714\n",
            "INFO:root:This is log message number 1715\n",
            "INFO:root:This is log message number 1716\n",
            "INFO:root:This is log message number 1717\n",
            "INFO:root:This is log message number 1718\n",
            "INFO:root:This is log message number 1719\n",
            "INFO:root:This is log message number 1720\n",
            "INFO:root:This is log message number 1721\n",
            "INFO:root:This is log message number 1722\n",
            "INFO:root:This is log message number 1723\n",
            "INFO:root:This is log message number 1724\n",
            "INFO:root:This is log message number 1725\n",
            "INFO:root:This is log message number 1726\n",
            "INFO:root:This is log message number 1727\n",
            "INFO:root:This is log message number 1728\n",
            "INFO:root:This is log message number 1729\n",
            "INFO:root:This is log message number 1730\n",
            "INFO:root:This is log message number 1731\n",
            "INFO:root:This is log message number 1732\n",
            "INFO:root:This is log message number 1733\n",
            "INFO:root:This is log message number 1734\n",
            "INFO:root:This is log message number 1735\n",
            "INFO:root:This is log message number 1736\n",
            "INFO:root:This is log message number 1737\n",
            "INFO:root:This is log message number 1738\n",
            "INFO:root:This is log message number 1739\n",
            "INFO:root:This is log message number 1740\n",
            "INFO:root:This is log message number 1741\n",
            "INFO:root:This is log message number 1742\n",
            "INFO:root:This is log message number 1743\n",
            "INFO:root:This is log message number 1744\n",
            "INFO:root:This is log message number 1745\n",
            "INFO:root:This is log message number 1746\n",
            "INFO:root:This is log message number 1747\n",
            "INFO:root:This is log message number 1748\n",
            "INFO:root:This is log message number 1749\n",
            "INFO:root:This is log message number 1750\n",
            "INFO:root:This is log message number 1751\n",
            "INFO:root:This is log message number 1752\n",
            "INFO:root:This is log message number 1753\n",
            "INFO:root:This is log message number 1754\n",
            "INFO:root:This is log message number 1755\n",
            "INFO:root:This is log message number 1756\n",
            "INFO:root:This is log message number 1757\n",
            "INFO:root:This is log message number 1758\n",
            "INFO:root:This is log message number 1759\n",
            "INFO:root:This is log message number 1760\n",
            "INFO:root:This is log message number 1761\n",
            "INFO:root:This is log message number 1762\n",
            "INFO:root:This is log message number 1763\n",
            "INFO:root:This is log message number 1764\n",
            "INFO:root:This is log message number 1765\n",
            "INFO:root:This is log message number 1766\n",
            "INFO:root:This is log message number 1767\n",
            "INFO:root:This is log message number 1768\n",
            "INFO:root:This is log message number 1769\n",
            "INFO:root:This is log message number 1770\n",
            "INFO:root:This is log message number 1771\n",
            "INFO:root:This is log message number 1772\n",
            "INFO:root:This is log message number 1773\n",
            "INFO:root:This is log message number 1774\n",
            "INFO:root:This is log message number 1775\n",
            "INFO:root:This is log message number 1776\n",
            "INFO:root:This is log message number 1777\n",
            "INFO:root:This is log message number 1778\n",
            "INFO:root:This is log message number 1779\n",
            "INFO:root:This is log message number 1780\n",
            "INFO:root:This is log message number 1781\n",
            "INFO:root:This is log message number 1782\n",
            "INFO:root:This is log message number 1783\n",
            "INFO:root:This is log message number 1784\n",
            "INFO:root:This is log message number 1785\n",
            "INFO:root:This is log message number 1786\n",
            "INFO:root:This is log message number 1787\n",
            "INFO:root:This is log message number 1788\n",
            "INFO:root:This is log message number 1789\n",
            "INFO:root:This is log message number 1790\n",
            "INFO:root:This is log message number 1791\n",
            "INFO:root:This is log message number 1792\n",
            "INFO:root:This is log message number 1793\n",
            "INFO:root:This is log message number 1794\n",
            "INFO:root:This is log message number 1795\n",
            "INFO:root:This is log message number 1796\n",
            "INFO:root:This is log message number 1797\n",
            "INFO:root:This is log message number 1798\n",
            "INFO:root:This is log message number 1799\n",
            "INFO:root:This is log message number 1800\n",
            "INFO:root:This is log message number 1801\n",
            "INFO:root:This is log message number 1802\n",
            "INFO:root:This is log message number 1803\n",
            "INFO:root:This is log message number 1804\n",
            "INFO:root:This is log message number 1805\n",
            "INFO:root:This is log message number 1806\n",
            "INFO:root:This is log message number 1807\n",
            "INFO:root:This is log message number 1808\n",
            "INFO:root:This is log message number 1809\n",
            "INFO:root:This is log message number 1810\n",
            "INFO:root:This is log message number 1811\n",
            "INFO:root:This is log message number 1812\n",
            "INFO:root:This is log message number 1813\n",
            "INFO:root:This is log message number 1814\n",
            "INFO:root:This is log message number 1815\n",
            "INFO:root:This is log message number 1816\n",
            "INFO:root:This is log message number 1817\n",
            "INFO:root:This is log message number 1818\n",
            "INFO:root:This is log message number 1819\n",
            "INFO:root:This is log message number 1820\n",
            "INFO:root:This is log message number 1821\n",
            "INFO:root:This is log message number 1822\n",
            "INFO:root:This is log message number 1823\n",
            "INFO:root:This is log message number 1824\n",
            "INFO:root:This is log message number 1825\n",
            "INFO:root:This is log message number 1826\n",
            "INFO:root:This is log message number 1827\n",
            "INFO:root:This is log message number 1828\n",
            "INFO:root:This is log message number 1829\n",
            "INFO:root:This is log message number 1830\n",
            "INFO:root:This is log message number 1831\n",
            "INFO:root:This is log message number 1832\n",
            "INFO:root:This is log message number 1833\n",
            "INFO:root:This is log message number 1834\n",
            "INFO:root:This is log message number 1835\n",
            "INFO:root:This is log message number 1836\n",
            "INFO:root:This is log message number 1837\n",
            "INFO:root:This is log message number 1838\n",
            "INFO:root:This is log message number 1839\n",
            "INFO:root:This is log message number 1840\n",
            "INFO:root:This is log message number 1841\n",
            "INFO:root:This is log message number 1842\n",
            "INFO:root:This is log message number 1843\n",
            "INFO:root:This is log message number 1844\n",
            "INFO:root:This is log message number 1845\n",
            "INFO:root:This is log message number 1846\n",
            "INFO:root:This is log message number 1847\n",
            "INFO:root:This is log message number 1848\n",
            "INFO:root:This is log message number 1849\n",
            "INFO:root:This is log message number 1850\n",
            "INFO:root:This is log message number 1851\n",
            "INFO:root:This is log message number 1852\n",
            "INFO:root:This is log message number 1853\n",
            "INFO:root:This is log message number 1854\n",
            "INFO:root:This is log message number 1855\n",
            "INFO:root:This is log message number 1856\n",
            "INFO:root:This is log message number 1857\n",
            "INFO:root:This is log message number 1858\n",
            "INFO:root:This is log message number 1859\n",
            "INFO:root:This is log message number 1860\n",
            "INFO:root:This is log message number 1861\n",
            "INFO:root:This is log message number 1862\n",
            "INFO:root:This is log message number 1863\n",
            "INFO:root:This is log message number 1864\n",
            "INFO:root:This is log message number 1865\n",
            "INFO:root:This is log message number 1866\n",
            "INFO:root:This is log message number 1867\n",
            "INFO:root:This is log message number 1868\n",
            "INFO:root:This is log message number 1869\n",
            "INFO:root:This is log message number 1870\n",
            "INFO:root:This is log message number 1871\n",
            "INFO:root:This is log message number 1872\n",
            "INFO:root:This is log message number 1873\n",
            "INFO:root:This is log message number 1874\n",
            "INFO:root:This is log message number 1875\n",
            "INFO:root:This is log message number 1876\n",
            "INFO:root:This is log message number 1877\n",
            "INFO:root:This is log message number 1878\n",
            "INFO:root:This is log message number 1879\n",
            "INFO:root:This is log message number 1880\n",
            "INFO:root:This is log message number 1881\n",
            "INFO:root:This is log message number 1882\n",
            "INFO:root:This is log message number 1883\n",
            "INFO:root:This is log message number 1884\n",
            "INFO:root:This is log message number 1885\n",
            "INFO:root:This is log message number 1886\n",
            "INFO:root:This is log message number 1887\n",
            "INFO:root:This is log message number 1888\n",
            "INFO:root:This is log message number 1889\n",
            "INFO:root:This is log message number 1890\n",
            "INFO:root:This is log message number 1891\n",
            "INFO:root:This is log message number 1892\n",
            "INFO:root:This is log message number 1893\n",
            "INFO:root:This is log message number 1894\n",
            "INFO:root:This is log message number 1895\n",
            "INFO:root:This is log message number 1896\n",
            "INFO:root:This is log message number 1897\n",
            "INFO:root:This is log message number 1898\n",
            "INFO:root:This is log message number 1899\n",
            "INFO:root:This is log message number 1900\n",
            "INFO:root:This is log message number 1901\n",
            "INFO:root:This is log message number 1902\n",
            "INFO:root:This is log message number 1903\n",
            "INFO:root:This is log message number 1904\n",
            "INFO:root:This is log message number 1905\n",
            "INFO:root:This is log message number 1906\n",
            "INFO:root:This is log message number 1907\n",
            "INFO:root:This is log message number 1908\n",
            "INFO:root:This is log message number 1909\n",
            "INFO:root:This is log message number 1910\n",
            "INFO:root:This is log message number 1911\n",
            "INFO:root:This is log message number 1912\n",
            "INFO:root:This is log message number 1913\n",
            "INFO:root:This is log message number 1914\n",
            "INFO:root:This is log message number 1915\n",
            "INFO:root:This is log message number 1916\n",
            "INFO:root:This is log message number 1917\n",
            "INFO:root:This is log message number 1918\n",
            "INFO:root:This is log message number 1919\n",
            "INFO:root:This is log message number 1920\n",
            "INFO:root:This is log message number 1921\n",
            "INFO:root:This is log message number 1922\n",
            "INFO:root:This is log message number 1923\n",
            "INFO:root:This is log message number 1924\n",
            "INFO:root:This is log message number 1925\n",
            "INFO:root:This is log message number 1926\n",
            "INFO:root:This is log message number 1927\n",
            "INFO:root:This is log message number 1928\n",
            "INFO:root:This is log message number 1929\n",
            "INFO:root:This is log message number 1930\n",
            "INFO:root:This is log message number 1931\n",
            "INFO:root:This is log message number 1932\n",
            "INFO:root:This is log message number 1933\n",
            "INFO:root:This is log message number 1934\n",
            "INFO:root:This is log message number 1935\n",
            "INFO:root:This is log message number 1936\n",
            "INFO:root:This is log message number 1937\n",
            "INFO:root:This is log message number 1938\n",
            "INFO:root:This is log message number 1939\n",
            "INFO:root:This is log message number 1940\n",
            "INFO:root:This is log message number 1941\n",
            "INFO:root:This is log message number 1942\n",
            "INFO:root:This is log message number 1943\n",
            "INFO:root:This is log message number 1944\n",
            "INFO:root:This is log message number 1945\n",
            "INFO:root:This is log message number 1946\n",
            "INFO:root:This is log message number 1947\n",
            "INFO:root:This is log message number 1948\n",
            "INFO:root:This is log message number 1949\n",
            "INFO:root:This is log message number 1950\n",
            "INFO:root:This is log message number 1951\n",
            "INFO:root:This is log message number 1952\n",
            "INFO:root:This is log message number 1953\n",
            "INFO:root:This is log message number 1954\n",
            "INFO:root:This is log message number 1955\n",
            "INFO:root:This is log message number 1956\n",
            "INFO:root:This is log message number 1957\n",
            "INFO:root:This is log message number 1958\n",
            "INFO:root:This is log message number 1959\n",
            "INFO:root:This is log message number 1960\n",
            "INFO:root:This is log message number 1961\n",
            "INFO:root:This is log message number 1962\n",
            "INFO:root:This is log message number 1963\n",
            "INFO:root:This is log message number 1964\n",
            "INFO:root:This is log message number 1965\n",
            "INFO:root:This is log message number 1966\n",
            "INFO:root:This is log message number 1967\n",
            "INFO:root:This is log message number 1968\n",
            "INFO:root:This is log message number 1969\n",
            "INFO:root:This is log message number 1970\n",
            "INFO:root:This is log message number 1971\n",
            "INFO:root:This is log message number 1972\n",
            "INFO:root:This is log message number 1973\n",
            "INFO:root:This is log message number 1974\n",
            "INFO:root:This is log message number 1975\n",
            "INFO:root:This is log message number 1976\n",
            "INFO:root:This is log message number 1977\n",
            "INFO:root:This is log message number 1978\n",
            "INFO:root:This is log message number 1979\n",
            "INFO:root:This is log message number 1980\n",
            "INFO:root:This is log message number 1981\n",
            "INFO:root:This is log message number 1982\n",
            "INFO:root:This is log message number 1983\n",
            "INFO:root:This is log message number 1984\n",
            "INFO:root:This is log message number 1985\n",
            "INFO:root:This is log message number 1986\n",
            "INFO:root:This is log message number 1987\n",
            "INFO:root:This is log message number 1988\n",
            "INFO:root:This is log message number 1989\n",
            "INFO:root:This is log message number 1990\n",
            "INFO:root:This is log message number 1991\n",
            "INFO:root:This is log message number 1992\n",
            "INFO:root:This is log message number 1993\n",
            "INFO:root:This is log message number 1994\n",
            "INFO:root:This is log message number 1995\n",
            "INFO:root:This is log message number 1996\n",
            "INFO:root:This is log message number 1997\n",
            "INFO:root:This is log message number 1998\n",
            "INFO:root:This is log message number 1999\n"
          ]
        },
        {
          "output_type": "stream",
          "name": "stdout",
          "text": [
            "Logged messages to rotating_log.log. Check the directory for rotated files.\n",
            "Current size of rotating_log.log: 142890 bytes\n"
          ]
        }
      ]
    },
    {
      "cell_type": "markdown",
      "source": [
        "  19. Write a program that handles both IndexError and KeyError using a try-except block."
      ],
      "metadata": {
        "id": "jorCofEVew1-"
      }
    },
    {
      "cell_type": "code",
      "source": [
        "def access_data(data, key_or_index):\n",
        "    try:\n",
        "\n",
        "        if isinstance(data, dict):\n",
        "            value = data[key_or_index]\n",
        "        elif isinstance(data, list):\n",
        "            value = data[key_or_index]\n",
        "        else:\n",
        "            print(\"Unsupported data type.\")\n",
        "            return\n",
        "\n",
        "        print(f\"Accessed value: {value}\")\n",
        "\n",
        "    except (KeyError, IndexError) as e:\n",
        "        print(f\"Error: {e}. The key or index does not exist.\")\n",
        "    except Exception as e:\n",
        "        print(f\"An unexpected error occurred: {e}\")\n",
        "\n",
        "# Demonstrate with a dictionary\n",
        "my_dict = {\"a\": 1, \"b\": 2}\n",
        "access_data(my_dict, \"a\")\n",
        "access_data(my_dict, \"c\")\n",
        "\n",
        "# Demonstrate with a list\n",
        "my_list = [10, 20, 30]\n",
        "access_data(my_list, 1)\n",
        "access_data(my_list, 5)"
      ],
      "metadata": {
        "colab": {
          "base_uri": "https://localhost:8080/"
        },
        "id": "8z9SndyyfC6h",
        "outputId": "a96defeb-9465-4e01-996e-dda55a68dc97"
      },
      "execution_count": 26,
      "outputs": [
        {
          "output_type": "stream",
          "name": "stdout",
          "text": [
            "Accessed value: 1\n",
            "Error: 'c'. The key or index does not exist.\n",
            "Accessed value: 20\n",
            "Error: list index out of range. The key or index does not exist.\n"
          ]
        }
      ]
    },
    {
      "cell_type": "markdown",
      "source": [
        "  20.  How would you open a file and read its contents using a context manager in Python?"
      ],
      "metadata": {
        "id": "bPzsAx8IfLv5"
      }
    },
    {
      "cell_type": "code",
      "source": [
        "file_name = \"my_file.txt\"\n",
        "\n",
        "try:\n",
        "\n",
        "    with open(file_name, \"r\") as file:\n",
        "        content = file.read()\n",
        "        print(f\"Content of '{file_name}':\")\n",
        "        print(content)\n",
        "except FileNotFoundError:\n",
        "    print(f\"Error: The file '{file_name}' was not found.\")\n",
        "except IOError as e:\n",
        "    print(f\"An error occurred while reading the file: {e}\")"
      ],
      "metadata": {
        "colab": {
          "base_uri": "https://localhost:8080/"
        },
        "id": "ar8UgGPVfUGF",
        "outputId": "2ccf1d6f-be26-48c9-b269-49c089358557"
      },
      "execution_count": 27,
      "outputs": [
        {
          "output_type": "stream",
          "name": "stdout",
          "text": [
            "Content of 'my_file.txt':\n",
            "Hello, this is a string to write to the file.\n",
            "This line is appended to the file.\n"
          ]
        }
      ]
    },
    {
      "cell_type": "markdown",
      "source": [
        "  21.  Write a Python program that reads a file and prints the number of occurrences of a specific word."
      ],
      "metadata": {
        "id": "GUICqb7hfgZU"
      }
    },
    {
      "cell_type": "code",
      "source": [
        "def count_word_occurrences(file_name, word_to_find):\n",
        "    \"\"\"\n",
        "    Reads a file and counts the occurrences of a specific word (case-insensitive).\n",
        "\n",
        "    Args:\n",
        "        file_name (str): The name of the file to read.\n",
        "        word_to_find (str): The word to count.\n",
        "\n",
        "    Returns:\n",
        "        int: The number of occurrences of the word in the file.\n",
        "    \"\"\"\n",
        "    count = 0\n",
        "    try:\n",
        "        with open(file_name, 'r') as file:\n",
        "            content = file.read()\n",
        "            # Split content into words and convert to lowercase for case-insensitive counting\n",
        "            words = content.lower().split()\n",
        "            count = words.count(word_to_find.lower())\n",
        "        return count\n",
        "    except FileNotFoundError:\n",
        "        print(f\"Error: The file '{file_name}' was not found.\")\n",
        "        return -1 # Indicate an error\n",
        "    except IOError as e:\n",
        "        print(f\"An error occurred while reading the file: {e}\")\n",
        "        return -1 # Indicate an error\n",
        "\n",
        "# Example usage:\n",
        "file_to_read = \"my_file.txt\"  # Using the previously created file\n",
        "word_to_count = \"the\"\n",
        "\n",
        "occurrence_count = count_word_occurrences(file_to_read, word_to_count)\n",
        "\n",
        "if occurrence_count != -1:\n",
        "    print(f\"The word '{word_to_count}' appears {occurrence_count} times in '{file_to_read}'.\")"
      ],
      "metadata": {
        "colab": {
          "base_uri": "https://localhost:8080/"
        },
        "id": "UDIiuYnxgLMD",
        "outputId": "5fc2138e-629a-4c97-f8f4-ee27a68812d7"
      },
      "execution_count": 28,
      "outputs": [
        {
          "output_type": "stream",
          "name": "stdout",
          "text": [
            "The word 'the' appears 2 times in 'my_file.txt'.\n"
          ]
        }
      ]
    },
    {
      "cell_type": "markdown",
      "source": [
        "  22. How can you check if a file is empty before attempting to read its contents?"
      ],
      "metadata": {
        "id": "G7KDS5WHgOkN"
      }
    },
    {
      "cell_type": "code",
      "source": [
        "import os\n",
        "\n",
        "file_name = \"my_file.txt\"\n",
        "\n",
        "if os.path.exists(file_name):\n",
        "    if os.path.getsize(file_name) > 0:\n",
        "        print(f\"The file '{file_name}' is not empty. Proceeding to read.\")\n",
        "        try:\n",
        "            with open(file_name, \"r\") as file:\n",
        "                content = file.read()\n",
        "                print(\"File content:\")\n",
        "                print(content)\n",
        "        except IOError as e:\n",
        "            print(f\"An error occurred while reading the file: {e}\")\n",
        "    else:\n",
        "        print(f\"The file '{file_name}' is empty.\")\n",
        "else:\n",
        "    print(f\"Error: The file '{file_name}' was not found.\")"
      ],
      "metadata": {
        "colab": {
          "base_uri": "https://localhost:8080/"
        },
        "id": "wcThRP7rgkUY",
        "outputId": "86de7c99-794f-468b-e7d2-38d602a096f6"
      },
      "execution_count": 29,
      "outputs": [
        {
          "output_type": "stream",
          "name": "stdout",
          "text": [
            "The file 'my_file.txt' is not empty. Proceeding to read.\n",
            "File content:\n",
            "Hello, this is a string to write to the file.\n",
            "This line is appended to the file.\n"
          ]
        }
      ]
    },
    {
      "cell_type": "markdown",
      "source": [
        "  23. Write a Python program that writes to a log file when an error occurs during file handling."
      ],
      "metadata": {
        "id": "JNVDfrEQgo6r"
      }
    },
    {
      "cell_type": "code",
      "source": [
        "import logging\n",
        "import os\n",
        "\n",
        "\n",
        "logging.basicConfig(filename='file_error.log', level=logging.ERROR, format='%(asctime)s - %(levelname)s - %(message)s')\n",
        "\n",
        "def read_file_with_error_logging(file_name):\n",
        "    \"\"\"\n",
        "    Attempts to read a file and logs an error if file handling fails.\n",
        "    \"\"\"\n",
        "    try:\n",
        "        with open(file_name, 'r') as file:\n",
        "            content = file.read()\n",
        "            print(f\"Successfully read content from '{file_name}':\")\n",
        "            print(content)\n",
        "    except FileNotFoundError:\n",
        "        error_message = f\"Error: The file '{file_name}' was not found.\"\n",
        "        logging.error(error_message)\n",
        "        print(error_message)\n",
        "    except IOError as e:\n",
        "        error_message = f\"An input/output error occurred while reading '{file_name}': {e}\"\n",
        "        logging.error(error_message)\n",
        "        print(error_message)\n",
        "    except Exception as e:\n",
        "        error_message = f\"An unexpected error occurred while handling '{file_name}': {e}\"\n",
        "        logging.error(error_message)\n",
        "        print(error_message)\n",
        "\n",
        "# Example usage:\n",
        "\n",
        "read_file_with_error_logging(\"non_existent_file_for_logging.txt\")\n",
        "\n",
        "# Attempt to read an existing file (if my_file.txt exists from previous examples)\n",
        "read_file_with_error_logging(\"my_file.txt\")\n",
        "\n",
        "print(\"\\nCheck 'file_error.log' for logged errors.\")"
      ],
      "metadata": {
        "colab": {
          "base_uri": "https://localhost:8080/"
        },
        "id": "hJAFDg59guUl",
        "outputId": "784a2a05-8f7c-40de-b98b-bb7a19ad476a"
      },
      "execution_count": 30,
      "outputs": [
        {
          "output_type": "stream",
          "name": "stderr",
          "text": [
            "ERROR:root:Error: The file 'non_existent_file_for_logging.txt' was not found.\n"
          ]
        },
        {
          "output_type": "stream",
          "name": "stdout",
          "text": [
            "Error: The file 'non_existent_file_for_logging.txt' was not found.\n",
            "Successfully read content from 'my_file.txt':\n",
            "Hello, this is a string to write to the file.\n",
            "This line is appended to the file.\n",
            "\n",
            "Check 'file_error.log' for logged errors.\n"
          ]
        }
      ]
    }
  ]
}