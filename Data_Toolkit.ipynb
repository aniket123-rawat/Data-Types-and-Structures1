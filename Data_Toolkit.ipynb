{
  "nbformat": 4,
  "nbformat_minor": 0,
  "metadata": {
    "colab": {
      "provenance": []
    },
    "kernelspec": {
      "name": "python3",
      "display_name": "Python 3"
    },
    "language_info": {
      "name": "python"
    }
  },
  "cells": [
    {
      "cell_type": "markdown",
      "source": [
        "#Data Toolkit"
      ],
      "metadata": {
        "id": "W_jwLiLCc-L3"
      }
    },
    {
      "cell_type": "markdown",
      "source": [
        "***Theoritical Questions***"
      ],
      "metadata": {
        "id": "N6k2J5K0dRc7"
      }
    },
    {
      "cell_type": "markdown",
      "source": [
        "  1. What is NumPy, and why is it widely used in Python?"
      ],
      "metadata": {
        "id": "ql-obOItdUCF"
      }
    },
    {
      "cell_type": "markdown",
      "source": [
        "  Ans.NumPy, short for Numerical Python, is a fundamental Python library for scientific computing. Its core feature is the ndarray object, which provides efficient storage and manipulation of large, multi-dimensional arrays and matrices.\n",
        "  \n",
        " NumPy's combination of performance, powerful data structures, extensive functionality, and its role as a foundational library makes it an indispensable tool for anyone working with numerical data in Python, particularly in fields like data science, machine learning, and scientific research."
      ],
      "metadata": {
        "id": "Fxl_8lH_dayx"
      }
    },
    {
      "cell_type": "markdown",
      "source": [
        "  2. How does broadcasting work in NumPy?"
      ],
      "metadata": {
        "id": "Xp0WV0ofdvbO"
      }
    },
    {
      "cell_type": "markdown",
      "source": [
        "  Ans. Broadcasting in NumPy is a mechanism that allows arithmetic operations to be performed on arrays of different shapes and sizes. It enables element-wise operations without requiring explicit loops or making unnecessary copies of data, which enhances performance and memory efficiency."
      ],
      "metadata": {
        "id": "Uxmr5gPcd0T2"
      }
    },
    {
      "cell_type": "markdown",
      "source": [
        "  3. What is a Pandas DataFrame?"
      ],
      "metadata": {
        "id": "E0hBt_pld8hO"
      }
    },
    {
      "cell_type": "markdown",
      "source": [
        "  Ans. A Pandas DataFrame is a two-dimensional, size-mutable, and potentially heterogeneous tabular data structure with labeled axes (rows and columns) in Python. It is a fundamental data structure within the Pandas library, widely used for data manipulation and analysis."
      ],
      "metadata": {
        "id": "AM-9q8I6eFUy"
      }
    },
    {
      "cell_type": "markdown",
      "source": [
        "  4.  Explain the use of the groupby() method in Pandas."
      ],
      "metadata": {
        "id": "rvd-Fhi1eJqF"
      }
    },
    {
      "cell_type": "markdown",
      "source": [
        "  Ans. The groupby() method in Pandas is a powerful function used to split a DataFrame into groups based on one or more criteria, apply a function to each group independently, and then combine the results into a new data structure. This process is often referred to as the \"split-apply-combine\" strategy"
      ],
      "metadata": {
        "id": "wcnZLI9LeP96"
      }
    },
    {
      "cell_type": "markdown",
      "source": [
        "  5. Why is Seaborn preferred for statistical visualizations?"
      ],
      "metadata": {
        "id": "7G0__FmZeXqO"
      }
    },
    {
      "cell_type": "markdown",
      "source": [
        "  Ans. Seaborn is preferred for statistical visualizations due to several key advantages:\n",
        "\n",
        "1. Ease of Use and High-Level Interface: Built on top of Matplotlib, Seaborn provides a higher-level, more intuitive interface for creating complex statistical plots with fewer lines of code. It simplifies the process of generating visually appealing and informative graphics.\n",
        "\n",
        "2. Aesthetically Pleasing Defaults: Seaborn comes with attractive default themes and color palettes, producing professional-quality visualizations without requiring extensive customization. This allows users to focus on data interpretation rather than design details.\n",
        "3. Statistical Functionality Integration: It seamlessly integrates statistical estimation and aggregation functions directly into its plotting functions. This provides immediate insights into data distributions, relationships between variables, and other statistical properties.\n",
        "\n",
        "4.Strong Integration with Pandas DataFrames: Seaborn works exceptionally well with Pandas DataFrames, enabling direct visualization of structured data without the need for extensive data manipulation or conversion.\n",
        "\n",
        "5.Support for Complex Statistical Plots: While easy to use for simple plots, Seaborn also excels at creating sophisticated statistical visualizations like heatmaps, violin plots, pair plots, and multi-panel figures, which are crucial for exploratory data analysis (EDA)."
      ],
      "metadata": {
        "id": "voD2J_g4eh2j"
      }
    },
    {
      "cell_type": "markdown",
      "source": [
        "  6. What are the differences between NumPy arrays and Python lists?"
      ],
      "metadata": {
        "id": "tm4JDjb1e6_p"
      }
    },
    {
      "cell_type": "markdown",
      "source": [
        "  Ans. NumPy arrays and Python lists are both used to store collections of data, but they differ significantly in their characteristics and use cases, particularly in the context of numerical computing.\n",
        "\n",
        "  \n",
        "   Python lists are suitable for general-purpose tasks requiring flexibility in data types and structure, while NumPy arrays are the preferred choice for numerical computations and scientific computing due to their performance, memory efficiency, and specialized functionalities"
      ],
      "metadata": {
        "id": "ey8iyh3MfHcV"
      }
    },
    {
      "cell_type": "markdown",
      "source": [
        "  7. What is a heatmap, and when should it be used?"
      ],
      "metadata": {
        "id": "RljOAoRJfl7f"
      }
    },
    {
      "cell_type": "markdown",
      "source": [
        "  Ans. A heatmap is a data visualization method that uses color intensity to represent the magnitude of values in a matrix or on a map, highlighting patterns and \"hot spots\" of high activity or density. Heatmaps are used to visualize complex data, and in digital product analytics, they show where users click, scroll, or move their mouse on web pages to understand their behavior and improve user experience and conversion rates. They are useful for quickly identifying what is working, what isn't, and areas needing attention."
      ],
      "metadata": {
        "id": "aos0I7xbfxNZ"
      }
    },
    {
      "cell_type": "markdown",
      "source": [
        "  8. What does the term “vectorized operation” mean in NumPy?"
      ],
      "metadata": {
        "id": "phe__jivf4UR"
      }
    },
    {
      "cell_type": "markdown",
      "source": [
        "  Ans. Vectorized operations in NumPy enable the use of efficient, pre-compiled functions and mathematical operations on NumPy arrays and data sequences. Vectorization is a method of performing array operations without the use of for loops"
      ],
      "metadata": {
        "id": "pApZiVGqf96g"
      }
    },
    {
      "cell_type": "markdown",
      "source": [
        "  9.  How does Matplotlib differ from Plotly?"
      ],
      "metadata": {
        "id": "xHxMulChgMcl"
      }
    },
    {
      "cell_type": "markdown",
      "source": [
        "  Ans. Matplotlib is the preferred choice for static, highly customized, and publication-quality plots, offering extensive control. Plotly excels in creating interactive, dynamic visualizations, particularly for web-based applications and dashboards, with a focus on ease of use and aesthetics, especially through Plotly Express. The decision ultimately hinges on whether the project prioritizes detailed customization and static output or interactivity and web integration."
      ],
      "metadata": {
        "id": "q_wwYH5ZgUiT"
      }
    },
    {
      "cell_type": "markdown",
      "source": [
        "  10. What is the significance of hierarchical indexing in Pandas?"
      ],
      "metadata": {
        "id": "IJQDKbZTgev6"
      }
    },
    {
      "cell_type": "markdown",
      "source": [
        "  Ans. Hierarchical indexing in pandas, also called MultiIndexing, allows you to index data using multiple labels, effectively treating lower-dimensional data structures like Series and DataFrames as higher-dimensional ones. Its significance lies in its ability to represent and manage complex, multi-dimensional data, enable sophisticated analysis of grouped data, and facilitate the manipulation and retrieval of data with multiple nested categories or relationships. This leads to more optimized queries, better organization, and a more intuitive way to handle intricate datasets within a tabular format."
      ],
      "metadata": {
        "id": "HMnqUkt7gpX6"
      }
    },
    {
      "cell_type": "markdown",
      "source": [
        "  11. What is the role of Seaborn’s pairplot() function?"
      ],
      "metadata": {
        "id": "xOmRb3H9hTmK"
      }
    },
    {
      "cell_type": "markdown",
      "source": [
        "  Ans. pairplot() provides a comprehensive, high-level overview of the dataset's structure, making it easy to identify potential relationships, outliers, and data distributions at a glance, which is crucial in the initial stages of data analysis."
      ],
      "metadata": {
        "id": "uVXYx_Mzhix8"
      }
    },
    {
      "cell_type": "markdown",
      "source": [
        "  12. What is the purpose of the describe() function in Pandas?"
      ],
      "metadata": {
        "id": "C972Lsnjhual"
      }
    },
    {
      "cell_type": "markdown",
      "source": [
        "  Ans. The describe() function in Pandas is used to generate descriptive statistics of a DataFrame or Series. It provides a quick summary of the central tendency, dispersion, and shape of a dataset's distribution.\n",
        "\n",
        "For numerical data, the describe() function returns statistics such as:\n",
        "\n",
        "count: The number of non-null values.\n",
        "\n",
        "mean: The average value.\n",
        "\n",
        "std: The standard deviation, indicating the spread of the data.\n",
        "\n",
        "min: The minimum value.\n",
        "\n",
        "25% (or lower percentile): The 25th percentile (first quartile).\n",
        "\n",
        "50% (or median): The 50th percentile (second quartile).\n",
        "\n",
        "75% (or upper percentile): The 75th percentile (third quartile).\n",
        "\n",
        "max: The maximum value."
      ],
      "metadata": {
        "id": "nTnnC8i5h6Ee"
      }
    },
    {
      "cell_type": "markdown",
      "source": [
        "  13. Why is handling missing data important in Pandas?"
      ],
      "metadata": {
        "id": "SCYjRLociNbH"
      }
    },
    {
      "cell_type": "markdown",
      "source": [
        "  Ans. Handling missing data in Pandas is crucial for several reasons, primarily to ensure the accuracy, reliability, and usability of data analysis and machine learning models.\n",
        "\n",
        "  Pandas offers various tools like isnull(), dropna(), and fillna() to effectively identify, remove, or impute missing values, allowing users to manage this common data quality issue."
      ],
      "metadata": {
        "id": "YGOFFPz-iWex"
      }
    },
    {
      "cell_type": "markdown",
      "source": [
        "  14.  What are the benefits of using Plotly for data visualization?"
      ],
      "metadata": {
        "id": "x69jsDW4is0b"
      }
    },
    {
      "cell_type": "markdown",
      "source": [
        "  Ans. Ease of Use: With minimal code, you can generate complex plots. Interactivity: Plots are not just static images; they are interactive and can be easily exported as HTML files. Data Exploration: Helps in rapidly gaining insights into datasets by visualizing trends and distributions."
      ],
      "metadata": {
        "id": "8kIl9UnWi0XU"
      }
    },
    {
      "cell_type": "markdown",
      "source": [
        "  15. How does NumPy handle multidimensional arrays?"
      ],
      "metadata": {
        "id": "CMbfcB3Ei_Qd"
      }
    },
    {
      "cell_type": "markdown",
      "source": [
        "  Ans. NumPy handles multidimensional arrays primarily through its core object, the ndarray (N-dimensional array). This object provides a powerful and efficient way to store and manipulate homogeneous data in multiple dimensions.\n",
        "\n",
        "  Homogeneous Data Storage:\n",
        "   All elements within a NumPy array must be of the same data type (e.g., all integers, all floats). This homogeneity allows for efficient memory allocation and optimized operations.\n",
        "\n",
        "Internal Representation:\n",
        " While conceptually multidimensional, NumPy stores the array data in memory as a contiguous, one-dimensional block. The multidimensional structure (shape, strides) is maintained through metadata associated with the ndarray object. This allows for flexible reshap\n",
        "ing and viewing of the data without physically moving elements in memory.\n",
        "\n",
        "Shape and Axes:\n",
        " The shape attribute of an ndarray is a tuple of integers indicating the size of each dimension (or \"axis\"). For example, a 2D array with 3 rows and 4 columns would have a shape of (3, 4). Each dimension is referred to as an \"axis.\" etc."
      ],
      "metadata": {
        "id": "n-1duRT9jG4W"
      }
    },
    {
      "cell_type": "markdown",
      "source": [
        "  16. What is the role of Bokeh in data visualization?"
      ],
      "metadata": {
        "id": "t6edgOmIjc9g"
      }
    },
    {
      "cell_type": "markdown",
      "source": [
        "  Ans. Bokeh's role in data visualization centers on enabling the creation of interactive, web-based visualizations directly from Python. It serves as a powerful tool for data scientists and developers who need to present data in a dynamic and engaging manner, particularly for web applications and dashboards."
      ],
      "metadata": {
        "id": "-Hq8GbhJjkBQ"
      }
    },
    {
      "cell_type": "markdown",
      "source": [
        "  17. Explain the difference between apply() and map() in Pandas."
      ],
      "metadata": {
        "id": "cjDq3jnrjrbx"
      }
    },
    {
      "cell_type": "markdown",
      "source": [
        "  Ans. In Pandas, both apply() and map() are used to apply functions or transformations to data, but they differ in their scope and typical use cases:\n",
        "1. map():\n",
        "\n",
        "Scope: Exclusively designed for Pandas Series objects (i.e., individual columns in a DataFrame).\n",
        "\n",
        "Purpose: Primarily used for element-wise mapping or substitution of values. This means it replaces each value in a Series with another value based on a provided mapping (e.g., a dictionary, another Series, or a callable function).\n",
        "\n",
        "Input: Can accept a dictionary, a Series, or a callable function.\n"
      ],
      "metadata": {
        "id": "hmUi4PPBjyEJ"
      }
    },
    {
      "cell_type": "code",
      "source": [
        "    import pandas as pd\n",
        "    s = pd.Series([1, 2, 3])\n",
        "    mapping = {1: 'one', 2: 'two', 3: 'three'}\n",
        "    s_mapped = s.map(mapping)\n",
        "    # s_mapped will be:\n",
        "    # 0    one\n",
        "    # 1    two\n",
        "    # 2  three\n",
        "    # dtype: object"
      ],
      "metadata": {
        "id": "iZz9qgx2kCEz"
      },
      "execution_count": 1,
      "outputs": []
    },
    {
      "cell_type": "markdown",
      "source": [
        "2. apply():\n",
        "\n",
        "Scope: Can be used on both Pandas Series and DataFrame objects.\n",
        "\n",
        "Purpose: More versatile than map(). It can apply a function along an axis of a DataFrame (rows or columns) or to the values of a Series. It is suitable for more complex operations, custom functions, or aggregations.\n",
        "\n",
        "Input: Primarily accepts a callable function."
      ],
      "metadata": {
        "id": "kzXoapkekHFL"
      }
    },
    {
      "cell_type": "code",
      "source": [
        "    import pandas as pd\n",
        "    s = pd.Series([1, 2, 3])\n",
        "    s_applied = s.apply(lambda x: x * 2)\n",
        "    # s_applied will be:\n",
        "    # 0    2\n",
        "    # 1    4\n",
        "    # 2    6\n",
        "    # dtype: int64"
      ],
      "metadata": {
        "id": "OXkFVSgkkO8U"
      },
      "execution_count": 2,
      "outputs": []
    },
    {
      "cell_type": "markdown",
      "source": [
        "  18.  What are some advanced features of NumPy?"
      ],
      "metadata": {
        "id": "wDivx3KhkTK2"
      }
    },
    {
      "cell_type": "markdown",
      "source": [
        "  Ans. Advanced features of NumPy include broadcasting, allowing operations on arrays of different shapes, and vectorized operations, which apply functions to entire arrays at once for speed and efficiency. Other advanced features are powerful indexing and slicing (including boolean and fancy indexing), universal functions (ufuncs), masking, array sorting and manipulation (like stacking and splitting), and built-in support for linear algebra, random number generation, and even native datetime64 types."
      ],
      "metadata": {
        "id": "RuuqoyFmkeWV"
      }
    },
    {
      "cell_type": "markdown",
      "source": [
        "  19.  How does Pandas simplify time series analysis?"
      ],
      "metadata": {
        "id": "YdfbbGS3km8O"
      }
    },
    {
      "cell_type": "markdown",
      "source": [
        "  Ans. Pandas simplifies time series analysis through its specialized data structures and functions designed to handle time-indexed data efficiently.\n",
        "\n",
        "Key features that simplify time series analysis:\n",
        "\n",
        "1. DatetimeIndex: Pandas introduces the DatetimeIndex, a powerful index type specifically for time series data. This allows for:\n",
        "\n",
        "Easy indexing and slicing: Select data by date ranges, specific dates, or time periods (e.g., df['2023-01'], df['2023-01-01':'2023-01-31']).\n",
        "\n",
        "Time-aware operations: Perform operations that naturally understand the chronological order of data.\n",
        "\n",
        "2. Timestamp and Datetime Objects: Pandas represents individual points in time as Timestamp objects and collections of timestamps as DatetimeIndex. These are built upon Python's native datetime module and NumPy's datetime64 for efficient storage and manipulation.\n",
        "3. Resampling: This allows for changing the frequency of time series data.\n",
        "\n",
        "Downsampling: Aggregate data to a lower frequency (e.g., daily to weekly, monthly to yearly) using various aggregation functions (mean, sum, median).\n",
        "\n",
        "Upsampling: Increase the frequency of data, often requiring interpolation or forward/backward filling for missing values.\n",
        "\n",
        "4. Rolling Calculations: Apply functions over a moving window of a fixed size. This is crucial for:\n",
        "\n",
        "Smoothing: Reduce noise in the data by calculating moving averages or medians.\n",
        "\n",
        "Calculating running statistics: Determine rolling sums, standard deviations, or other metrics over a specified period.\n",
        "\n"
      ],
      "metadata": {
        "id": "B5A6lDwNksnA"
      }
    },
    {
      "cell_type": "markdown",
      "source": [
        "  20. What is the role of a pivot table in Pandas?"
      ],
      "metadata": {
        "id": "2fsWneM0llxE"
      }
    },
    {
      "cell_type": "markdown",
      "source": [
        "  Ans. In Pandas, a pivot table's role is to summarize and aggregate large datasets by reorganizing and transforming raw data into a more meaningful, user-friendly report. It allows you to perform statistical calculations like sums, counts, or averages on specific columns, with the ability to define the desired structure by specifying new rows (index), columns, and values for the summary table. This makes it a powerful tool for data analysis, exploration, and pattern recognition within large DataFrames."
      ],
      "metadata": {
        "id": "0sigIJjhlsH-"
      }
    },
    {
      "cell_type": "markdown",
      "source": [
        "  21. Why is NumPy’s array slicing faster than Python’s list slicing?"
      ],
      "metadata": {
        "id": "y3gvcCosl1em"
      }
    },
    {
      "cell_type": "markdown",
      "source": [
        "  Ans. NumPy's design for numerical computation, with its contiguous memory storage for homogeneous data and optimized C-level operations, provides a significant performance advantage for array slicing compared to Python's more flexible but less optimized list structure."
      ],
      "metadata": {
        "id": "g3w8yKCtmDVg"
      }
    },
    {
      "cell_type": "markdown",
      "source": [
        "  22. What are some common use cases for Seaborn?"
      ],
      "metadata": {
        "id": "oixxBQ3PmK-A"
      }
    },
    {
      "cell_type": "markdown",
      "source": [
        "  Ans.  Seaborn is a Python data visualization library built on top of Matplotlib, designed to simplify the creation of attractive and informative statistical graphics. Common use cases for Seaborn include:\n",
        "\n",
        "1. Exploratory Data Analysis (EDA): Seaborn excels at visualizing distributions of single variables (histograms, kernel density estimates), relationships between two variables (scatter plots, line plots), and relationships between multiple variables (pair plots, heatmaps). This helps in understanding data patterns, outliers, and potential correlations.\n",
        "\n",
        "2. Statistical Data Visualization: It provides high-level functions for plotting statistical relationships, such as regression plots to visualize linear relationships, and categorical plots (box plots, violin plots, bar plots) to compare distributions or aggregates across different categories.\n",
        "\n",
        "3. Presenting Insights: Seaborn's aesthetically pleasing default styles and color palettes make it suitable for creating publication-ready visualizations. It can be used to effectively communicate findings from data analysis to a wider audience.\n",
        "\n",
        "4.Working with Pandas DataFrames: Seaborn integrates seamlessly with Pandas DataFrames, allowing users to directly plot data from their structured datasets with minimal code.\n",
        "\n",
        "5. Creating Complex Multi-Plot Visualizations: Features like FacetGrid enable the creation of grids of plots, allowing for easy comparison of subsets of data based on categorical or temporal factors. This is particularly useful for exploring conditional relationships within a dataset."
      ],
      "metadata": {
        "id": "FcmsyQ49mRMp"
      }
    },
    {
      "cell_type": "markdown",
      "source": [],
      "metadata": {
        "id": "WvIuwhoDmmxL"
      }
    },
    {
      "cell_type": "markdown",
      "source": [
        "***Practical Questions***"
      ],
      "metadata": {
        "id": "hWkpd6nymnQT"
      }
    },
    {
      "cell_type": "markdown",
      "source": [
        "  1. How do you create a 2D NumPy array and calculate the sum of each row?"
      ],
      "metadata": {
        "id": "p05HNij-muPb"
      }
    },
    {
      "cell_type": "code",
      "source": [
        "import numpy as np\n",
        "\n",
        "# Create a 2D NumPy array\n",
        "my_2d_array = np.array([[1, 2, 3],\n",
        "                        [4, 5, 6],\n",
        "                        [7, 8, 9]])\n",
        "\n",
        "print(\"Original 2D Array:\")\n",
        "print(my_2d_array)\n",
        "\n",
        "# Calculate the sum of each row\n",
        "row_sums = my_2d_array.sum(axis=1)\n",
        "\n",
        "print(\"\\nSum of each row:\")\n",
        "print(row_sums)"
      ],
      "metadata": {
        "colab": {
          "base_uri": "https://localhost:8080/"
        },
        "id": "4V-GlopDngtQ",
        "outputId": "08858d38-0cce-4402-d820-ba177fcb9b70"
      },
      "execution_count": 3,
      "outputs": [
        {
          "output_type": "stream",
          "name": "stdout",
          "text": [
            "Original 2D Array:\n",
            "[[1 2 3]\n",
            " [4 5 6]\n",
            " [7 8 9]]\n",
            "\n",
            "Sum of each row:\n",
            "[ 6 15 24]\n"
          ]
        }
      ]
    },
    {
      "cell_type": "markdown",
      "source": [
        "  2. Write a Pandas script to find the mean of a specific column in a DataFrame."
      ],
      "metadata": {
        "id": "mBmJxcU-nkyQ"
      }
    },
    {
      "cell_type": "code",
      "source": [
        "import pandas as pd\n",
        "\n",
        "# Create a sample DataFrame\n",
        "data = {'Name': ['Alice', 'Bob', 'Charlie', 'David'],\n",
        "        'Age': [25, 30, 22, 28],\n",
        "        'Score': [85, 92, 78, 95]}\n",
        "df = pd.DataFrame(data)\n",
        "\n",
        "# Specify the column for which to calculate the mean\n",
        "column_name = 'Age'\n",
        "\n",
        "# Calculate the mean of the specified column\n",
        "mean_of_column = df[column_name].mean()\n",
        "\n",
        "# Print the result\n",
        "print(f\"The mean of the '{column_name}' column is: {mean_of_column}\")"
      ],
      "metadata": {
        "colab": {
          "base_uri": "https://localhost:8080/"
        },
        "id": "r8fQJ6MUnupJ",
        "outputId": "caf832df-b210-4c89-e738-420b86a0042f"
      },
      "execution_count": 4,
      "outputs": [
        {
          "output_type": "stream",
          "name": "stdout",
          "text": [
            "The mean of the 'Age' column is: 26.25\n"
          ]
        }
      ]
    },
    {
      "cell_type": "markdown",
      "source": [
        "  3. Create a scatter plot using Matplotlib."
      ],
      "metadata": {
        "id": "t6XRYtL_n1Wa"
      }
    },
    {
      "cell_type": "code",
      "source": [
        "import matplotlib.pyplot as plt\n",
        "import numpy as np\n",
        "\n",
        "# Sample data\n",
        "x = np.array([5, 7, 8, 7, 2, 17, 2, 9, 4, 11, 12, 9, 6])\n",
        "y = np.array([99, 86, 87, 88, 111, 86, 103, 87, 94, 78, 77, 85, 86])\n",
        "\n",
        "# Create the scatter plot\n",
        "plt.scatter(x, y)\n",
        "\n",
        "# Add labels and a title\n",
        "plt.xlabel(\"Car Age (Years)\")\n",
        "plt.ylabel(\"Car Speed (MPH)\")\n",
        "plt.title(\"Car Speed vs. Age\")\n",
        "\n",
        "# Display the plot\n",
        "plt.show()"
      ],
      "metadata": {
        "colab": {
          "base_uri": "https://localhost:8080/",
          "height": 472
        },
        "id": "Ej9mSPIhoAvE",
        "outputId": "d9dbfa24-38c2-422c-ff45-304c5b948d7b"
      },
      "execution_count": 5,
      "outputs": [
        {
          "output_type": "display_data",
          "data": {
            "text/plain": [
              "<Figure size 640x480 with 1 Axes>"
            ],
            "image/png": "[encoded data removed]"
          },
          "metadata": {}
        }
      ]
    },
    {
      "cell_type": "markdown",
      "source": [
        "  4. How do you calculate the correlation matrix using Seaborn and visualize it with a heat."
      ],
      "metadata": {
        "id": "9kOsCLjnoQaF"
      }
    },
    {
      "cell_type": "code",
      "source": [
        "import seaborn as sns\n",
        "import matplotlib.pyplot as plt\n",
        "import pandas as pd\n",
        "import numpy as np\n",
        "\n",
        "# Create a sample DataFrame\n",
        "data = {'A': np.random.rand(10),\n",
        "        'B': np.random.rand(10),\n",
        "        'C': np.random.rand(10)}\n",
        "df = pd.DataFrame(data)\n",
        "\n",
        "# Calculate the correlation matrix\n",
        "correlation_matrix = df.corr()\n",
        "\n",
        "# Visualize the correlation matrix with a heatmap\n",
        "plt.figure(figsize=(8, 6))\n",
        "sns.heatmap(correlation_matrix, annot=True, cmap='coolwarm', fmt=\".2f\")\n",
        "plt.title('Correlation Matrix Heatmap')\n",
        "plt.show()"
      ],
      "metadata": {
        "colab": {
          "base_uri": "https://localhost:8080/",
          "height": 545
        },
        "id": "SpkvWkHhocTd",
        "outputId": "12d80408-7c79-42ef-fb3e-8d30b983100e"
      },
      "execution_count": 6,
      "outputs": [
        {
          "output_type": "display_data",
          "data": {
            "text/plain": [
              "<Figure size 800x600 with 2 Axes>"
            ],
            "image/png": "[encoded data removed]"
          },
          "metadata": {}
        }
      ]
    },
    {
      "cell_type": "markdown",
      "source": [
        "  5. Generate a bar plot using Plotly."
      ],
      "metadata": {
        "id": "YVlPQfJJonz3"
      }
    },
    {
      "cell_type": "code",
      "source": [
        "import plotly.express as px\n",
        "import pandas as pd\n",
        "\n",
        "# Create a sample DataFrame\n",
        "data = {'Category': ['A', 'B', 'C', 'D', 'E'],\n",
        "        'Value': [10, 15, 7, 12, 9]}\n",
        "df = pd.DataFrame(data)\n",
        "\n",
        "# Create a bar plot\n",
        "fig = px.bar(df, x='Category', y='Value', title='Sample Bar Plot with Plotly')\n",
        "\n",
        "# Display the plot\n",
        "fig.show()"
      ],
      "metadata": {
        "colab": {
          "base_uri": "https://localhost:8080/",
          "height": 542
        },
        "id": "DRW8hRIcotVA",
        "outputId": "cc23383b-d817-43f3-eb7d-1fef8b98b6ab"
      },
      "execution_count": 7,
      "outputs": [
        {
          "output_type": "display_data",
          "data": {
            "text/html": [
              "<html>\n",
              "<head><meta charset=\"utf-8\" /></head>\n",
              "<body>\n",
              "    <div>            <script src=\"https://cdnjs.cloudflare.com/ajax/libs/mathjax/2.7.5/MathJax.js?config=TeX-AMS-MML_SVG\"></script><script type=\"text/javascript\">if (window.MathJax && window.MathJax.Hub && window.MathJax.Hub.Config) {window.MathJax.Hub.Config({SVG: {font: \"STIX-Web\"}});}</script>                <script type=\"text/javascript\">window.PlotlyConfig = {MathJaxConfig: 'local'};</script>\n",
              "        <script charset=\"utf-8\" src=\"https://cdn.plot.ly/plotly-2.35.2.min.js\"></script>                <div id=\"f664193a-aaf2-4e4e-8e23-c30bb9fa30fb\" class=\"plotly-graph-div\" style=\"height:525px; width:100%;\"></div>            <script type=\"text/javascript\">                                    window.PLOTLYENV=window.PLOTLYENV || {};                                    if (document.getElementById(\"f664193a-aaf2-4e4e-8e23-c30bb9fa30fb\")) {                    Plotly.newPlot(                        \"f664193a-aaf2-4e4e-8e23-c30bb9fa30fb\",                        [{\"alignmentgroup\":\"True\",\"hovertemplate\":\"Category=%{x}\\u003cbr\\u003eValue=%{y}\\u003cextra\\u003e\\u003c\\u002fextra\\u003e\",\"legendgroup\":\"\",\"marker\":{\"color\":\"#636efa\",\"pattern\":{\"shape\":\"\"}},\"name\":\"\",\"offsetgroup\":\"\",\"orientation\":\"v\",\"showlegend\":false,\"textposition\":\"auto\",\"x\":[\"A\",\"B\",\"C\",\"D\",\"E\"],\"xaxis\":\"x\",\"y\":[10,15,7,12,9],\"yaxis\":\"y\",\"type\":\"bar\"}],                        {\"template\":{\"data\":{\"histogram2dcontour\":[{\"type\":\"histogram2dcontour\",\"colorbar\":{\"outlinewidth\":0,\"ticks\":\"\"},\"colorscale\":[[0.0,\"#0d0887\"],[0.1111111111111111,\"#46039f\"],[0.2222222222222222,\"#7201a8\"],[0.3333333333333333,\"#9c179e\"],[0.4444444444444444,\"#bd3786\"],[0.5555555555555556,\"#d8576b\"],[0.6666666666666666,\"#ed7953\"],[0.7777777777777778,\"#fb9f3a\"],[0.8888888888888888,\"#fdca26\"],[1.0,\"#f0f921\"]]}],\"choropleth\":[{\"type\":\"choropleth\",\"colorbar\":{\"outlinewidth\":0,\"ticks\":\"\"}}],\"histogram2d\":[{\"type\":\"histogram2d\",\"colorbar\":{\"outlinewidth\":0,\"ticks\":\"\"},\"colorscale\":[[0.0,\"#0d0887\"],[0.1111111111111111,\"#46039f\"],[0.2222222222222222,\"#7201a8\"],[0.3333333333333333,\"#9c179e\"],[0.4444444444444444,\"#bd3786\"],[0.5555555555555556,\"#d8576b\"],[0.6666666666666666,\"#ed7953\"],[0.7777777777777778,\"#fb9f3a\"],[0.8888888888888888,\"#fdca26\"],[1.0,\"#f0f921\"]]}],\"heatmap\":[{\"type\":\"heatmap\",\"colorbar\":{\"outlinewidth\":0,\"ticks\":\"\"},\"colorscale\":[[0.0,\"#0d0887\"],[0.1111111111111111,\"#46039f\"],[0.2222222222222222,\"#7201a8\"],[0.3333333333333333,\"#9c179e\"],[0.4444444444444444,\"#bd3786\"],[0.5555555555555556,\"#d8576b\"],[0.6666666666666666,\"#ed7953\"],[0.7777777777777778,\"#fb9f3a\"],[0.8888888888888888,\"#fdca26\"],[1.0,\"#f0f921\"]]}],\"heatmapgl\":[{\"type\":\"heatmapgl\",\"colorbar\":{\"outlinewidth\":0,\"ticks\":\"\"},\"colorscale\":[[0.0,\"#0d0887\"],[0.1111111111111111,\"#46039f\"],[0.2222222222222222,\"#7201a8\"],[0.3333333333333333,\"#9c179e\"],[0.4444444444444444,\"#bd3786\"],[0.5555555555555556,\"#d8576b\"],[0.6666666666666666,\"#ed7953\"],[0.7777777777777778,\"#fb9f3a\"],[0.8888888888888888,\"#fdca26\"],[1.0,\"#f0f921\"]]}],\"contourcarpet\":[{\"type\":\"contourcarpet\",\"colorbar\":{\"outlinewidth\":0,\"ticks\":\"\"}}],\"contour\":[{\"type\":\"contour\",\"colorbar\":{\"outlinewidth\":0,\"ticks\":\"\"},\"colorscale\":[[0.0,\"#0d0887\"],[0.1111111111111111,\"#46039f\"],[0.2222222222222222,\"#7201a8\"],[0.3333333333333333,\"#9c179e\"],[0.4444444444444444,\"#bd3786\"],[0.5555555555555556,\"#d8576b\"],[0.6666666666666666,\"#ed7953\"],[0.7777777777777778,\"#fb9f3a\"],[0.8888888888888888,\"#fdca26\"],[1.0,\"#f0f921\"]]}],\"surface\":[{\"type\":\"surface\",\"colorbar\":{\"outlinewidth\":0,\"ticks\":\"\"},\"colorscale\":[[0.0,\"#0d0887\"],[0.1111111111111111,\"#46039f\"],[0.2222222222222222,\"#7201a8\"],[0.3333333333333333,\"#9c179e\"],[0.4444444444444444,\"#bd3786\"],[0.5555555555555556,\"#d8576b\"],[0.6666666666666666,\"#ed7953\"],[0.7777777777777778,\"#fb9f3a\"],[0.8888888888888888,\"#fdca26\"],[1.0,\"#f0f921\"]]}],\"mesh3d\":[{\"type\":\"mesh3d\",\"colorbar\":{\"outlinewidth\":0,\"ticks\":\"\"}}],\"scatter\":[{\"fillpattern\":{\"fillmode\":\"overlay\",\"size\":10,\"solidity\":0.2},\"type\":\"scatter\"}],\"parcoords\":[{\"type\":\"parcoords\",\"line\":{\"colorbar\":{\"outlinewidth\":0,\"ticks\":\"\"}}}],\"scatterpolargl\":[{\"type\":\"scatterpolargl\",\"marker\":{\"colorbar\":{\"outlinewidth\":0,\"ticks\":\"\"}}}],\"bar\":[{\"error_x\":{\"color\":\"#2a3f5f\"},\"error_y\":{\"color\":\"#2a3f5f\"},\"marker\":{\"line\":{\"color\":\"#E5ECF6\",\"width\":0.5},\"pattern\":{\"fillmode\":\"overlay\",\"size\":10,\"solidity\":0.2}},\"type\":\"bar\"}],\"scattergeo\":[{\"type\":\"scattergeo\",\"marker\":{\"colorbar\":{\"outlinewidth\":0,\"ticks\":\"\"}}}],\"scatterpolar\":[{\"type\":\"scatterpolar\",\"marker\":{\"colorbar\":{\"outlinewidth\":0,\"ticks\":\"\"}}}],\"histogram\":[{\"marker\":{\"pattern\":{\"fillmode\":\"overlay\",\"size\":10,\"solidity\":0.2}},\"type\":\"histogram\"}],\"scattergl\":[{\"type\":\"scattergl\",\"marker\":{\"colorbar\":{\"outlinewidth\":0,\"ticks\":\"\"}}}],\"scatter3d\":[{\"type\":\"scatter3d\",\"line\":{\"colorbar\":{\"outlinewidth\":0,\"ticks\":\"\"}},\"marker\":{\"colorbar\":{\"outlinewidth\":0,\"ticks\":\"\"}}}],\"scattermapbox\":[{\"type\":\"scattermapbox\",\"marker\":{\"colorbar\":{\"outlinewidth\":0,\"ticks\":\"\"}}}],\"scatterternary\":[{\"type\":\"scatterternary\",\"marker\":{\"colorbar\":{\"outlinewidth\":0,\"ticks\":\"\"}}}],\"scattercarpet\":[{\"type\":\"scattercarpet\",\"marker\":{\"colorbar\":{\"outlinewidth\":0,\"ticks\":\"\"}}}],\"carpet\":[{\"aaxis\":{\"endlinecolor\":\"#2a3f5f\",\"gridcolor\":\"white\",\"linecolor\":\"white\",\"minorgridcolor\":\"white\",\"startlinecolor\":\"#2a3f5f\"},\"baxis\":{\"endlinecolor\":\"#2a3f5f\",\"gridcolor\":\"white\",\"linecolor\":\"white\",\"minorgridcolor\":\"white\",\"startlinecolor\":\"#2a3f5f\"},\"type\":\"carpet\"}],\"table\":[{\"cells\":{\"fill\":{\"color\":\"#EBF0F8\"},\"line\":{\"color\":\"white\"}},\"header\":{\"fill\":{\"color\":\"#C8D4E3\"},\"line\":{\"color\":\"white\"}},\"type\":\"table\"}],\"barpolar\":[{\"marker\":{\"line\":{\"color\":\"#E5ECF6\",\"width\":0.5},\"pattern\":{\"fillmode\":\"overlay\",\"size\":10,\"solidity\":0.2}},\"type\":\"barpolar\"}],\"pie\":[{\"automargin\":true,\"type\":\"pie\"}]},\"layout\":{\"autotypenumbers\":\"strict\",\"colorway\":[\"#636efa\",\"#EF553B\",\"#00cc96\",\"#ab63fa\",\"#FFA15A\",\"#19d3f3\",\"#FF6692\",\"#B6E880\",\"#FF97FF\",\"#FECB52\"],\"font\":{\"color\":\"#2a3f5f\"},\"hovermode\":\"closest\",\"hoverlabel\":{\"align\":\"left\"},\"paper_bgcolor\":\"white\",\"plot_bgcolor\":\"#E5ECF6\",\"polar\":{\"bgcolor\":\"#E5ECF6\",\"angularaxis\":{\"gridcolor\":\"white\",\"linecolor\":\"white\",\"ticks\":\"\"},\"radialaxis\":{\"gridcolor\":\"white\",\"linecolor\":\"white\",\"ticks\":\"\"}},\"ternary\":{\"bgcolor\":\"#E5ECF6\",\"aaxis\":{\"gridcolor\":\"white\",\"linecolor\":\"white\",\"ticks\":\"\"},\"baxis\":{\"gridcolor\":\"white\",\"linecolor\":\"white\",\"ticks\":\"\"},\"caxis\":{\"gridcolor\":\"white\",\"linecolor\":\"white\",\"ticks\":\"\"}},\"coloraxis\":{\"colorbar\":{\"outlinewidth\":0,\"ticks\":\"\"}},\"colorscale\":{\"sequential\":[[0.0,\"#0d0887\"],[0.1111111111111111,\"#46039f\"],[0.2222222222222222,\"#7201a8\"],[0.3333333333333333,\"#9c179e\"],[0.4444444444444444,\"#bd3786\"],[0.5555555555555556,\"#d8576b\"],[0.6666666666666666,\"#ed7953\"],[0.7777777777777778,\"#fb9f3a\"],[0.8888888888888888,\"#fdca26\"],[1.0,\"#f0f921\"]],\"sequentialminus\":[[0.0,\"#0d0887\"],[0.1111111111111111,\"#46039f\"],[0.2222222222222222,\"#7201a8\"],[0.3333333333333333,\"#9c179e\"],[0.4444444444444444,\"#bd3786\"],[0.5555555555555556,\"#d8576b\"],[0.6666666666666666,\"#ed7953\"],[0.7777777777777778,\"#fb9f3a\"],[0.8888888888888888,\"#fdca26\"],[1.0,\"#f0f921\"]],\"diverging\":[[0,\"#8e0152\"],[0.1,\"#c51b7d\"],[0.2,\"#de77ae\"],[0.3,\"#f1b6da\"],[0.4,\"#fde0ef\"],[0.5,\"#f7f7f7\"],[0.6,\"#e6f5d0\"],[0.7,\"#b8e186\"],[0.8,\"#7fbc41\"],[0.9,\"#4d9221\"],[1,\"#276419\"]]},\"xaxis\":{\"gridcolor\":\"white\",\"linecolor\":\"white\",\"ticks\":\"\",\"title\":{\"standoff\":15},\"zerolinecolor\":\"white\",\"automargin\":true,\"zerolinewidth\":2},\"yaxis\":{\"gridcolor\":\"white\",\"linecolor\":\"white\",\"ticks\":\"\",\"title\":{\"standoff\":15},\"zerolinecolor\":\"white\",\"automargin\":true,\"zerolinewidth\":2},\"scene\":{\"xaxis\":{\"backgroundcolor\":\"#E5ECF6\",\"gridcolor\":\"white\",\"linecolor\":\"white\",\"showbackground\":true,\"ticks\":\"\",\"zerolinecolor\":\"white\",\"gridwidth\":2},\"yaxis\":{\"backgroundcolor\":\"#E5ECF6\",\"gridcolor\":\"white\",\"linecolor\":\"white\",\"showbackground\":true,\"ticks\":\"\",\"zerolinecolor\":\"white\",\"gridwidth\":2},\"zaxis\":{\"backgroundcolor\":\"#E5ECF6\",\"gridcolor\":\"white\",\"linecolor\":\"white\",\"showbackground\":true,\"ticks\":\"\",\"zerolinecolor\":\"white\",\"gridwidth\":2}},\"shapedefaults\":{\"line\":{\"color\":\"#2a3f5f\"}},\"annotationdefaults\":{\"arrowcolor\":\"#2a3f5f\",\"arrowhead\":0,\"arrowwidth\":1},\"geo\":{\"bgcolor\":\"white\",\"landcolor\":\"#E5ECF6\",\"subunitcolor\":\"white\",\"showland\":true,\"showlakes\":true,\"lakecolor\":\"white\"},\"title\":{\"x\":0.05},\"mapbox\":{\"style\":\"light\"}}},\"xaxis\":{\"anchor\":\"y\",\"domain\":[0.0,1.0],\"title\":{\"text\":\"Category\"}},\"yaxis\":{\"anchor\":\"x\",\"domain\":[0.0,1.0],\"title\":{\"text\":\"Value\"}},\"legend\":{\"tracegroupgap\":0},\"title\":{\"text\":\"Sample Bar Plot with Plotly\"},\"barmode\":\"relative\"},                        {\"responsive\": true}                    ).then(function(){\n",
              "                            \n",
              "var gd = document.getElementById('f664193a-aaf2-4e4e-8e23-c30bb9fa30fb');\n",
              "var x = new MutationObserver(function (mutations, observer) {{\n",
              "        var display = window.getComputedStyle(gd).display;\n",
              "        if (!display || display === 'none') {{\n",
              "            console.log([gd, 'removed!']);\n",
              "            Plotly.purge(gd);\n",
              "            observer.disconnect();\n",
              "        }}\n",
              "}});\n",
              "\n",
              "// Listen for the removal of the full notebook cells\n",
              "var notebookContainer = gd.closest('#notebook-container');\n",
              "if (notebookContainer) {{\n",
              "    x.observe(notebookContainer, {childList: true});\n",
              "}}\n",
              "\n",
              "// Listen for the clearing of the current output cell\n",
              "var outputEl = gd.closest('.output');\n",
              "if (outputEl) {{\n",
              "    x.observe(outputEl, {childList: true});\n",
              "}}\n",
              "\n",
              "                        })                };                            </script>        </div>\n",
              "</body>\n",
              "</html>"
            ]
          },
          "metadata": {}
        }
      ]
    },
    {
      "cell_type": "markdown",
      "source": [
        "  6. Create a DataFrame and add a new column based on an existing column."
      ],
      "metadata": {
        "id": "DGBBxK-Hoz6_"
      }
    },
    {
      "cell_type": "code",
      "source": [
        "import pandas as pd\n",
        "\n",
        "# Create a sample DataFrame\n",
        "data = {'A': [10, 20, 30, 40, 50],\n",
        "        'B': [1, 2, 3, 4, 5]}\n",
        "df = pd.DataFrame(data)\n",
        "\n",
        "# Add a new column 'C' based on the values in column 'A'\n",
        "df['C'] = df['A'] * 2\n",
        "\n",
        "# Display the DataFrame with the new column\n",
        "print(df)"
      ],
      "metadata": {
        "colab": {
          "base_uri": "https://localhost:8080/"
        },
        "id": "i4Wl8vfKo6Vg",
        "outputId": "99b3f767-4065-401f-89a2-6e708cfb5134"
      },
      "execution_count": 8,
      "outputs": [
        {
          "output_type": "stream",
          "name": "stdout",
          "text": [
            "    A  B    C\n",
            "0  10  1   20\n",
            "1  20  2   40\n",
            "2  30  3   60\n",
            "3  40  4   80\n",
            "4  50  5  100\n"
          ]
        }
      ]
    },
    {
      "cell_type": "markdown",
      "source": [
        "  7. Write a program to perform element-wise multiplication of two NumPy arrays."
      ],
      "metadata": {
        "id": "7L28ASvOpCBp"
      }
    },
    {
      "cell_type": "code",
      "source": [
        "import numpy as np\n",
        "\n",
        "# Create two NumPy arrays\n",
        "array1 = np.array([1, 2, 3, 4, 5])\n",
        "array2 = np.array([6, 7, 8, 9, 10])\n",
        "\n",
        "# Perform element-wise multiplication\n",
        "result_array = array1 * array2\n",
        "\n",
        "print(\"Array 1:\")\n",
        "print(array1)\n",
        "print(\"\\nArray 2:\")\n",
        "print(array2)\n",
        "print(\"\\nElement-wise multiplication result:\")\n",
        "print(result_array)"
      ],
      "metadata": {
        "colab": {
          "base_uri": "https://localhost:8080/"
        },
        "id": "7JbHQUVLpIxq",
        "outputId": "2ba91071-a04d-4033-b3ec-c889b00076d4"
      },
      "execution_count": 9,
      "outputs": [
        {
          "output_type": "stream",
          "name": "stdout",
          "text": [
            "Array 1:\n",
            "[1 2 3 4 5]\n",
            "\n",
            "Array 2:\n",
            "[ 6  7  8  9 10]\n",
            "\n",
            "Element-wise multiplication result:\n",
            "[ 6 14 24 36 50]\n"
          ]
        }
      ]
    },
    {
      "cell_type": "markdown",
      "source": [
        "  8. Create a line plot with multiple lines using Matplotlib."
      ],
      "metadata": {
        "id": "zuG81NSEpQnr"
      }
    },
    {
      "cell_type": "code",
      "source": [
        "import matplotlib.pyplot as plt\n",
        "import numpy as np\n",
        "\n",
        "# Sample data\n",
        "x = np.array([1, 2, 3, 4, 5])\n",
        "y1 = np.array([10, 12, 15, 13, 16])\n",
        "y2 = np.array([5, 8, 11, 9, 14])\n",
        "\n",
        "# Create the line plot with multiple lines\n",
        "plt.plot(x, y1, label='Line 1')\n",
        "plt.plot(x, y2, label='Line 2')\n",
        "\n",
        "# Add labels, a title, and a legend\n",
        "plt.xlabel(\"X-axis\")\n",
        "plt.ylabel(\"Y-axis\")\n",
        "plt.title(\"Line Plot with Multiple Lines\")\n",
        "plt.legend()\n",
        "\n",
        "# Display the plot\n",
        "plt.show()"
      ],
      "metadata": {
        "colab": {
          "base_uri": "https://localhost:8080/",
          "height": 472
        },
        "id": "_lbtqdK5pV6T",
        "outputId": "9a66e3e6-33f3-49ba-e0b8-d6fc40a9a393"
      },
      "execution_count": 10,
      "outputs": [
        {
          "output_type": "display_data",
          "data": {
            "text/plain": [
              "<Figure size 640x480 with 1 Axes>"
            ],
            "image/png": "[encoded data removed]"
          },
          "metadata": {}
        }
      ]
    },
    {
      "cell_type": "markdown",
      "source": [
        "  9. Generate a Pandas DataFrame and filter rows where a column value is greater than a threshold."
      ],
      "metadata": {
        "id": "kQXNvZt7pdF0"
      }
    },
    {
      "cell_type": "code",
      "source": [],
      "metadata": {
        "colab": {
          "base_uri": "https://localhost:8080/"
        },
        "id": "Jqwiqo66pr8e",
        "outputId": "17980f6e-895e-49ab-e5e7-c78426714e29"
      },
      "execution_count": 11,
      "outputs": [
        {
          "output_type": "stream",
          "name": "stdout",
          "text": [
            "Original DataFrame:\n",
            "    A  B\n",
            "0  10  1\n",
            "1  20  5\n",
            "2  30  3\n",
            "3  40  8\n",
            "4  50  2\n",
            "\n",
            "Filtered DataFrame (where 'B' > 3):\n",
            "    A  B\n",
            "1  20  5\n",
            "3  40  8\n"
          ]
        }
      ]
    },
    {
      "cell_type": "markdown",
      "source": [
        "  10. Create a histogram using Seaborn to visualize a distribution."
      ],
      "metadata": {
        "id": "rUNFVukrpzkO"
      }
    },
    {
      "cell_type": "code",
      "source": [],
      "metadata": {
        "colab": {
          "base_uri": "https://localhost:8080/",
          "height": 564
        },
        "id": "jyzBznhpp5cq",
        "outputId": "d03a78e4-db76-41b7-82d6-1cc6e7a2a3ac"
      },
      "execution_count": 12,
      "outputs": [
        {
          "output_type": "display_data",
          "data": {
            "text/plain": [
              "<Figure size 800x600 with 1 Axes>"
            ],
            "image/png": "[encoded data removed]"
          },
          "metadata": {}
        }
      ]
    },
    {
      "cell_type": "markdown",
      "source": [
        "  11.  Perform matrix multiplication using NumPy."
      ],
      "metadata": {
        "id": "bP9s3fgOp_yG"
      }
    },
    {
      "cell_type": "code",
      "source": [],
      "metadata": {
        "colab": {
          "base_uri": "https://localhost:8080/"
        },
        "id": "f3YTfVsAqG0g",
        "outputId": "a460947c-38ab-45b8-df1e-5cfdc037ccb9"
      },
      "execution_count": 13,
      "outputs": [
        {
          "output_type": "stream",
          "name": "stdout",
          "text": [
            "Matrix 1:\n",
            "[[1 2]\n",
            " [3 4]]\n",
            "\n",
            "Matrix 2:\n",
            "[[5 6]\n",
            " [7 8]]\n",
            "\n",
            "Result of matrix multiplication:\n",
            "[[19 22]\n",
            " [43 50]]\n"
          ]
        }
      ]
    },
    {
      "cell_type": "markdown",
      "source": [
        "  12. Use Pandas to load a CSV file and display its first 5 rows."
      ],
      "metadata": {
        "id": "S7Rm4VSGqNF5"
      }
    },
    {
      "cell_type": "code",
      "source": [],
      "metadata": {
        "colab": {
          "base_uri": "https://localhost:8080/"
        },
        "id": "H16N2GQGqSTx",
        "outputId": "6f4ae05d-b561-4358-d2fa-3ae582c9711e"
      },
      "execution_count": 14,
      "outputs": [
        {
          "output_type": "stream",
          "name": "stdout",
          "text": [
            "First 5 rows of the DataFrame:\n",
            "   col1 col2\n",
            "0     1    A\n",
            "1     2    B\n",
            "2     3    C\n",
            "3     4    D\n",
            "4     5    E\n"
          ]
        }
      ]
    },
    {
      "cell_type": "markdown",
      "source": [
        "  13. Create a 3D scatter plot using Plotly."
      ],
      "metadata": {
        "id": "Yq-z7BnkqZLS"
      }
    },
    {
      "cell_type": "code",
      "source": [
        "import plotly.express as px\n",
        "import pandas as pd\n",
        "import numpy as np\n",
        "\n",
        "# Create a sample DataFrame with 3D data\n",
        "np.random.seed(42) # for reproducibility\n",
        "data = {'X': np.random.rand(100),\n",
        "        'Y': np.random.rand(100),\n",
        "        'Z': np.random.rand(100),\n",
        "        'Size': np.random.rand(100) * 30,\n",
        "        'Color': np.random.rand(100)}\n",
        "df = pd.DataFrame(data)\n",
        "\n",
        "# Create a 3D scatter plot\n",
        "fig = px.scatter_3d(df, x='X', y='Y', z='Z',\n",
        "                    size='Size', color='Color',\n",
        "                    title='Sample 3D Scatter Plot with Plotly')\n",
        "\n",
        "# Display the plot\n",
        "fig.show()"
      ],
      "metadata": {
        "colab": {
          "base_uri": "https://localhost:8080/",
          "height": 542
        },
        "id": "WtkQ9F9NqewC",
        "outputId": "094a18ca-cfcd-46c8-dbd0-38124be6cc96"
      },
      "execution_count": 15,
      "outputs": [
        {
          "output_type": "display_data",
          "data": {
            "text/html": [
              "<html>\n",
              "<head><meta charset=\"utf-8\" /></head>\n",
              "<body>\n",
              "    <div>            <script src=\"https://cdnjs.cloudflare.com/ajax/libs/mathjax/2.7.5/MathJax.js?config=TeX-AMS-MML_SVG\"></script><script type=\"text/javascript\">if (window.MathJax && window.MathJax.Hub && window.MathJax.Hub.Config) {window.MathJax.Hub.Config({SVG: {font: \"STIX-Web\"}});}</script>                <script type=\"text/javascript\">window.PlotlyConfig = {MathJaxConfig: 'local'};</script>\n",
              "        <script charset=\"utf-8\" src=\"https://cdn.plot.ly/plotly-2.35.2.min.js\"></script>                <div id=\"da2e60aa-c914-4ca2-abf6-a937f5964c41\" class=\"plotly-graph-div\" style=\"height:525px; width:100%;\"></div>            <script type=\"text/javascript\">                                    window.PLOTLYENV=window.PLOTLYENV || {};                                    if (document.getElementById(\"da2e60aa-c914-4ca2-abf6-a937f5964c41\")) {                    Plotly.newPlot(                        \"da2e60aa-c914-4ca2-abf6-a937f5964c41\",                        [{\"hovertemplate\":\"X=%{x}\\u003cbr\\u003eY=%{y}\\u003cbr\\u003eZ=%{z}\\u003cbr\\u003eSize=%{marker.size}\\u003cbr\\u003eColor=%{marker.color}\\u003cextra\\u003e\\u003c\\u002fextra\\u003e\",\"legendgroup\":\"\",\"marker\":{\"color\":[0.10312386883593261,0.9025529066795667,0.5052523724478571,0.8264574661077416,0.32004960103061175,0.8955232284962005,0.3892016787341631,0.01083765148029836,0.9053819764192637,0.09128667678613356,0.31931363759041487,0.9500619670508049,0.9506071469375561,0.5734378881232861,0.6318372121697993,0.44844552197831977,0.29321077169806453,0.32866454536991596,0.6725184560770384,0.75237452943768,0.7915790437258485,0.7896181427945539,0.09120610304869037,0.49442030470258147,0.057558760016644284,0.5495288823237355,0.441530501373377,0.8877041827582998,0.3509150125520787,0.11706701642760586,0.14299168205283586,0.7615106317174722,0.6182180633162611,0.10112267612279024,0.08410680611499743,0.70096913145912,0.07276300636419353,0.8218600592903562,0.7062422271564962,0.08134878064189976,0.08483771408519192,0.9866395785011755,0.3742707957561203,0.3706421470668909,0.8127995672575026,0.9472485773838587,0.9860010638228709,0.7533781852589416,0.37625958553091576,0.08350071669866876,0.7771469159274368,0.558404249735805,0.4242220092469763,0.906354385094736,0.11119748230615134,0.49262510429085915,0.011353644767419069,0.46866064199412627,0.05630327568183735,0.11881791626807192,0.11752624677710488,0.6492103021160636,0.7460448792654233,0.5833687650971596,0.9621725484745419,0.37487057952370406,0.28571208628186073,0.8685991281894603,0.22359583851945264,0.9632225394406113,0.012154474689816341,0.969878826707639,0.04315991195057611,0.8911431136980711,0.5277011090862999,0.9929647961193003,0.07379656473539886,0.5538542844013208,0.969302535619099,0.5230978441701488,0.6293986381352625,0.6957486889846172,0.45454106476777323,0.6275580800840634,0.5843143119231002,0.901158010490989,0.04544638034145787,0.2809631895922303,0.9504114840765587,0.8902637838909163,0.45565675278571294,0.6201325978015367,0.2773811829811327,0.1881211597237613,0.46369840493998216,0.3533522280260528,0.5836561118508721,0.07773463696498484,0.9743948076661665,0.9862107444796029],\"coloraxis\":\"coloraxis\",\"size\":[1.550451635058231,15.94063894704444,16.219053648303195,19.122897044946196,21.782740011679845,29.27556238387604,15.48901044903586,9.68869418823738,23.85558584306111,8.124967537862226,13.169142621169083,2.353691440267979,0.7605223024637253,28.87945244033775,25.079403615366175,20.87922618281094,12.268588332428097,5.1988296021253735,4.693111280132581,7.50728694493786,16.476799941183614,21.43787768100187,19.80592130153194,8.398016908378285,28.645958419895823,22.136907500873054,16.63062157534202,18.351622387030567,12.588001872833697,7.431929685034724,10.679180359537847,22.735383313931074,0.43180465889267605,3.482179215207487,1.3800792606525825,1.221864069569104,25.663817520330216,21.109735781400712,14.225214872619755,2.935024819530044,14.74847625350497,14.20415312341697,5.196056097300455,13.01554947713919,11.955142031921204,18.475502941566493,19.052809526029314,1.3591202931613355,11.238378438794136,18.77579747142709,15.094087757402631,25.694695235649668,19.76080894856835,4.888032812442891,2.1170624220128955,19.27257834618947,0.7953393162486544,17.5732674382039,28.206907242748727,17.26422533627637,11.645097786195658,19.298646553270594,13.747586714745498,16.36850367947805,28.243944263295756,11.583079134023228,28.835716914717427,27.160519258681912,5.873734043678893,2.0808390262549636,3.0233400413227995,0.5466547695464918,2.8332888226778516,20.490203202490704,2.13565945380687,9.56926890881284,25.346259329083637,0.698158072074776,24.434054477668074,8.455643243201997,3.5449448286496876,20.902114960924518,18.86828540339652,26.32416040581159,22.052131314116572,24.104427911545457,8.461037177139195,5.323186313391685,22.51844254922575,24.20504217801792,29.7151542600202,12.378530307342794,11.160542573783495,23.292388822259905,10.224106207590536,27.92271976810694,25.752382555290353,12.869820821250551,22.526132033744922,22.63628622254047],\"sizemode\":\"area\",\"sizeref\":0.0742878856500505,\"symbol\":\"circle\"},\"mode\":\"markers\",\"name\":\"\",\"scene\":\"scene\",\"showlegend\":false,\"x\":[0.3745401188473625,0.9507143064099162,0.7319939418114051,0.5986584841970366,0.15601864044243652,0.15599452033620265,0.05808361216819946,0.8661761457749352,0.6011150117432088,0.7080725777960455,0.020584494295802447,0.9699098521619943,0.8324426408004217,0.21233911067827616,0.18182496720710062,0.18340450985343382,0.3042422429595377,0.5247564316322378,0.43194501864211576,0.2912291401980419,0.6118528947223795,0.13949386065204183,0.29214464853521815,0.3663618432936917,0.45606998421703593,0.7851759613930136,0.19967378215835974,0.5142344384136116,0.5924145688620425,0.046450412719997725,0.6075448519014384,0.17052412368729153,0.06505159298527952,0.9488855372533332,0.9656320330745594,0.8083973481164611,0.3046137691733707,0.09767211400638387,0.6842330265121569,0.4401524937396013,0.12203823484477883,0.4951769101112702,0.034388521115218396,0.9093204020787821,0.2587799816000169,0.662522284353982,0.31171107608941095,0.5200680211778108,0.5467102793432796,0.18485445552552704,0.9695846277645586,0.7751328233611146,0.9394989415641891,0.8948273504276488,0.5978999788110851,0.9218742350231168,0.0884925020519195,0.1959828624191452,0.045227288910538066,0.32533033076326434,0.388677289689482,0.2713490317738959,0.8287375091519293,0.3567533266935893,0.28093450968738076,0.5426960831582485,0.14092422497476265,0.8021969807540397,0.07455064367977082,0.9868869366005173,0.7722447692966574,0.1987156815341724,0.005522117123602399,0.8154614284548342,0.7068573438476171,0.7290071680409873,0.7712703466859457,0.07404465173409036,0.3584657285442726,0.11586905952512971,0.8631034258755935,0.6232981268275579,0.3308980248526492,0.06355835028602363,0.3109823217156622,0.32518332202674705,0.7296061783380641,0.6375574713552131,0.8872127425763265,0.4722149251619493,0.1195942459383017,0.713244787222995,0.7607850486168974,0.5612771975694962,0.770967179954561,0.49379559636439074,0.5227328293819941,0.42754101835854963,0.02541912674409519,0.10789142699330445],\"y\":[0.03142918568673425,0.6364104112637804,0.3143559810763267,0.5085706911647028,0.907566473926093,0.24929222914887494,0.41038292303562973,0.7555511385430487,0.22879816549162246,0.07697990982879299,0.289751452913768,0.16122128725400442,0.9296976523425731,0.808120379564417,0.6334037565104235,0.8714605901877177,0.8036720768991145,0.18657005888603584,0.8925589984899778,0.5393422419156507,0.8074401551640625,0.8960912999234932,0.3180034749718639,0.11005192452767676,0.22793516254194168,0.4271077886262563,0.8180147659224931,0.8607305832563434,0.006952130531190703,0.5107473025775657,0.417411003148779,0.22210781047073025,0.1198653673336828,0.33761517140362796,0.9429097039125192,0.32320293202075523,0.5187906217433661,0.7030189588951778,0.363629602379294,0.9717820827209607,0.9624472949421112,0.25178229582536416,0.49724850589238545,0.30087830981676966,0.2848404943774676,0.036886947354532795,0.6095643339798968,0.5026790232288615,0.05147875124998935,0.27864646423661144,0.9082658859666537,0.23956189066697242,0.1448948720912231,0.489452760277563,0.9856504541106007,0.2420552715115004,0.6721355474058786,0.7616196153287176,0.23763754399239967,0.7282163486118596,0.3677831327192532,0.6323058305935795,0.6335297107608947,0.5357746840747585,0.0902897700544083,0.835302495589238,0.32078006497173583,0.18651851039985423,0.040775141554763916,0.5908929431882418,0.6775643618422824,0.016587828927856152,0.512093058299281,0.22649577519793795,0.6451727904094499,0.17436642900499144,0.690937738102466,0.3867353463005374,0.9367299887367345,0.13752094414599325,0.3410663510502585,0.11347352124058907,0.9246936182785628,0.877339353380981,0.2579416277151556,0.659984046034179,0.8172222002012158,0.5552008115994623,0.5296505783560065,0.24185229090045168,0.09310276780589921,0.8972157579533268,0.9004180571633305,0.6331014572732679,0.3390297910487007,0.3492095746126609,0.7259556788702394,0.8971102599525771,0.8870864242651173,0.7798755458576239],\"z\":[0.6420316461542878,0.08413996499504883,0.16162871409461377,0.8985541885270792,0.6064290596595899,0.009197051616629648,0.1014715428660321,0.6635017691080558,0.005061583846218687,0.16080805141749865,0.5487337893665861,0.6918951976926933,0.6519612595026005,0.22426930946055978,0.7121792213475359,0.23724908749680007,0.3253996981592677,0.7464914051180241,0.6496328990472147,0.8492234104941779,0.6576128923003434,0.5683086033354716,0.09367476782809248,0.3677158030594335,0.26520236768172545,0.24398964337908358,0.9730105547524456,0.3930977246667604,0.8920465551771133,0.6311386259972629,0.7948113035416484,0.5026370931051921,0.5769038846263591,0.4925176938188639,0.1952429877980445,0.7224521152615053,0.2807723624408558,0.02431596643145384,0.6454722959071678,0.17711067940704894,0.9404585843529143,0.9539285770025874,0.9148643902204485,0.3701587002554444,0.015456616528867428,0.9283185625877254,0.42818414831731433,0.9666548190436696,0.9636199770892528,0.8530094554673601,0.2944488920695857,0.38509772860192526,0.8511366715168569,0.31692200515627766,0.1694927466860925,0.5568012624583502,0.936154774160781,0.696029796674973,0.570061170089365,0.09717649377076854,0.6150072266991697,0.9900538501042633,0.14008401523652403,0.5183296523637367,0.8773730719279554,0.7407686177542044,0.697015740995268,0.7024840839871093,0.35949115121975517,0.29359184426449336,0.8093611554785136,0.8101133946791808,0.8670723185801037,0.9132405525564713,0.5113423988609378,0.5015162946871996,0.7982951789667752,0.6499639307777652,0.7019668772577033,0.795792669436101,0.8900053418175663,0.3379951568515358,0.375582952639944,0.093981939840869,0.578280140996174,0.035942273796742086,0.46559801813246016,0.5426446347075766,0.2865412521282844,0.5908332605690108,0.03050024993904943,0.03734818874921442,0.8226005606596583,0.3601906414112629,0.12706051265188478,0.5222432600548044,0.7699935530986108,0.21582102749684318,0.6228904758190003,0.085347464993768],\"type\":\"scatter3d\"}],                        {\"template\":{\"data\":{\"histogram2dcontour\":[{\"type\":\"histogram2dcontour\",\"colorbar\":{\"outlinewidth\":0,\"ticks\":\"\"},\"colorscale\":[[0.0,\"#0d0887\"],[0.1111111111111111,\"#46039f\"],[0.2222222222222222,\"#7201a8\"],[0.3333333333333333,\"#9c179e\"],[0.4444444444444444,\"#bd3786\"],[0.5555555555555556,\"#d8576b\"],[0.6666666666666666,\"#ed7953\"],[0.7777777777777778,\"#fb9f3a\"],[0.8888888888888888,\"#fdca26\"],[1.0,\"#f0f921\"]]}],\"choropleth\":[{\"type\":\"choropleth\",\"colorbar\":{\"outlinewidth\":0,\"ticks\":\"\"}}],\"histogram2d\":[{\"type\":\"histogram2d\",\"colorbar\":{\"outlinewidth\":0,\"ticks\":\"\"},\"colorscale\":[[0.0,\"#0d0887\"],[0.1111111111111111,\"#46039f\"],[0.2222222222222222,\"#7201a8\"],[0.3333333333333333,\"#9c179e\"],[0.4444444444444444,\"#bd3786\"],[0.5555555555555556,\"#d8576b\"],[0.6666666666666666,\"#ed7953\"],[0.7777777777777778,\"#fb9f3a\"],[0.8888888888888888,\"#fdca26\"],[1.0,\"#f0f921\"]]}],\"heatmap\":[{\"type\":\"heatmap\",\"colorbar\":{\"outlinewidth\":0,\"ticks\":\"\"},\"colorscale\":[[0.0,\"#0d0887\"],[0.1111111111111111,\"#46039f\"],[0.2222222222222222,\"#7201a8\"],[0.3333333333333333,\"#9c179e\"],[0.4444444444444444,\"#bd3786\"],[0.5555555555555556,\"#d8576b\"],[0.6666666666666666,\"#ed7953\"],[0.7777777777777778,\"#fb9f3a\"],[0.8888888888888888,\"#fdca26\"],[1.0,\"#f0f921\"]]}],\"heatmapgl\":[{\"type\":\"heatmapgl\",\"colorbar\":{\"outlinewidth\":0,\"ticks\":\"\"},\"colorscale\":[[0.0,\"#0d0887\"],[0.1111111111111111,\"#46039f\"],[0.2222222222222222,\"#7201a8\"],[0.3333333333333333,\"#9c179e\"],[0.4444444444444444,\"#bd3786\"],[0.5555555555555556,\"#d8576b\"],[0.6666666666666666,\"#ed7953\"],[0.7777777777777778,\"#fb9f3a\"],[0.8888888888888888,\"#fdca26\"],[1.0,\"#f0f921\"]]}],\"contourcarpet\":[{\"type\":\"contourcarpet\",\"colorbar\":{\"outlinewidth\":0,\"ticks\":\"\"}}],\"contour\":[{\"type\":\"contour\",\"colorbar\":{\"outlinewidth\":0,\"ticks\":\"\"},\"colorscale\":[[0.0,\"#0d0887\"],[0.1111111111111111,\"#46039f\"],[0.2222222222222222,\"#7201a8\"],[0.3333333333333333,\"#9c179e\"],[0.4444444444444444,\"#bd3786\"],[0.5555555555555556,\"#d8576b\"],[0.6666666666666666,\"#ed7953\"],[0.7777777777777778,\"#fb9f3a\"],[0.8888888888888888,\"#fdca26\"],[1.0,\"#f0f921\"]]}],\"surface\":[{\"type\":\"surface\",\"colorbar\":{\"outlinewidth\":0,\"ticks\":\"\"},\"colorscale\":[[0.0,\"#0d0887\"],[0.1111111111111111,\"#46039f\"],[0.2222222222222222,\"#7201a8\"],[0.3333333333333333,\"#9c179e\"],[0.4444444444444444,\"#bd3786\"],[0.5555555555555556,\"#d8576b\"],[0.6666666666666666,\"#ed7953\"],[0.7777777777777778,\"#fb9f3a\"],[0.8888888888888888,\"#fdca26\"],[1.0,\"#f0f921\"]]}],\"mesh3d\":[{\"type\":\"mesh3d\",\"colorbar\":{\"outlinewidth\":0,\"ticks\":\"\"}}],\"scatter\":[{\"fillpattern\":{\"fillmode\":\"overlay\",\"size\":10,\"solidity\":0.2},\"type\":\"scatter\"}],\"parcoords\":[{\"type\":\"parcoords\",\"line\":{\"colorbar\":{\"outlinewidth\":0,\"ticks\":\"\"}}}],\"scatterpolargl\":[{\"type\":\"scatterpolargl\",\"marker\":{\"colorbar\":{\"outlinewidth\":0,\"ticks\":\"\"}}}],\"bar\":[{\"error_x\":{\"color\":\"#2a3f5f\"},\"error_y\":{\"color\":\"#2a3f5f\"},\"marker\":{\"line\":{\"color\":\"#E5ECF6\",\"width\":0.5},\"pattern\":{\"fillmode\":\"overlay\",\"size\":10,\"solidity\":0.2}},\"type\":\"bar\"}],\"scattergeo\":[{\"type\":\"scattergeo\",\"marker\":{\"colorbar\":{\"outlinewidth\":0,\"ticks\":\"\"}}}],\"scatterpolar\":[{\"type\":\"scatterpolar\",\"marker\":{\"colorbar\":{\"outlinewidth\":0,\"ticks\":\"\"}}}],\"histogram\":[{\"marker\":{\"pattern\":{\"fillmode\":\"overlay\",\"size\":10,\"solidity\":0.2}},\"type\":\"histogram\"}],\"scattergl\":[{\"type\":\"scattergl\",\"marker\":{\"colorbar\":{\"outlinewidth\":0,\"ticks\":\"\"}}}],\"scatter3d\":[{\"type\":\"scatter3d\",\"line\":{\"colorbar\":{\"outlinewidth\":0,\"ticks\":\"\"}},\"marker\":{\"colorbar\":{\"outlinewidth\":0,\"ticks\":\"\"}}}],\"scattermapbox\":[{\"type\":\"scattermapbox\",\"marker\":{\"colorbar\":{\"outlinewidth\":0,\"ticks\":\"\"}}}],\"scatterternary\":[{\"type\":\"scatterternary\",\"marker\":{\"colorbar\":{\"outlinewidth\":0,\"ticks\":\"\"}}}],\"scattercarpet\":[{\"type\":\"scattercarpet\",\"marker\":{\"colorbar\":{\"outlinewidth\":0,\"ticks\":\"\"}}}],\"carpet\":[{\"aaxis\":{\"endlinecolor\":\"#2a3f5f\",\"gridcolor\":\"white\",\"linecolor\":\"white\",\"minorgridcolor\":\"white\",\"startlinecolor\":\"#2a3f5f\"},\"baxis\":{\"endlinecolor\":\"#2a3f5f\",\"gridcolor\":\"white\",\"linecolor\":\"white\",\"minorgridcolor\":\"white\",\"startlinecolor\":\"#2a3f5f\"},\"type\":\"carpet\"}],\"table\":[{\"cells\":{\"fill\":{\"color\":\"#EBF0F8\"},\"line\":{\"color\":\"white\"}},\"header\":{\"fill\":{\"color\":\"#C8D4E3\"},\"line\":{\"color\":\"white\"}},\"type\":\"table\"}],\"barpolar\":[{\"marker\":{\"line\":{\"color\":\"#E5ECF6\",\"width\":0.5},\"pattern\":{\"fillmode\":\"overlay\",\"size\":10,\"solidity\":0.2}},\"type\":\"barpolar\"}],\"pie\":[{\"automargin\":true,\"type\":\"pie\"}]},\"layout\":{\"autotypenumbers\":\"strict\",\"colorway\":[\"#636efa\",\"#EF553B\",\"#00cc96\",\"#ab63fa\",\"#FFA15A\",\"#19d3f3\",\"#FF6692\",\"#B6E880\",\"#FF97FF\",\"#FECB52\"],\"font\":{\"color\":\"#2a3f5f\"},\"hovermode\":\"closest\",\"hoverlabel\":{\"align\":\"left\"},\"paper_bgcolor\":\"white\",\"plot_bgcolor\":\"#E5ECF6\",\"polar\":{\"bgcolor\":\"#E5ECF6\",\"angularaxis\":{\"gridcolor\":\"white\",\"linecolor\":\"white\",\"ticks\":\"\"},\"radialaxis\":{\"gridcolor\":\"white\",\"linecolor\":\"white\",\"ticks\":\"\"}},\"ternary\":{\"bgcolor\":\"#E5ECF6\",\"aaxis\":{\"gridcolor\":\"white\",\"linecolor\":\"white\",\"ticks\":\"\"},\"baxis\":{\"gridcolor\":\"white\",\"linecolor\":\"white\",\"ticks\":\"\"},\"caxis\":{\"gridcolor\":\"white\",\"linecolor\":\"white\",\"ticks\":\"\"}},\"coloraxis\":{\"colorbar\":{\"outlinewidth\":0,\"ticks\":\"\"}},\"colorscale\":{\"sequential\":[[0.0,\"#0d0887\"],[0.1111111111111111,\"#46039f\"],[0.2222222222222222,\"#7201a8\"],[0.3333333333333333,\"#9c179e\"],[0.4444444444444444,\"#bd3786\"],[0.5555555555555556,\"#d8576b\"],[0.6666666666666666,\"#ed7953\"],[0.7777777777777778,\"#fb9f3a\"],[0.8888888888888888,\"#fdca26\"],[1.0,\"#f0f921\"]],\"sequentialminus\":[[0.0,\"#0d0887\"],[0.1111111111111111,\"#46039f\"],[0.2222222222222222,\"#7201a8\"],[0.3333333333333333,\"#9c179e\"],[0.4444444444444444,\"#bd3786\"],[0.5555555555555556,\"#d8576b\"],[0.6666666666666666,\"#ed7953\"],[0.7777777777777778,\"#fb9f3a\"],[0.8888888888888888,\"#fdca26\"],[1.0,\"#f0f921\"]],\"diverging\":[[0,\"#8e0152\"],[0.1,\"#c51b7d\"],[0.2,\"#de77ae\"],[0.3,\"#f1b6da\"],[0.4,\"#fde0ef\"],[0.5,\"#f7f7f7\"],[0.6,\"#e6f5d0\"],[0.7,\"#b8e186\"],[0.8,\"#7fbc41\"],[0.9,\"#4d9221\"],[1,\"#276419\"]]},\"xaxis\":{\"gridcolor\":\"white\",\"linecolor\":\"white\",\"ticks\":\"\",\"title\":{\"standoff\":15},\"zerolinecolor\":\"white\",\"automargin\":true,\"zerolinewidth\":2},\"yaxis\":{\"gridcolor\":\"white\",\"linecolor\":\"white\",\"ticks\":\"\",\"title\":{\"standoff\":15},\"zerolinecolor\":\"white\",\"automargin\":true,\"zerolinewidth\":2},\"scene\":{\"xaxis\":{\"backgroundcolor\":\"#E5ECF6\",\"gridcolor\":\"white\",\"linecolor\":\"white\",\"showbackground\":true,\"ticks\":\"\",\"zerolinecolor\":\"white\",\"gridwidth\":2},\"yaxis\":{\"backgroundcolor\":\"#E5ECF6\",\"gridcolor\":\"white\",\"linecolor\":\"white\",\"showbackground\":true,\"ticks\":\"\",\"zerolinecolor\":\"white\",\"gridwidth\":2},\"zaxis\":{\"backgroundcolor\":\"#E5ECF6\",\"gridcolor\":\"white\",\"linecolor\":\"white\",\"showbackground\":true,\"ticks\":\"\",\"zerolinecolor\":\"white\",\"gridwidth\":2}},\"shapedefaults\":{\"line\":{\"color\":\"#2a3f5f\"}},\"annotationdefaults\":{\"arrowcolor\":\"#2a3f5f\",\"arrowhead\":0,\"arrowwidth\":1},\"geo\":{\"bgcolor\":\"white\",\"landcolor\":\"#E5ECF6\",\"subunitcolor\":\"white\",\"showland\":true,\"showlakes\":true,\"lakecolor\":\"white\"},\"title\":{\"x\":0.05},\"mapbox\":{\"style\":\"light\"}}},\"scene\":{\"domain\":{\"x\":[0.0,1.0],\"y\":[0.0,1.0]},\"xaxis\":{\"title\":{\"text\":\"X\"}},\"yaxis\":{\"title\":{\"text\":\"Y\"}},\"zaxis\":{\"title\":{\"text\":\"Z\"}}},\"coloraxis\":{\"colorbar\":{\"title\":{\"text\":\"Color\"}},\"colorscale\":[[0.0,\"#0d0887\"],[0.1111111111111111,\"#46039f\"],[0.2222222222222222,\"#7201a8\"],[0.3333333333333333,\"#9c179e\"],[0.4444444444444444,\"#bd3786\"],[0.5555555555555556,\"#d8576b\"],[0.6666666666666666,\"#ed7953\"],[0.7777777777777778,\"#fb9f3a\"],[0.8888888888888888,\"#fdca26\"],[1.0,\"#f0f921\"]]},\"legend\":{\"tracegroupgap\":0,\"itemsizing\":\"constant\"},\"title\":{\"text\":\"Sample 3D Scatter Plot with Plotly\"}},                        {\"responsive\": true}                    ).then(function(){\n",
              "                            \n",
              "var gd = document.getElementById('da2e60aa-c914-4ca2-abf6-a937f5964c41');\n",
              "var x = new MutationObserver(function (mutations, observer) {{\n",
              "        var display = window.getComputedStyle(gd).display;\n",
              "        if (!display || display === 'none') {{\n",
              "            console.log([gd, 'removed!']);\n",
              "            Plotly.purge(gd);\n",
              "            observer.disconnect();\n",
              "        }}\n",
              "}});\n",
              "\n",
              "// Listen for the removal of the full notebook cells\n",
              "var notebookContainer = gd.closest('#notebook-container');\n",
              "if (notebookContainer) {{\n",
              "    x.observe(notebookContainer, {childList: true});\n",
              "}}\n",
              "\n",
              "// Listen for the clearing of the current output cell\n",
              "var outputEl = gd.closest('.output');\n",
              "if (outputEl) {{\n",
              "    x.observe(outputEl, {childList: true});\n",
              "}}\n",
              "\n",
              "                        })                };                            </script>        </div>\n",
              "</body>\n",
              "</html>"
            ]
          },
          "metadata": {}
        }
      ]
    }
  ]
}